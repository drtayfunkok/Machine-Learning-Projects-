{
  "cells": [
    {
      "cell_type": "markdown",
      "metadata": {
        "id": "i_Bh82FG-QPv"
      },
      "source": [
        "## <p style=\"background-color:#FDFEFE; font-family:newtimeroman; color:#060108; font-size:200%; text-align:center; border-radius:10px 10px;\"> ML Classification Project</p>\n",
        "\n",
        "## <p style=\"background-color:#FDFEFE; font-family:newtimeroman; color:#060108; font-size:150%; text-align:center; border-radius:10px 10px;\">Soldier Race</p>\n",
        "\n",
        "## <p style=\"background-color:#FDFEFE; font-family:newtimeroman; color:#060108; font-size:100%; text-align:center; border-radius:10px 10px;\">Tayfun Kok </p>"
      ]
    },
    {
      "cell_type": "markdown",
      "metadata": {
        "id": "FQkAGwvz-QPx"
      },
      "source": [
        "<a id=\"74\"></a>\n",
        "## <p style=\"background-color:#1874CD; font-family:newtimeroman; color:#FFF9ED; font-size:130%; text-align:center; border-radius:10px 10px;\">Table of Contents</p>\n",
        "\n",
        "* [Introduction](#0)\n",
        "* [Importing Related Libraries](#1)\n",
        "* [Exploratory Data Analysis (EDA)](#2)\n",
        "* [Data Preprocessing](#3)    \n",
        "* [Modelling and Model Performance](#4)\n",
        "* [SMOTE](#5)"
      ]
    },
    {
      "cell_type": "markdown",
      "metadata": {
        "id": "KbilZjxN-QPy"
      },
      "source": [
        "# <p style=\"background-color:#1874CD; font-family:newtimeroman; color:#FFF9ED; font-size:130%; text-align:center; border-radius:10px 10px;\">Introduction</p>\n",
        "<a id=\"0\"></a>\n",
        "<a href=\"#74\" class=\"btn btn-primary btn-sm\" role=\"button\" aria-pressed=\"true\" \n",
        "style=\"color:blue; background-color:#dfa8e4\" data-toggle=\"popover\">Table of Contents</a>"
      ]
    },
    {
      "cell_type": "markdown",
      "metadata": {
        "id": "nDE9rvUJ-QPz"
      },
      "source": [
        "The 2012 US Army Anthropometric Survey (ANSUR II) was executed by the Natick Soldier Research, Development and Engineering Center (NSRDEC) from October 2010 to April 2012 and is comprised of personnel representing the total US Army force to include the US Army Active Duty, Reserves, and National Guard. In addition to the anthropometric and demographic data described below, the ANSUR II database also consists of 3D whole body, foot, and head scans of Soldier participants. These 3D data are not publicly available out of respect for the privacy of ANSUR II participants. The data from this survey are used for a wide range of equipment design, sizing, and tariffing applications within the military and has many potential commercial, industrial, and academic applications.\n",
        "\n",
        "The ANSUR II working databases contain 93 anthropometric measurements which were directly measured, and 15 demographic/administrative variables explained below. The ANSUR II Male working database contains a total sample of 4,082 subjects. The ANSUR II Female working database contains a total sample of 1,986 subjects.\n",
        "\n",
        "\n",
        "DATA DICT:\n",
        "https://data.world/datamil/ansur-ii-data-dictionary/workspace/file?filename=ANSUR+II+Databases+Overview.pdf\n",
        "\n",
        "---\n",
        "\n",
        "To achieve high prediction success, you must understand the data well and develop different approaches that can affect the dependent variable.\n",
        "\n",
        "Firstly, try to understand the dataset column by column using pandas module. Do research within the scope of domain (body scales, and race characteristics) knowledge on the internet to get to know the data set in the fastest way. \n",
        "\n",
        "You will implement ***Logistic Regression, Support Vector Machine, XGBoost, Random Forest*** algorithms. Also, evaluate the success of your models with appropriate performance metrics.\n",
        "\n",
        "At the end of the project, choose the most successful model and try to enhance the scores with ***SMOTE*** make it ready to deploy. Furthermore, use ***SHAP*** to explain how the best model you choose works."
      ]
    },
    {
      "cell_type": "markdown",
      "metadata": {
        "id": "CLcM9etm-QP0"
      },
      "source": [
        "# <p style=\"background-color:#1874CD; font-family:newtimeroman; color:#FFF9ED; font-size:130%; text-align:center; border-radius:10px 10px;\">Importing Related Libraries</p>\n",
        "\n",
        "<a id=\"1\"></a>\n",
        "<a href=\"#74\" class=\"btn btn-primary btn-sm\" role=\"button\" aria-pressed=\"true\" \n",
        "style=\"color:blue; background-color:#dfa8e4\" data-toggle=\"popover\">Table of Contents</a>"
      ]
    },
    {
      "cell_type": "code",
      "execution_count": 1,
      "metadata": {
        "ExecuteTime": {
          "end_time": "2022-09-08T21:15:16.233712Z",
          "start_time": "2022-09-08T21:15:13.401104Z"
        },
        "id": "QwO25CF0qhwb"
      },
      "outputs": [],
      "source": [
        "import warnings\n",
        "warnings.filterwarnings('ignore')\n",
        "from sklearn.preprocessing import MinMaxScaler\n",
        "from sklearn.linear_model import LogisticRegression\n",
        "from sklearn.model_selection import cross_val_score, cross_validate\n",
        "from sklearn.metrics import accuracy_score, f1_score, recall_score, precision_score\n",
        "from sklearn.metrics import make_scorer\n",
        "from sklearn.metrics import classification_report,confusion_matrix,plot_confusion_matrix, average_precision_score\n",
        "from sklearn.model_selection import GridSearchCV\n",
        "from sklearn.metrics import roc_curve, auc\n",
        "from sklearn.svm import SVC\n",
        "from sklearn.ensemble import RandomForestClassifier\n",
        "from sklearn.model_selection import train_test_split\n",
        "from xgboost import XGBClassifier\n",
        "import pandas as pd\n",
        "import numpy as np\n",
        "import matplotlib.pyplot as plt\n",
        "import seaborn as sns\n",
        "\n",
        "pd.set_option('display.max_rows', 1000)\n",
        "pd.set_option('display.max_columns', 1000)\n",
        "pd.set_option('display.width', 1000)"
      ]
    },
    {
      "cell_type": "markdown",
      "metadata": {
        "heading_collapsed": true,
        "id": "Y5-Kay1Eqvdj"
      },
      "source": [
        "# <p style=\"background-color:#1874CD; font-family:newtimeroman; color:#FFF9ED; font-size:130%; text-align:center; border-radius:10px 10px;\">Exploratory Data Analysis</p>\n",
        "\n",
        "<a id=\"2\"></a>\n",
        "<a href=\"#74\" class=\"btn btn-primary btn-sm\" role=\"button\" aria-pressed=\"true\" \n",
        "style=\"color:blue; background-color:#dfa8e4\" data-toggle=\"popover\">Table of Contents</a>"
      ]
    },
    {
      "cell_type": "markdown",
      "metadata": {
        "id": "dVvOqPH_-QP2"
      },
      "source": [
        "## Importing Dataset"
      ]
    },
    {
      "cell_type": "markdown",
      "metadata": {
        "id": "0tUW3eje-QP2"
      },
      "source": [
        "**Ingest Data from links below and make a dataframe**\n",
        "- Soldiers Male : https://query.data.world/s/h3pbhckz5ck4rc7qmt2wlknlnn7esr\n",
        "- Soldiers Female : https://query.data.world/s/sq27zz4hawg32yfxksqwijxmpwmynq"
      ]
    },
    {
      "cell_type": "code",
      "execution_count": 2,
      "metadata": {
        "ExecuteTime": {
          "end_time": "2022-09-08T21:15:30.371753Z",
          "start_time": "2022-09-08T21:15:28.652436Z"
        },
        "id": "tG5BsWraqX_y"
      },
      "outputs": [],
      "source": [
        "df_male = pd.read_csv('https://query.data.world/s/h3pbhckz5ck4rc7qmt2wlknlnn7esr', encoding='latin-1')"
      ]
    },
    {
      "cell_type": "code",
      "execution_count": 3,
      "metadata": {
        "ExecuteTime": {
          "end_time": "2022-09-08T21:15:31.887838Z",
          "start_time": "2022-09-08T21:15:30.374023Z"
        },
        "id": "KnQL8KASqfyT"
      },
      "outputs": [],
      "source": [
        "df_female= pd.read_csv('https://query.data.world/s/sq27zz4hawg32yfxksqwijxmpwmynq')"
      ]
    },
    {
      "cell_type": "code",
      "execution_count": 4,
      "metadata": {
        "id": "JMdqrcq1-QP3"
      },
      "outputs": [],
      "source": [
        "# df_male = pd.read_csv('ANSUR II MALE Public.csv', encoding='latin-1')\n",
        "# df_female= pd.read_csv('ANSUR II FEMALE Public.csv')"
      ]
    },
    {
      "cell_type": "code",
      "execution_count": 5,
      "metadata": {
        "ExecuteTime": {
          "end_time": "2022-09-08T21:16:00.255912Z",
          "start_time": "2022-09-08T21:16:00.208135Z"
        },
        "colab": {
          "base_uri": "https://localhost:8080/",
          "height": 392
        },
        "hidden": true,
        "id": "Y93mBzEErLDL",
        "outputId": "0813fb38-8d29-43bd-8106-373a36839327",
        "scrolled": true
      },
      "outputs": [
        {
          "output_type": "execute_result",
          "data": {
            "text/plain": [
              "   subjectid  abdominalextensiondepthsitting  acromialheight  acromionradialelength  anklecircumference  axillaheight  balloffootcircumference  balloffootlength  biacromialbreadth  bicepscircumferenceflexed  bicristalbreadth  bideltoidbreadth  bimalleolarbreadth  bitragionchinarc  bitragionsubmandibulararc  bizygomaticbreadth  buttockcircumference  buttockdepth  buttockheight  buttockkneelength  buttockpopliteallength  calfcircumference  cervicaleheight  chestbreadth  chestcircumference  chestdepth  chestheight  crotchheight  crotchlengthomphalion  crotchlengthposterioromphalion  earbreadth  earlength  earprotrusion  elbowrestheight  eyeheightsitting  footbreadthhorizontal  footlength  forearmcenterofgriplength  forearmcircumferenceflexed  forearmforearmbreadth  forearmhandlength  functionalleglength  handbreadth  handcircumference  handlength  headbreadth  headcircumference  headlength  heelanklecircumference  heelbreadth  hipbreadth  hipbreadthsitting  iliocristaleheight  \\\n",
              "0      10027                             266            1467                    337                 222          1347                      253               202                401                        369               274               493                  71               319                        291                 142                   979           240            882                619                     509                373             1535           291                1074         259         1292           877                    607                             351          36         71             19              247               802                    101         273                        349                         299                    575                477                 1136           90                214         193          150                583         206                     326           70         332                366                1071   \n",
              "1      10032                             233            1395                    326                 220          1293                      245               193                394                        338               257               479                  67               344                        320                 135                   944           232            870                584                     468                357             1471           269                1021         253         1244           851                    615                             376          33         62             18              232               781                     98         263                        348                         289                    523                476                 1096           86                203         195          146                568         201                     334           72         312                356                1046   \n",
              "2      10033                             287            1430                    341                 230          1327                      256               196                427                        408               261               544                  75               345                        330                 135                  1054           258            901                623                     506                412             1501           288                1120         267         1288           854                    636                             359          40         61             23              237               810                    103         270                        355                         357                    575                491                 1115           93                220         203          148                573         202                     356           70         349                393                1053   \n",
              "3      10092                             234            1347                    310                 230          1239                      262               199                401                        359               262               518                  73               328                        309                 143                   991           242            821                560                     437                395             1423           296                1114         262         1205           769                    590                             341          39         66             25              272               794                    106         267                        352                         318                    593                467                 1034           91                217         194          158                576         199                     341           68         338                367                 986   \n",
              "4      10093                             250            1585                    372                 247          1478                      267               224                435                        356               263               524                  80               340                        310                 138                  1029           275           1080                706                     567                425             1684           304                1048         232         1452          1014                    682                             382          32         56             19              188               814                    111         305                        399                         324                    605                550                 1279           94                222         218          153                566         197                     374           69         332                372                1251   \n",
              "\n",
              "   interpupillarybreadth  interscyei  interscyeii  kneeheightmidpatella  kneeheightsitting  lateralfemoralepicondyleheight  lateralmalleolusheight  lowerthighcircumference  mentonsellionlength  neckcircumference  neckcircumferencebase  overheadfingertipreachsitting  palmlength  poplitealheight  radialestylionlength  shouldercircumference  shoulderelbowlength  shoulderlength  sittingheight  sleevelengthspinewrist  sleeveoutseam  span  stature  suprasternaleheight  tenthribheight  thighcircumference  thighclearance  thumbtipreach  tibialheight  tragiontopofhead  trochanterionheight  verticaltrunkcircumferenceusa  waistbacklength  waistbreadth  waistcircumference  waistdepth  waistfrontlengthsitting  waistheightomphalion  weightkg  wristcircumference  wristheight Gender       Date Installation     Component                  Branch PrimaryMOS SubjectsBirthLocation  SubjectNumericRace Ethnicity  DODRace  Age  Heightin  Weightlbs WritingPreference  \n",
              "0                    685         422          441                   502                560                             500                      77                      391                  118                400                    436                           1447         113              437                   273                   1151                  368             145            928                     883            600  1782     1776                 1449            1092                 610             164            786           491               140                  919                           1700              501           329                 933         240                      440                  1054       815                 175          853   Male   4-Oct-10    Fort Hood  Regular Army             Combat Arms        19D          North Dakota                   1       NaN        1   41        71        180        Right hand  \n",
              "1                    620         441          447                   490                540                             488                      73                      371                  131                380                    420                           1380         118              417                   254                   1119                  353             141            884                     868            564  1745     1702                 1387            1076                 572             169            822           476               120                  918                           1627              432           316                 870         225                      371                  1054       726                 167          815   Male   4-Oct-10    Fort Hood  Regular Army          Combat Support        68W              New York                   1       NaN        1   35        68        160         Left hand  \n",
              "2                    665         462          475                   496                556                             482                      72                      409                  123                403                    434                           1447         121              431                   268                   1276                  367             167            917                     910            604  1867     1735                 1438            1105                 685             198            807           477               125                  918                           1678              472           329                 964         255                      411                  1041       929                 180          831   Male   4-Oct-10    Fort Hood  Regular Army          Combat Support        68W              New York                   2       NaN        2   42        68        205         Left hand  \n",
              "3                    640         458          461                   460                511                             452                      76                      393                  106                407                    446                           1357         118              393                   249                   1155                  330             148            903                     848            550  1708     1655                 1346            1021                 604             180            803           445               127                  847                           1625              461           315                 857         205                      399                   968       794                 176          793   Male  12-Oct-10    Fort Hood  Regular Army  Combat Service Support        88M             Wisconsin                   1       NaN        1   31        66        175        Right hand  \n",
              "4                    675         481          505                   612                666                             585                      85                      458                  135                398                    430                           1572         132              523                   302                   1231                  400             180            919                     995            641  2035     1914                 1596            1292                 672             194            962           584               122                 1090                           1679              467           303                 868         214                      379                  1245       946                 188          954   Male  12-Oct-10    Fort Hood  Regular Army  Combat Service Support        92G        North Carolina                   2       NaN        2   21        77        213        Right hand  "
            ],
            "text/html": [
              "\n",
              "  <div id=\"df-0b374648-7084-4e9e-aed9-1d18f667c5c8\">\n",
              "    <div class=\"colab-df-container\">\n",
              "      <div>\n",
              "<style scoped>\n",
              "    .dataframe tbody tr th:only-of-type {\n",
              "        vertical-align: middle;\n",
              "    }\n",
              "\n",
              "    .dataframe tbody tr th {\n",
              "        vertical-align: top;\n",
              "    }\n",
              "\n",
              "    .dataframe thead th {\n",
              "        text-align: right;\n",
              "    }\n",
              "</style>\n",
              "<table border=\"1\" class=\"dataframe\">\n",
              "  <thead>\n",
              "    <tr style=\"text-align: right;\">\n",
              "      <th></th>\n",
              "      <th>subjectid</th>\n",
              "      <th>abdominalextensiondepthsitting</th>\n",
              "      <th>acromialheight</th>\n",
              "      <th>acromionradialelength</th>\n",
              "      <th>anklecircumference</th>\n",
              "      <th>axillaheight</th>\n",
              "      <th>balloffootcircumference</th>\n",
              "      <th>balloffootlength</th>\n",
              "      <th>biacromialbreadth</th>\n",
              "      <th>bicepscircumferenceflexed</th>\n",
              "      <th>bicristalbreadth</th>\n",
              "      <th>bideltoidbreadth</th>\n",
              "      <th>bimalleolarbreadth</th>\n",
              "      <th>bitragionchinarc</th>\n",
              "      <th>bitragionsubmandibulararc</th>\n",
              "      <th>bizygomaticbreadth</th>\n",
              "      <th>buttockcircumference</th>\n",
              "      <th>buttockdepth</th>\n",
              "      <th>buttockheight</th>\n",
              "      <th>buttockkneelength</th>\n",
              "      <th>buttockpopliteallength</th>\n",
              "      <th>calfcircumference</th>\n",
              "      <th>cervicaleheight</th>\n",
              "      <th>chestbreadth</th>\n",
              "      <th>chestcircumference</th>\n",
              "      <th>chestdepth</th>\n",
              "      <th>chestheight</th>\n",
              "      <th>crotchheight</th>\n",
              "      <th>crotchlengthomphalion</th>\n",
              "      <th>crotchlengthposterioromphalion</th>\n",
              "      <th>earbreadth</th>\n",
              "      <th>earlength</th>\n",
              "      <th>earprotrusion</th>\n",
              "      <th>elbowrestheight</th>\n",
              "      <th>eyeheightsitting</th>\n",
              "      <th>footbreadthhorizontal</th>\n",
              "      <th>footlength</th>\n",
              "      <th>forearmcenterofgriplength</th>\n",
              "      <th>forearmcircumferenceflexed</th>\n",
              "      <th>forearmforearmbreadth</th>\n",
              "      <th>forearmhandlength</th>\n",
              "      <th>functionalleglength</th>\n",
              "      <th>handbreadth</th>\n",
              "      <th>handcircumference</th>\n",
              "      <th>handlength</th>\n",
              "      <th>headbreadth</th>\n",
              "      <th>headcircumference</th>\n",
              "      <th>headlength</th>\n",
              "      <th>heelanklecircumference</th>\n",
              "      <th>heelbreadth</th>\n",
              "      <th>hipbreadth</th>\n",
              "      <th>hipbreadthsitting</th>\n",
              "      <th>iliocristaleheight</th>\n",
              "      <th>interpupillarybreadth</th>\n",
              "      <th>interscyei</th>\n",
              "      <th>interscyeii</th>\n",
              "      <th>kneeheightmidpatella</th>\n",
              "      <th>kneeheightsitting</th>\n",
              "      <th>lateralfemoralepicondyleheight</th>\n",
              "      <th>lateralmalleolusheight</th>\n",
              "      <th>lowerthighcircumference</th>\n",
              "      <th>mentonsellionlength</th>\n",
              "      <th>neckcircumference</th>\n",
              "      <th>neckcircumferencebase</th>\n",
              "      <th>overheadfingertipreachsitting</th>\n",
              "      <th>palmlength</th>\n",
              "      <th>poplitealheight</th>\n",
              "      <th>radialestylionlength</th>\n",
              "      <th>shouldercircumference</th>\n",
              "      <th>shoulderelbowlength</th>\n",
              "      <th>shoulderlength</th>\n",
              "      <th>sittingheight</th>\n",
              "      <th>sleevelengthspinewrist</th>\n",
              "      <th>sleeveoutseam</th>\n",
              "      <th>span</th>\n",
              "      <th>stature</th>\n",
              "      <th>suprasternaleheight</th>\n",
              "      <th>tenthribheight</th>\n",
              "      <th>thighcircumference</th>\n",
              "      <th>thighclearance</th>\n",
              "      <th>thumbtipreach</th>\n",
              "      <th>tibialheight</th>\n",
              "      <th>tragiontopofhead</th>\n",
              "      <th>trochanterionheight</th>\n",
              "      <th>verticaltrunkcircumferenceusa</th>\n",
              "      <th>waistbacklength</th>\n",
              "      <th>waistbreadth</th>\n",
              "      <th>waistcircumference</th>\n",
              "      <th>waistdepth</th>\n",
              "      <th>waistfrontlengthsitting</th>\n",
              "      <th>waistheightomphalion</th>\n",
              "      <th>weightkg</th>\n",
              "      <th>wristcircumference</th>\n",
              "      <th>wristheight</th>\n",
              "      <th>Gender</th>\n",
              "      <th>Date</th>\n",
              "      <th>Installation</th>\n",
              "      <th>Component</th>\n",
              "      <th>Branch</th>\n",
              "      <th>PrimaryMOS</th>\n",
              "      <th>SubjectsBirthLocation</th>\n",
              "      <th>SubjectNumericRace</th>\n",
              "      <th>Ethnicity</th>\n",
              "      <th>DODRace</th>\n",
              "      <th>Age</th>\n",
              "      <th>Heightin</th>\n",
              "      <th>Weightlbs</th>\n",
              "      <th>WritingPreference</th>\n",
              "    </tr>\n",
              "  </thead>\n",
              "  <tbody>\n",
              "    <tr>\n",
              "      <th>0</th>\n",
              "      <td>10027</td>\n",
              "      <td>266</td>\n",
              "      <td>1467</td>\n",
              "      <td>337</td>\n",
              "      <td>222</td>\n",
              "      <td>1347</td>\n",
              "      <td>253</td>\n",
              "      <td>202</td>\n",
              "      <td>401</td>\n",
              "      <td>369</td>\n",
              "      <td>274</td>\n",
              "      <td>493</td>\n",
              "      <td>71</td>\n",
              "      <td>319</td>\n",
              "      <td>291</td>\n",
              "      <td>142</td>\n",
              "      <td>979</td>\n",
              "      <td>240</td>\n",
              "      <td>882</td>\n",
              "      <td>619</td>\n",
              "      <td>509</td>\n",
              "      <td>373</td>\n",
              "      <td>1535</td>\n",
              "      <td>291</td>\n",
              "      <td>1074</td>\n",
              "      <td>259</td>\n",
              "      <td>1292</td>\n",
              "      <td>877</td>\n",
              "      <td>607</td>\n",
              "      <td>351</td>\n",
              "      <td>36</td>\n",
              "      <td>71</td>\n",
              "      <td>19</td>\n",
              "      <td>247</td>\n",
              "      <td>802</td>\n",
              "      <td>101</td>\n",
              "      <td>273</td>\n",
              "      <td>349</td>\n",
              "      <td>299</td>\n",
              "      <td>575</td>\n",
              "      <td>477</td>\n",
              "      <td>1136</td>\n",
              "      <td>90</td>\n",
              "      <td>214</td>\n",
              "      <td>193</td>\n",
              "      <td>150</td>\n",
              "      <td>583</td>\n",
              "      <td>206</td>\n",
              "      <td>326</td>\n",
              "      <td>70</td>\n",
              "      <td>332</td>\n",
              "      <td>366</td>\n",
              "      <td>1071</td>\n",
              "      <td>685</td>\n",
              "      <td>422</td>\n",
              "      <td>441</td>\n",
              "      <td>502</td>\n",
              "      <td>560</td>\n",
              "      <td>500</td>\n",
              "      <td>77</td>\n",
              "      <td>391</td>\n",
              "      <td>118</td>\n",
              "      <td>400</td>\n",
              "      <td>436</td>\n",
              "      <td>1447</td>\n",
              "      <td>113</td>\n",
              "      <td>437</td>\n",
              "      <td>273</td>\n",
              "      <td>1151</td>\n",
              "      <td>368</td>\n",
              "      <td>145</td>\n",
              "      <td>928</td>\n",
              "      <td>883</td>\n",
              "      <td>600</td>\n",
              "      <td>1782</td>\n",
              "      <td>1776</td>\n",
              "      <td>1449</td>\n",
              "      <td>1092</td>\n",
              "      <td>610</td>\n",
              "      <td>164</td>\n",
              "      <td>786</td>\n",
              "      <td>491</td>\n",
              "      <td>140</td>\n",
              "      <td>919</td>\n",
              "      <td>1700</td>\n",
              "      <td>501</td>\n",
              "      <td>329</td>\n",
              "      <td>933</td>\n",
              "      <td>240</td>\n",
              "      <td>440</td>\n",
              "      <td>1054</td>\n",
              "      <td>815</td>\n",
              "      <td>175</td>\n",
              "      <td>853</td>\n",
              "      <td>Male</td>\n",
              "      <td>4-Oct-10</td>\n",
              "      <td>Fort Hood</td>\n",
              "      <td>Regular Army</td>\n",
              "      <td>Combat Arms</td>\n",
              "      <td>19D</td>\n",
              "      <td>North Dakota</td>\n",
              "      <td>1</td>\n",
              "      <td>NaN</td>\n",
              "      <td>1</td>\n",
              "      <td>41</td>\n",
              "      <td>71</td>\n",
              "      <td>180</td>\n",
              "      <td>Right hand</td>\n",
              "    </tr>\n",
              "    <tr>\n",
              "      <th>1</th>\n",
              "      <td>10032</td>\n",
              "      <td>233</td>\n",
              "      <td>1395</td>\n",
              "      <td>326</td>\n",
              "      <td>220</td>\n",
              "      <td>1293</td>\n",
              "      <td>245</td>\n",
              "      <td>193</td>\n",
              "      <td>394</td>\n",
              "      <td>338</td>\n",
              "      <td>257</td>\n",
              "      <td>479</td>\n",
              "      <td>67</td>\n",
              "      <td>344</td>\n",
              "      <td>320</td>\n",
              "      <td>135</td>\n",
              "      <td>944</td>\n",
              "      <td>232</td>\n",
              "      <td>870</td>\n",
              "      <td>584</td>\n",
              "      <td>468</td>\n",
              "      <td>357</td>\n",
              "      <td>1471</td>\n",
              "      <td>269</td>\n",
              "      <td>1021</td>\n",
              "      <td>253</td>\n",
              "      <td>1244</td>\n",
              "      <td>851</td>\n",
              "      <td>615</td>\n",
              "      <td>376</td>\n",
              "      <td>33</td>\n",
              "      <td>62</td>\n",
              "      <td>18</td>\n",
              "      <td>232</td>\n",
              "      <td>781</td>\n",
              "      <td>98</td>\n",
              "      <td>263</td>\n",
              "      <td>348</td>\n",
              "      <td>289</td>\n",
              "      <td>523</td>\n",
              "      <td>476</td>\n",
              "      <td>1096</td>\n",
              "      <td>86</td>\n",
              "      <td>203</td>\n",
              "      <td>195</td>\n",
              "      <td>146</td>\n",
              "      <td>568</td>\n",
              "      <td>201</td>\n",
              "      <td>334</td>\n",
              "      <td>72</td>\n",
              "      <td>312</td>\n",
              "      <td>356</td>\n",
              "      <td>1046</td>\n",
              "      <td>620</td>\n",
              "      <td>441</td>\n",
              "      <td>447</td>\n",
              "      <td>490</td>\n",
              "      <td>540</td>\n",
              "      <td>488</td>\n",
              "      <td>73</td>\n",
              "      <td>371</td>\n",
              "      <td>131</td>\n",
              "      <td>380</td>\n",
              "      <td>420</td>\n",
              "      <td>1380</td>\n",
              "      <td>118</td>\n",
              "      <td>417</td>\n",
              "      <td>254</td>\n",
              "      <td>1119</td>\n",
              "      <td>353</td>\n",
              "      <td>141</td>\n",
              "      <td>884</td>\n",
              "      <td>868</td>\n",
              "      <td>564</td>\n",
              "      <td>1745</td>\n",
              "      <td>1702</td>\n",
              "      <td>1387</td>\n",
              "      <td>1076</td>\n",
              "      <td>572</td>\n",
              "      <td>169</td>\n",
              "      <td>822</td>\n",
              "      <td>476</td>\n",
              "      <td>120</td>\n",
              "      <td>918</td>\n",
              "      <td>1627</td>\n",
              "      <td>432</td>\n",
              "      <td>316</td>\n",
              "      <td>870</td>\n",
              "      <td>225</td>\n",
              "      <td>371</td>\n",
              "      <td>1054</td>\n",
              "      <td>726</td>\n",
              "      <td>167</td>\n",
              "      <td>815</td>\n",
              "      <td>Male</td>\n",
              "      <td>4-Oct-10</td>\n",
              "      <td>Fort Hood</td>\n",
              "      <td>Regular Army</td>\n",
              "      <td>Combat Support</td>\n",
              "      <td>68W</td>\n",
              "      <td>New York</td>\n",
              "      <td>1</td>\n",
              "      <td>NaN</td>\n",
              "      <td>1</td>\n",
              "      <td>35</td>\n",
              "      <td>68</td>\n",
              "      <td>160</td>\n",
              "      <td>Left hand</td>\n",
              "    </tr>\n",
              "    <tr>\n",
              "      <th>2</th>\n",
              "      <td>10033</td>\n",
              "      <td>287</td>\n",
              "      <td>1430</td>\n",
              "      <td>341</td>\n",
              "      <td>230</td>\n",
              "      <td>1327</td>\n",
              "      <td>256</td>\n",
              "      <td>196</td>\n",
              "      <td>427</td>\n",
              "      <td>408</td>\n",
              "      <td>261</td>\n",
              "      <td>544</td>\n",
              "      <td>75</td>\n",
              "      <td>345</td>\n",
              "      <td>330</td>\n",
              "      <td>135</td>\n",
              "      <td>1054</td>\n",
              "      <td>258</td>\n",
              "      <td>901</td>\n",
              "      <td>623</td>\n",
              "      <td>506</td>\n",
              "      <td>412</td>\n",
              "      <td>1501</td>\n",
              "      <td>288</td>\n",
              "      <td>1120</td>\n",
              "      <td>267</td>\n",
              "      <td>1288</td>\n",
              "      <td>854</td>\n",
              "      <td>636</td>\n",
              "      <td>359</td>\n",
              "      <td>40</td>\n",
              "      <td>61</td>\n",
              "      <td>23</td>\n",
              "      <td>237</td>\n",
              "      <td>810</td>\n",
              "      <td>103</td>\n",
              "      <td>270</td>\n",
              "      <td>355</td>\n",
              "      <td>357</td>\n",
              "      <td>575</td>\n",
              "      <td>491</td>\n",
              "      <td>1115</td>\n",
              "      <td>93</td>\n",
              "      <td>220</td>\n",
              "      <td>203</td>\n",
              "      <td>148</td>\n",
              "      <td>573</td>\n",
              "      <td>202</td>\n",
              "      <td>356</td>\n",
              "      <td>70</td>\n",
              "      <td>349</td>\n",
              "      <td>393</td>\n",
              "      <td>1053</td>\n",
              "      <td>665</td>\n",
              "      <td>462</td>\n",
              "      <td>475</td>\n",
              "      <td>496</td>\n",
              "      <td>556</td>\n",
              "      <td>482</td>\n",
              "      <td>72</td>\n",
              "      <td>409</td>\n",
              "      <td>123</td>\n",
              "      <td>403</td>\n",
              "      <td>434</td>\n",
              "      <td>1447</td>\n",
              "      <td>121</td>\n",
              "      <td>431</td>\n",
              "      <td>268</td>\n",
              "      <td>1276</td>\n",
              "      <td>367</td>\n",
              "      <td>167</td>\n",
              "      <td>917</td>\n",
              "      <td>910</td>\n",
              "      <td>604</td>\n",
              "      <td>1867</td>\n",
              "      <td>1735</td>\n",
              "      <td>1438</td>\n",
              "      <td>1105</td>\n",
              "      <td>685</td>\n",
              "      <td>198</td>\n",
              "      <td>807</td>\n",
              "      <td>477</td>\n",
              "      <td>125</td>\n",
              "      <td>918</td>\n",
              "      <td>1678</td>\n",
              "      <td>472</td>\n",
              "      <td>329</td>\n",
              "      <td>964</td>\n",
              "      <td>255</td>\n",
              "      <td>411</td>\n",
              "      <td>1041</td>\n",
              "      <td>929</td>\n",
              "      <td>180</td>\n",
              "      <td>831</td>\n",
              "      <td>Male</td>\n",
              "      <td>4-Oct-10</td>\n",
              "      <td>Fort Hood</td>\n",
              "      <td>Regular Army</td>\n",
              "      <td>Combat Support</td>\n",
              "      <td>68W</td>\n",
              "      <td>New York</td>\n",
              "      <td>2</td>\n",
              "      <td>NaN</td>\n",
              "      <td>2</td>\n",
              "      <td>42</td>\n",
              "      <td>68</td>\n",
              "      <td>205</td>\n",
              "      <td>Left hand</td>\n",
              "    </tr>\n",
              "    <tr>\n",
              "      <th>3</th>\n",
              "      <td>10092</td>\n",
              "      <td>234</td>\n",
              "      <td>1347</td>\n",
              "      <td>310</td>\n",
              "      <td>230</td>\n",
              "      <td>1239</td>\n",
              "      <td>262</td>\n",
              "      <td>199</td>\n",
              "      <td>401</td>\n",
              "      <td>359</td>\n",
              "      <td>262</td>\n",
              "      <td>518</td>\n",
              "      <td>73</td>\n",
              "      <td>328</td>\n",
              "      <td>309</td>\n",
              "      <td>143</td>\n",
              "      <td>991</td>\n",
              "      <td>242</td>\n",
              "      <td>821</td>\n",
              "      <td>560</td>\n",
              "      <td>437</td>\n",
              "      <td>395</td>\n",
              "      <td>1423</td>\n",
              "      <td>296</td>\n",
              "      <td>1114</td>\n",
              "      <td>262</td>\n",
              "      <td>1205</td>\n",
              "      <td>769</td>\n",
              "      <td>590</td>\n",
              "      <td>341</td>\n",
              "      <td>39</td>\n",
              "      <td>66</td>\n",
              "      <td>25</td>\n",
              "      <td>272</td>\n",
              "      <td>794</td>\n",
              "      <td>106</td>\n",
              "      <td>267</td>\n",
              "      <td>352</td>\n",
              "      <td>318</td>\n",
              "      <td>593</td>\n",
              "      <td>467</td>\n",
              "      <td>1034</td>\n",
              "      <td>91</td>\n",
              "      <td>217</td>\n",
              "      <td>194</td>\n",
              "      <td>158</td>\n",
              "      <td>576</td>\n",
              "      <td>199</td>\n",
              "      <td>341</td>\n",
              "      <td>68</td>\n",
              "      <td>338</td>\n",
              "      <td>367</td>\n",
              "      <td>986</td>\n",
              "      <td>640</td>\n",
              "      <td>458</td>\n",
              "      <td>461</td>\n",
              "      <td>460</td>\n",
              "      <td>511</td>\n",
              "      <td>452</td>\n",
              "      <td>76</td>\n",
              "      <td>393</td>\n",
              "      <td>106</td>\n",
              "      <td>407</td>\n",
              "      <td>446</td>\n",
              "      <td>1357</td>\n",
              "      <td>118</td>\n",
              "      <td>393</td>\n",
              "      <td>249</td>\n",
              "      <td>1155</td>\n",
              "      <td>330</td>\n",
              "      <td>148</td>\n",
              "      <td>903</td>\n",
              "      <td>848</td>\n",
              "      <td>550</td>\n",
              "      <td>1708</td>\n",
              "      <td>1655</td>\n",
              "      <td>1346</td>\n",
              "      <td>1021</td>\n",
              "      <td>604</td>\n",
              "      <td>180</td>\n",
              "      <td>803</td>\n",
              "      <td>445</td>\n",
              "      <td>127</td>\n",
              "      <td>847</td>\n",
              "      <td>1625</td>\n",
              "      <td>461</td>\n",
              "      <td>315</td>\n",
              "      <td>857</td>\n",
              "      <td>205</td>\n",
              "      <td>399</td>\n",
              "      <td>968</td>\n",
              "      <td>794</td>\n",
              "      <td>176</td>\n",
              "      <td>793</td>\n",
              "      <td>Male</td>\n",
              "      <td>12-Oct-10</td>\n",
              "      <td>Fort Hood</td>\n",
              "      <td>Regular Army</td>\n",
              "      <td>Combat Service Support</td>\n",
              "      <td>88M</td>\n",
              "      <td>Wisconsin</td>\n",
              "      <td>1</td>\n",
              "      <td>NaN</td>\n",
              "      <td>1</td>\n",
              "      <td>31</td>\n",
              "      <td>66</td>\n",
              "      <td>175</td>\n",
              "      <td>Right hand</td>\n",
              "    </tr>\n",
              "    <tr>\n",
              "      <th>4</th>\n",
              "      <td>10093</td>\n",
              "      <td>250</td>\n",
              "      <td>1585</td>\n",
              "      <td>372</td>\n",
              "      <td>247</td>\n",
              "      <td>1478</td>\n",
              "      <td>267</td>\n",
              "      <td>224</td>\n",
              "      <td>435</td>\n",
              "      <td>356</td>\n",
              "      <td>263</td>\n",
              "      <td>524</td>\n",
              "      <td>80</td>\n",
              "      <td>340</td>\n",
              "      <td>310</td>\n",
              "      <td>138</td>\n",
              "      <td>1029</td>\n",
              "      <td>275</td>\n",
              "      <td>1080</td>\n",
              "      <td>706</td>\n",
              "      <td>567</td>\n",
              "      <td>425</td>\n",
              "      <td>1684</td>\n",
              "      <td>304</td>\n",
              "      <td>1048</td>\n",
              "      <td>232</td>\n",
              "      <td>1452</td>\n",
              "      <td>1014</td>\n",
              "      <td>682</td>\n",
              "      <td>382</td>\n",
              "      <td>32</td>\n",
              "      <td>56</td>\n",
              "      <td>19</td>\n",
              "      <td>188</td>\n",
              "      <td>814</td>\n",
              "      <td>111</td>\n",
              "      <td>305</td>\n",
              "      <td>399</td>\n",
              "      <td>324</td>\n",
              "      <td>605</td>\n",
              "      <td>550</td>\n",
              "      <td>1279</td>\n",
              "      <td>94</td>\n",
              "      <td>222</td>\n",
              "      <td>218</td>\n",
              "      <td>153</td>\n",
              "      <td>566</td>\n",
              "      <td>197</td>\n",
              "      <td>374</td>\n",
              "      <td>69</td>\n",
              "      <td>332</td>\n",
              "      <td>372</td>\n",
              "      <td>1251</td>\n",
              "      <td>675</td>\n",
              "      <td>481</td>\n",
              "      <td>505</td>\n",
              "      <td>612</td>\n",
              "      <td>666</td>\n",
              "      <td>585</td>\n",
              "      <td>85</td>\n",
              "      <td>458</td>\n",
              "      <td>135</td>\n",
              "      <td>398</td>\n",
              "      <td>430</td>\n",
              "      <td>1572</td>\n",
              "      <td>132</td>\n",
              "      <td>523</td>\n",
              "      <td>302</td>\n",
              "      <td>1231</td>\n",
              "      <td>400</td>\n",
              "      <td>180</td>\n",
              "      <td>919</td>\n",
              "      <td>995</td>\n",
              "      <td>641</td>\n",
              "      <td>2035</td>\n",
              "      <td>1914</td>\n",
              "      <td>1596</td>\n",
              "      <td>1292</td>\n",
              "      <td>672</td>\n",
              "      <td>194</td>\n",
              "      <td>962</td>\n",
              "      <td>584</td>\n",
              "      <td>122</td>\n",
              "      <td>1090</td>\n",
              "      <td>1679</td>\n",
              "      <td>467</td>\n",
              "      <td>303</td>\n",
              "      <td>868</td>\n",
              "      <td>214</td>\n",
              "      <td>379</td>\n",
              "      <td>1245</td>\n",
              "      <td>946</td>\n",
              "      <td>188</td>\n",
              "      <td>954</td>\n",
              "      <td>Male</td>\n",
              "      <td>12-Oct-10</td>\n",
              "      <td>Fort Hood</td>\n",
              "      <td>Regular Army</td>\n",
              "      <td>Combat Service Support</td>\n",
              "      <td>92G</td>\n",
              "      <td>North Carolina</td>\n",
              "      <td>2</td>\n",
              "      <td>NaN</td>\n",
              "      <td>2</td>\n",
              "      <td>21</td>\n",
              "      <td>77</td>\n",
              "      <td>213</td>\n",
              "      <td>Right hand</td>\n",
              "    </tr>\n",
              "  </tbody>\n",
              "</table>\n",
              "</div>\n",
              "      <button class=\"colab-df-convert\" onclick=\"convertToInteractive('df-0b374648-7084-4e9e-aed9-1d18f667c5c8')\"\n",
              "              title=\"Convert this dataframe to an interactive table.\"\n",
              "              style=\"display:none;\">\n",
              "        \n",
              "  <svg xmlns=\"http://www.w3.org/2000/svg\" height=\"24px\"viewBox=\"0 0 24 24\"\n",
              "       width=\"24px\">\n",
              "    <path d=\"M0 0h24v24H0V0z\" fill=\"none\"/>\n",
              "    <path d=\"M18.56 5.44l.94 2.06.94-2.06 2.06-.94-2.06-.94-.94-2.06-.94 2.06-2.06.94zm-11 1L8.5 8.5l.94-2.06 2.06-.94-2.06-.94L8.5 2.5l-.94 2.06-2.06.94zm10 10l.94 2.06.94-2.06 2.06-.94-2.06-.94-.94-2.06-.94 2.06-2.06.94z\"/><path d=\"M17.41 7.96l-1.37-1.37c-.4-.4-.92-.59-1.43-.59-.52 0-1.04.2-1.43.59L10.3 9.45l-7.72 7.72c-.78.78-.78 2.05 0 2.83L4 21.41c.39.39.9.59 1.41.59.51 0 1.02-.2 1.41-.59l7.78-7.78 2.81-2.81c.8-.78.8-2.07 0-2.86zM5.41 20L4 18.59l7.72-7.72 1.47 1.35L5.41 20z\"/>\n",
              "  </svg>\n",
              "      </button>\n",
              "      \n",
              "  <style>\n",
              "    .colab-df-container {\n",
              "      display:flex;\n",
              "      flex-wrap:wrap;\n",
              "      gap: 12px;\n",
              "    }\n",
              "\n",
              "    .colab-df-convert {\n",
              "      background-color: #E8F0FE;\n",
              "      border: none;\n",
              "      border-radius: 50%;\n",
              "      cursor: pointer;\n",
              "      display: none;\n",
              "      fill: #1967D2;\n",
              "      height: 32px;\n",
              "      padding: 0 0 0 0;\n",
              "      width: 32px;\n",
              "    }\n",
              "\n",
              "    .colab-df-convert:hover {\n",
              "      background-color: #E2EBFA;\n",
              "      box-shadow: 0px 1px 2px rgba(60, 64, 67, 0.3), 0px 1px 3px 1px rgba(60, 64, 67, 0.15);\n",
              "      fill: #174EA6;\n",
              "    }\n",
              "\n",
              "    [theme=dark] .colab-df-convert {\n",
              "      background-color: #3B4455;\n",
              "      fill: #D2E3FC;\n",
              "    }\n",
              "\n",
              "    [theme=dark] .colab-df-convert:hover {\n",
              "      background-color: #434B5C;\n",
              "      box-shadow: 0px 1px 3px 1px rgba(0, 0, 0, 0.15);\n",
              "      filter: drop-shadow(0px 1px 2px rgba(0, 0, 0, 0.3));\n",
              "      fill: #FFFFFF;\n",
              "    }\n",
              "  </style>\n",
              "\n",
              "      <script>\n",
              "        const buttonEl =\n",
              "          document.querySelector('#df-0b374648-7084-4e9e-aed9-1d18f667c5c8 button.colab-df-convert');\n",
              "        buttonEl.style.display =\n",
              "          google.colab.kernel.accessAllowed ? 'block' : 'none';\n",
              "\n",
              "        async function convertToInteractive(key) {\n",
              "          const element = document.querySelector('#df-0b374648-7084-4e9e-aed9-1d18f667c5c8');\n",
              "          const dataTable =\n",
              "            await google.colab.kernel.invokeFunction('convertToInteractive',\n",
              "                                                     [key], {});\n",
              "          if (!dataTable) return;\n",
              "\n",
              "          const docLinkHtml = 'Like what you see? Visit the ' +\n",
              "            '<a target=\"_blank\" href=https://colab.research.google.com/notebooks/data_table.ipynb>data table notebook</a>'\n",
              "            + ' to learn more about interactive tables.';\n",
              "          element.innerHTML = '';\n",
              "          dataTable['output_type'] = 'display_data';\n",
              "          await google.colab.output.renderOutput(dataTable, element);\n",
              "          const docLink = document.createElement('div');\n",
              "          docLink.innerHTML = docLinkHtml;\n",
              "          element.appendChild(docLink);\n",
              "        }\n",
              "      </script>\n",
              "    </div>\n",
              "  </div>\n",
              "  "
            ]
          },
          "metadata": {},
          "execution_count": 5
        }
      ],
      "source": [
        "df_male.head()"
      ]
    },
    {
      "cell_type": "code",
      "execution_count": 6,
      "metadata": {
        "ExecuteTime": {
          "end_time": "2022-09-08T21:16:05.987084Z",
          "start_time": "2022-09-08T21:16:05.947600Z"
        },
        "colab": {
          "base_uri": "https://localhost:8080/",
          "height": 409
        },
        "hidden": true,
        "id": "fIZ-JvXBstkT",
        "outputId": "27585cab-eacd-47b1-df6d-bb8bd8b78b55"
      },
      "outputs": [
        {
          "output_type": "execute_result",
          "data": {
            "text/plain": [
              "   SubjectId  abdominalextensiondepthsitting  acromialheight  acromionradialelength  anklecircumference  axillaheight  balloffootcircumference  balloffootlength  biacromialbreadth  bicepscircumferenceflexed  bicristalbreadth  bideltoidbreadth  bimalleolarbreadth  bitragionchinarc  bitragionsubmandibulararc  bizygomaticbreadth  buttockcircumference  buttockdepth  buttockheight  buttockkneelength  buttockpopliteallength  calfcircumference  cervicaleheight  chestbreadth  chestcircumference  chestdepth  chestheight  crotchheight  crotchlengthomphalion  crotchlengthposterioromphalion  earbreadth  earlength  earprotrusion  elbowrestheight  eyeheightsitting  footbreadthhorizontal  footlength  forearmcenterofgriplength  forearmcircumferenceflexed  forearmforearmbreadth  forearmhandlength  functionalleglength  handbreadth  handcircumference  handlength  headbreadth  headcircumference  headlength  heelanklecircumference  heelbreadth  hipbreadth  hipbreadthsitting  iliocristaleheight  \\\n",
              "0      10037                             231            1282                    301                 204          1180                      222               177                373                        315               263               466                  65               338                        301                 141                  1011           223            836                587                     476                360             1336           274                 922         245         1095           759                    557                             310          35         65             16              220               713                     91         246                        316                         265                    517                432                 1028           75                182         184          141                548         191                     314           69         345                388                 966   \n",
              "1      10038                             194            1379                    320                 207          1292                      225               178                372                        272               250               430                  64               294                        270                 126                   893           186            900                583                     483                350             1440           261                 839         206         1234           835                    549                             329          32         60             23              208               726                     91         249                        341                         247                    468                463                 1117           78                187         189          138                535         180                     307           60         315                335                1048   \n",
              "2      10042                             183            1369                    329                 233          1271                      237               196                397                        300               276               450                  69               309                        270                 128                   987           204            861                583                     466                384             1451           287                 874         223         1226           821                    643                             374          36         65             26              204               790                    100         265                        343                         262                    488                469                 1060           84                198         195          146                588         207                     331           70         356                399                1043   \n",
              "3      10043                             261            1356                    306                 214          1250                      240               188                384                        364               276               484                  68               340                        294                 144                  1012           253            897                599                     471                372             1430           269                1008         285         1170           804                    640                             351          38         62             22              244               775                     97         265                        331                         309                    529                455                 1069           80                192         186          153                593         206                     332           68         337                402                1029   \n",
              "4      10051                             309            1303                    308                 214          1210                      217               182                378                        320               336               525                  67               300                        295                 135                  1281           284            811                607                     467                433             1362           305                1089         290         1112           726                    686                             356          34         65             18              233               732                     88         247                        339                         260                    596                447                 1039           78                183         187          140                522         181                     308           63         448                499                 964   \n",
              "\n",
              "   interpupillarybreadth  interscyei  interscyeii  kneeheightmidpatella  kneeheightsitting  lateralfemoralepicondyleheight  lateralmalleolusheight  lowerthighcircumference  mentonsellionlength  neckcircumference  neckcircumferencebase  overheadfingertipreachsitting  palmlength  poplitealheight  radialestylionlength  shouldercircumference  shoulderelbowlength  shoulderlength  sittingheight  sleevelengthspinewrist  sleeveoutseam  span  stature  suprasternaleheight  tenthribheight  thighcircumference  thighclearance  thumbtipreach  tibialheight  tragiontopofhead  trochanterionheight  verticaltrunkcircumferenceusa  waistbacklength  waistbreadth  waistcircumference  waistdepth  waistfrontlengthsitting  waistheightomphalion  weightkg  wristcircumference  wristheight  Gender      Date Installation     Component                  Branch PrimaryMOS SubjectsBirthLocation  SubjectNumericRace           Ethnicity  DODRace  Age  Heightin  Weightlbs WritingPreference  \n",
              "0                    645         363          399                   435                496                             447                      55                      404                  118                335                    368                           1268         113              362                   235                   1062                  327             148            803                     809            513  1647     1560                 1280            1013                 622             174            736           430               110                  844                           1488              406           295                 850         217                      345                   942       657                 152          756  Female  5-Oct-10    Fort Hood  Regular Army          Combat Support        92Y               Germany                   2                 NaN        2   26        61        142        Right hand  \n",
              "1                    595         340          375                   483                532                             492                      69                      334                  115                302                    345                           1389         110              426                   259                   1014                  346             142            835                     810            575  1751     1665                 1372            1107                 524             152            771           475               125                  901                           1470              422           254                 708         168                      329                  1032       534                 155          815  Female  5-Oct-10    Fort Hood  Regular Army  Combat Service Support        25U            California                   3             Mexican        3   21        64        120        Right hand  \n",
              "2                    655         345          399                   470                530                             469                      64                      401                  135                325                    369                           1414         122              398                   258                   1049                  362             164            904                     855            568  1779     1711                 1383            1089                 577             164            814           458               129                  882                           1542              419           269                 727         159                      367                  1035       663                 162          799  Female  5-Oct-10    Fort Hood  Regular Army  Combat Service Support        35D                 Texas                   1                 NaN        1   23        68        147        Right hand  \n",
              "3                    655         392          435                   469                520                             478                      67                      402                  118                357                    386                           1329         115              394                   250                   1121                  333             157            875                     815            536  1708     1660                 1358            1065                 679             187            736           463               125                  866                           1627              451           302                 923         235                      371                   999       782                 173          818  Female  5-Oct-10    Fort Hood  Regular Army  Combat Service Support        25U  District of Columbia                   8  Caribbean Islander        2   22        66        175        Right hand  \n",
              "4                    635         428          435                   440                491                             441                      63                      479                  114                340                    358                           1350         116              345                   242                   1151                  329             156            824                     810            559  1702     1572                 1292            1030                 766             197            766           429               116                  800                           1698              452           405                1163         300                      380                   911       886                 152          762  Female  5-Oct-10    Fort Hood  Regular Army             Combat Arms        42A                 Texas                   1                 NaN        1   45        63        195        Right hand  "
            ],
            "text/html": [
              "\n",
              "  <div id=\"df-9c509273-c39f-426a-8357-f39db1b93d5d\">\n",
              "    <div class=\"colab-df-container\">\n",
              "      <div>\n",
              "<style scoped>\n",
              "    .dataframe tbody tr th:only-of-type {\n",
              "        vertical-align: middle;\n",
              "    }\n",
              "\n",
              "    .dataframe tbody tr th {\n",
              "        vertical-align: top;\n",
              "    }\n",
              "\n",
              "    .dataframe thead th {\n",
              "        text-align: right;\n",
              "    }\n",
              "</style>\n",
              "<table border=\"1\" class=\"dataframe\">\n",
              "  <thead>\n",
              "    <tr style=\"text-align: right;\">\n",
              "      <th></th>\n",
              "      <th>SubjectId</th>\n",
              "      <th>abdominalextensiondepthsitting</th>\n",
              "      <th>acromialheight</th>\n",
              "      <th>acromionradialelength</th>\n",
              "      <th>anklecircumference</th>\n",
              "      <th>axillaheight</th>\n",
              "      <th>balloffootcircumference</th>\n",
              "      <th>balloffootlength</th>\n",
              "      <th>biacromialbreadth</th>\n",
              "      <th>bicepscircumferenceflexed</th>\n",
              "      <th>bicristalbreadth</th>\n",
              "      <th>bideltoidbreadth</th>\n",
              "      <th>bimalleolarbreadth</th>\n",
              "      <th>bitragionchinarc</th>\n",
              "      <th>bitragionsubmandibulararc</th>\n",
              "      <th>bizygomaticbreadth</th>\n",
              "      <th>buttockcircumference</th>\n",
              "      <th>buttockdepth</th>\n",
              "      <th>buttockheight</th>\n",
              "      <th>buttockkneelength</th>\n",
              "      <th>buttockpopliteallength</th>\n",
              "      <th>calfcircumference</th>\n",
              "      <th>cervicaleheight</th>\n",
              "      <th>chestbreadth</th>\n",
              "      <th>chestcircumference</th>\n",
              "      <th>chestdepth</th>\n",
              "      <th>chestheight</th>\n",
              "      <th>crotchheight</th>\n",
              "      <th>crotchlengthomphalion</th>\n",
              "      <th>crotchlengthposterioromphalion</th>\n",
              "      <th>earbreadth</th>\n",
              "      <th>earlength</th>\n",
              "      <th>earprotrusion</th>\n",
              "      <th>elbowrestheight</th>\n",
              "      <th>eyeheightsitting</th>\n",
              "      <th>footbreadthhorizontal</th>\n",
              "      <th>footlength</th>\n",
              "      <th>forearmcenterofgriplength</th>\n",
              "      <th>forearmcircumferenceflexed</th>\n",
              "      <th>forearmforearmbreadth</th>\n",
              "      <th>forearmhandlength</th>\n",
              "      <th>functionalleglength</th>\n",
              "      <th>handbreadth</th>\n",
              "      <th>handcircumference</th>\n",
              "      <th>handlength</th>\n",
              "      <th>headbreadth</th>\n",
              "      <th>headcircumference</th>\n",
              "      <th>headlength</th>\n",
              "      <th>heelanklecircumference</th>\n",
              "      <th>heelbreadth</th>\n",
              "      <th>hipbreadth</th>\n",
              "      <th>hipbreadthsitting</th>\n",
              "      <th>iliocristaleheight</th>\n",
              "      <th>interpupillarybreadth</th>\n",
              "      <th>interscyei</th>\n",
              "      <th>interscyeii</th>\n",
              "      <th>kneeheightmidpatella</th>\n",
              "      <th>kneeheightsitting</th>\n",
              "      <th>lateralfemoralepicondyleheight</th>\n",
              "      <th>lateralmalleolusheight</th>\n",
              "      <th>lowerthighcircumference</th>\n",
              "      <th>mentonsellionlength</th>\n",
              "      <th>neckcircumference</th>\n",
              "      <th>neckcircumferencebase</th>\n",
              "      <th>overheadfingertipreachsitting</th>\n",
              "      <th>palmlength</th>\n",
              "      <th>poplitealheight</th>\n",
              "      <th>radialestylionlength</th>\n",
              "      <th>shouldercircumference</th>\n",
              "      <th>shoulderelbowlength</th>\n",
              "      <th>shoulderlength</th>\n",
              "      <th>sittingheight</th>\n",
              "      <th>sleevelengthspinewrist</th>\n",
              "      <th>sleeveoutseam</th>\n",
              "      <th>span</th>\n",
              "      <th>stature</th>\n",
              "      <th>suprasternaleheight</th>\n",
              "      <th>tenthribheight</th>\n",
              "      <th>thighcircumference</th>\n",
              "      <th>thighclearance</th>\n",
              "      <th>thumbtipreach</th>\n",
              "      <th>tibialheight</th>\n",
              "      <th>tragiontopofhead</th>\n",
              "      <th>trochanterionheight</th>\n",
              "      <th>verticaltrunkcircumferenceusa</th>\n",
              "      <th>waistbacklength</th>\n",
              "      <th>waistbreadth</th>\n",
              "      <th>waistcircumference</th>\n",
              "      <th>waistdepth</th>\n",
              "      <th>waistfrontlengthsitting</th>\n",
              "      <th>waistheightomphalion</th>\n",
              "      <th>weightkg</th>\n",
              "      <th>wristcircumference</th>\n",
              "      <th>wristheight</th>\n",
              "      <th>Gender</th>\n",
              "      <th>Date</th>\n",
              "      <th>Installation</th>\n",
              "      <th>Component</th>\n",
              "      <th>Branch</th>\n",
              "      <th>PrimaryMOS</th>\n",
              "      <th>SubjectsBirthLocation</th>\n",
              "      <th>SubjectNumericRace</th>\n",
              "      <th>Ethnicity</th>\n",
              "      <th>DODRace</th>\n",
              "      <th>Age</th>\n",
              "      <th>Heightin</th>\n",
              "      <th>Weightlbs</th>\n",
              "      <th>WritingPreference</th>\n",
              "    </tr>\n",
              "  </thead>\n",
              "  <tbody>\n",
              "    <tr>\n",
              "      <th>0</th>\n",
              "      <td>10037</td>\n",
              "      <td>231</td>\n",
              "      <td>1282</td>\n",
              "      <td>301</td>\n",
              "      <td>204</td>\n",
              "      <td>1180</td>\n",
              "      <td>222</td>\n",
              "      <td>177</td>\n",
              "      <td>373</td>\n",
              "      <td>315</td>\n",
              "      <td>263</td>\n",
              "      <td>466</td>\n",
              "      <td>65</td>\n",
              "      <td>338</td>\n",
              "      <td>301</td>\n",
              "      <td>141</td>\n",
              "      <td>1011</td>\n",
              "      <td>223</td>\n",
              "      <td>836</td>\n",
              "      <td>587</td>\n",
              "      <td>476</td>\n",
              "      <td>360</td>\n",
              "      <td>1336</td>\n",
              "      <td>274</td>\n",
              "      <td>922</td>\n",
              "      <td>245</td>\n",
              "      <td>1095</td>\n",
              "      <td>759</td>\n",
              "      <td>557</td>\n",
              "      <td>310</td>\n",
              "      <td>35</td>\n",
              "      <td>65</td>\n",
              "      <td>16</td>\n",
              "      <td>220</td>\n",
              "      <td>713</td>\n",
              "      <td>91</td>\n",
              "      <td>246</td>\n",
              "      <td>316</td>\n",
              "      <td>265</td>\n",
              "      <td>517</td>\n",
              "      <td>432</td>\n",
              "      <td>1028</td>\n",
              "      <td>75</td>\n",
              "      <td>182</td>\n",
              "      <td>184</td>\n",
              "      <td>141</td>\n",
              "      <td>548</td>\n",
              "      <td>191</td>\n",
              "      <td>314</td>\n",
              "      <td>69</td>\n",
              "      <td>345</td>\n",
              "      <td>388</td>\n",
              "      <td>966</td>\n",
              "      <td>645</td>\n",
              "      <td>363</td>\n",
              "      <td>399</td>\n",
              "      <td>435</td>\n",
              "      <td>496</td>\n",
              "      <td>447</td>\n",
              "      <td>55</td>\n",
              "      <td>404</td>\n",
              "      <td>118</td>\n",
              "      <td>335</td>\n",
              "      <td>368</td>\n",
              "      <td>1268</td>\n",
              "      <td>113</td>\n",
              "      <td>362</td>\n",
              "      <td>235</td>\n",
              "      <td>1062</td>\n",
              "      <td>327</td>\n",
              "      <td>148</td>\n",
              "      <td>803</td>\n",
              "      <td>809</td>\n",
              "      <td>513</td>\n",
              "      <td>1647</td>\n",
              "      <td>1560</td>\n",
              "      <td>1280</td>\n",
              "      <td>1013</td>\n",
              "      <td>622</td>\n",
              "      <td>174</td>\n",
              "      <td>736</td>\n",
              "      <td>430</td>\n",
              "      <td>110</td>\n",
              "      <td>844</td>\n",
              "      <td>1488</td>\n",
              "      <td>406</td>\n",
              "      <td>295</td>\n",
              "      <td>850</td>\n",
              "      <td>217</td>\n",
              "      <td>345</td>\n",
              "      <td>942</td>\n",
              "      <td>657</td>\n",
              "      <td>152</td>\n",
              "      <td>756</td>\n",
              "      <td>Female</td>\n",
              "      <td>5-Oct-10</td>\n",
              "      <td>Fort Hood</td>\n",
              "      <td>Regular Army</td>\n",
              "      <td>Combat Support</td>\n",
              "      <td>92Y</td>\n",
              "      <td>Germany</td>\n",
              "      <td>2</td>\n",
              "      <td>NaN</td>\n",
              "      <td>2</td>\n",
              "      <td>26</td>\n",
              "      <td>61</td>\n",
              "      <td>142</td>\n",
              "      <td>Right hand</td>\n",
              "    </tr>\n",
              "    <tr>\n",
              "      <th>1</th>\n",
              "      <td>10038</td>\n",
              "      <td>194</td>\n",
              "      <td>1379</td>\n",
              "      <td>320</td>\n",
              "      <td>207</td>\n",
              "      <td>1292</td>\n",
              "      <td>225</td>\n",
              "      <td>178</td>\n",
              "      <td>372</td>\n",
              "      <td>272</td>\n",
              "      <td>250</td>\n",
              "      <td>430</td>\n",
              "      <td>64</td>\n",
              "      <td>294</td>\n",
              "      <td>270</td>\n",
              "      <td>126</td>\n",
              "      <td>893</td>\n",
              "      <td>186</td>\n",
              "      <td>900</td>\n",
              "      <td>583</td>\n",
              "      <td>483</td>\n",
              "      <td>350</td>\n",
              "      <td>1440</td>\n",
              "      <td>261</td>\n",
              "      <td>839</td>\n",
              "      <td>206</td>\n",
              "      <td>1234</td>\n",
              "      <td>835</td>\n",
              "      <td>549</td>\n",
              "      <td>329</td>\n",
              "      <td>32</td>\n",
              "      <td>60</td>\n",
              "      <td>23</td>\n",
              "      <td>208</td>\n",
              "      <td>726</td>\n",
              "      <td>91</td>\n",
              "      <td>249</td>\n",
              "      <td>341</td>\n",
              "      <td>247</td>\n",
              "      <td>468</td>\n",
              "      <td>463</td>\n",
              "      <td>1117</td>\n",
              "      <td>78</td>\n",
              "      <td>187</td>\n",
              "      <td>189</td>\n",
              "      <td>138</td>\n",
              "      <td>535</td>\n",
              "      <td>180</td>\n",
              "      <td>307</td>\n",
              "      <td>60</td>\n",
              "      <td>315</td>\n",
              "      <td>335</td>\n",
              "      <td>1048</td>\n",
              "      <td>595</td>\n",
              "      <td>340</td>\n",
              "      <td>375</td>\n",
              "      <td>483</td>\n",
              "      <td>532</td>\n",
              "      <td>492</td>\n",
              "      <td>69</td>\n",
              "      <td>334</td>\n",
              "      <td>115</td>\n",
              "      <td>302</td>\n",
              "      <td>345</td>\n",
              "      <td>1389</td>\n",
              "      <td>110</td>\n",
              "      <td>426</td>\n",
              "      <td>259</td>\n",
              "      <td>1014</td>\n",
              "      <td>346</td>\n",
              "      <td>142</td>\n",
              "      <td>835</td>\n",
              "      <td>810</td>\n",
              "      <td>575</td>\n",
              "      <td>1751</td>\n",
              "      <td>1665</td>\n",
              "      <td>1372</td>\n",
              "      <td>1107</td>\n",
              "      <td>524</td>\n",
              "      <td>152</td>\n",
              "      <td>771</td>\n",
              "      <td>475</td>\n",
              "      <td>125</td>\n",
              "      <td>901</td>\n",
              "      <td>1470</td>\n",
              "      <td>422</td>\n",
              "      <td>254</td>\n",
              "      <td>708</td>\n",
              "      <td>168</td>\n",
              "      <td>329</td>\n",
              "      <td>1032</td>\n",
              "      <td>534</td>\n",
              "      <td>155</td>\n",
              "      <td>815</td>\n",
              "      <td>Female</td>\n",
              "      <td>5-Oct-10</td>\n",
              "      <td>Fort Hood</td>\n",
              "      <td>Regular Army</td>\n",
              "      <td>Combat Service Support</td>\n",
              "      <td>25U</td>\n",
              "      <td>California</td>\n",
              "      <td>3</td>\n",
              "      <td>Mexican</td>\n",
              "      <td>3</td>\n",
              "      <td>21</td>\n",
              "      <td>64</td>\n",
              "      <td>120</td>\n",
              "      <td>Right hand</td>\n",
              "    </tr>\n",
              "    <tr>\n",
              "      <th>2</th>\n",
              "      <td>10042</td>\n",
              "      <td>183</td>\n",
              "      <td>1369</td>\n",
              "      <td>329</td>\n",
              "      <td>233</td>\n",
              "      <td>1271</td>\n",
              "      <td>237</td>\n",
              "      <td>196</td>\n",
              "      <td>397</td>\n",
              "      <td>300</td>\n",
              "      <td>276</td>\n",
              "      <td>450</td>\n",
              "      <td>69</td>\n",
              "      <td>309</td>\n",
              "      <td>270</td>\n",
              "      <td>128</td>\n",
              "      <td>987</td>\n",
              "      <td>204</td>\n",
              "      <td>861</td>\n",
              "      <td>583</td>\n",
              "      <td>466</td>\n",
              "      <td>384</td>\n",
              "      <td>1451</td>\n",
              "      <td>287</td>\n",
              "      <td>874</td>\n",
              "      <td>223</td>\n",
              "      <td>1226</td>\n",
              "      <td>821</td>\n",
              "      <td>643</td>\n",
              "      <td>374</td>\n",
              "      <td>36</td>\n",
              "      <td>65</td>\n",
              "      <td>26</td>\n",
              "      <td>204</td>\n",
              "      <td>790</td>\n",
              "      <td>100</td>\n",
              "      <td>265</td>\n",
              "      <td>343</td>\n",
              "      <td>262</td>\n",
              "      <td>488</td>\n",
              "      <td>469</td>\n",
              "      <td>1060</td>\n",
              "      <td>84</td>\n",
              "      <td>198</td>\n",
              "      <td>195</td>\n",
              "      <td>146</td>\n",
              "      <td>588</td>\n",
              "      <td>207</td>\n",
              "      <td>331</td>\n",
              "      <td>70</td>\n",
              "      <td>356</td>\n",
              "      <td>399</td>\n",
              "      <td>1043</td>\n",
              "      <td>655</td>\n",
              "      <td>345</td>\n",
              "      <td>399</td>\n",
              "      <td>470</td>\n",
              "      <td>530</td>\n",
              "      <td>469</td>\n",
              "      <td>64</td>\n",
              "      <td>401</td>\n",
              "      <td>135</td>\n",
              "      <td>325</td>\n",
              "      <td>369</td>\n",
              "      <td>1414</td>\n",
              "      <td>122</td>\n",
              "      <td>398</td>\n",
              "      <td>258</td>\n",
              "      <td>1049</td>\n",
              "      <td>362</td>\n",
              "      <td>164</td>\n",
              "      <td>904</td>\n",
              "      <td>855</td>\n",
              "      <td>568</td>\n",
              "      <td>1779</td>\n",
              "      <td>1711</td>\n",
              "      <td>1383</td>\n",
              "      <td>1089</td>\n",
              "      <td>577</td>\n",
              "      <td>164</td>\n",
              "      <td>814</td>\n",
              "      <td>458</td>\n",
              "      <td>129</td>\n",
              "      <td>882</td>\n",
              "      <td>1542</td>\n",
              "      <td>419</td>\n",
              "      <td>269</td>\n",
              "      <td>727</td>\n",
              "      <td>159</td>\n",
              "      <td>367</td>\n",
              "      <td>1035</td>\n",
              "      <td>663</td>\n",
              "      <td>162</td>\n",
              "      <td>799</td>\n",
              "      <td>Female</td>\n",
              "      <td>5-Oct-10</td>\n",
              "      <td>Fort Hood</td>\n",
              "      <td>Regular Army</td>\n",
              "      <td>Combat Service Support</td>\n",
              "      <td>35D</td>\n",
              "      <td>Texas</td>\n",
              "      <td>1</td>\n",
              "      <td>NaN</td>\n",
              "      <td>1</td>\n",
              "      <td>23</td>\n",
              "      <td>68</td>\n",
              "      <td>147</td>\n",
              "      <td>Right hand</td>\n",
              "    </tr>\n",
              "    <tr>\n",
              "      <th>3</th>\n",
              "      <td>10043</td>\n",
              "      <td>261</td>\n",
              "      <td>1356</td>\n",
              "      <td>306</td>\n",
              "      <td>214</td>\n",
              "      <td>1250</td>\n",
              "      <td>240</td>\n",
              "      <td>188</td>\n",
              "      <td>384</td>\n",
              "      <td>364</td>\n",
              "      <td>276</td>\n",
              "      <td>484</td>\n",
              "      <td>68</td>\n",
              "      <td>340</td>\n",
              "      <td>294</td>\n",
              "      <td>144</td>\n",
              "      <td>1012</td>\n",
              "      <td>253</td>\n",
              "      <td>897</td>\n",
              "      <td>599</td>\n",
              "      <td>471</td>\n",
              "      <td>372</td>\n",
              "      <td>1430</td>\n",
              "      <td>269</td>\n",
              "      <td>1008</td>\n",
              "      <td>285</td>\n",
              "      <td>1170</td>\n",
              "      <td>804</td>\n",
              "      <td>640</td>\n",
              "      <td>351</td>\n",
              "      <td>38</td>\n",
              "      <td>62</td>\n",
              "      <td>22</td>\n",
              "      <td>244</td>\n",
              "      <td>775</td>\n",
              "      <td>97</td>\n",
              "      <td>265</td>\n",
              "      <td>331</td>\n",
              "      <td>309</td>\n",
              "      <td>529</td>\n",
              "      <td>455</td>\n",
              "      <td>1069</td>\n",
              "      <td>80</td>\n",
              "      <td>192</td>\n",
              "      <td>186</td>\n",
              "      <td>153</td>\n",
              "      <td>593</td>\n",
              "      <td>206</td>\n",
              "      <td>332</td>\n",
              "      <td>68</td>\n",
              "      <td>337</td>\n",
              "      <td>402</td>\n",
              "      <td>1029</td>\n",
              "      <td>655</td>\n",
              "      <td>392</td>\n",
              "      <td>435</td>\n",
              "      <td>469</td>\n",
              "      <td>520</td>\n",
              "      <td>478</td>\n",
              "      <td>67</td>\n",
              "      <td>402</td>\n",
              "      <td>118</td>\n",
              "      <td>357</td>\n",
              "      <td>386</td>\n",
              "      <td>1329</td>\n",
              "      <td>115</td>\n",
              "      <td>394</td>\n",
              "      <td>250</td>\n",
              "      <td>1121</td>\n",
              "      <td>333</td>\n",
              "      <td>157</td>\n",
              "      <td>875</td>\n",
              "      <td>815</td>\n",
              "      <td>536</td>\n",
              "      <td>1708</td>\n",
              "      <td>1660</td>\n",
              "      <td>1358</td>\n",
              "      <td>1065</td>\n",
              "      <td>679</td>\n",
              "      <td>187</td>\n",
              "      <td>736</td>\n",
              "      <td>463</td>\n",
              "      <td>125</td>\n",
              "      <td>866</td>\n",
              "      <td>1627</td>\n",
              "      <td>451</td>\n",
              "      <td>302</td>\n",
              "      <td>923</td>\n",
              "      <td>235</td>\n",
              "      <td>371</td>\n",
              "      <td>999</td>\n",
              "      <td>782</td>\n",
              "      <td>173</td>\n",
              "      <td>818</td>\n",
              "      <td>Female</td>\n",
              "      <td>5-Oct-10</td>\n",
              "      <td>Fort Hood</td>\n",
              "      <td>Regular Army</td>\n",
              "      <td>Combat Service Support</td>\n",
              "      <td>25U</td>\n",
              "      <td>District of Columbia</td>\n",
              "      <td>8</td>\n",
              "      <td>Caribbean Islander</td>\n",
              "      <td>2</td>\n",
              "      <td>22</td>\n",
              "      <td>66</td>\n",
              "      <td>175</td>\n",
              "      <td>Right hand</td>\n",
              "    </tr>\n",
              "    <tr>\n",
              "      <th>4</th>\n",
              "      <td>10051</td>\n",
              "      <td>309</td>\n",
              "      <td>1303</td>\n",
              "      <td>308</td>\n",
              "      <td>214</td>\n",
              "      <td>1210</td>\n",
              "      <td>217</td>\n",
              "      <td>182</td>\n",
              "      <td>378</td>\n",
              "      <td>320</td>\n",
              "      <td>336</td>\n",
              "      <td>525</td>\n",
              "      <td>67</td>\n",
              "      <td>300</td>\n",
              "      <td>295</td>\n",
              "      <td>135</td>\n",
              "      <td>1281</td>\n",
              "      <td>284</td>\n",
              "      <td>811</td>\n",
              "      <td>607</td>\n",
              "      <td>467</td>\n",
              "      <td>433</td>\n",
              "      <td>1362</td>\n",
              "      <td>305</td>\n",
              "      <td>1089</td>\n",
              "      <td>290</td>\n",
              "      <td>1112</td>\n",
              "      <td>726</td>\n",
              "      <td>686</td>\n",
              "      <td>356</td>\n",
              "      <td>34</td>\n",
              "      <td>65</td>\n",
              "      <td>18</td>\n",
              "      <td>233</td>\n",
              "      <td>732</td>\n",
              "      <td>88</td>\n",
              "      <td>247</td>\n",
              "      <td>339</td>\n",
              "      <td>260</td>\n",
              "      <td>596</td>\n",
              "      <td>447</td>\n",
              "      <td>1039</td>\n",
              "      <td>78</td>\n",
              "      <td>183</td>\n",
              "      <td>187</td>\n",
              "      <td>140</td>\n",
              "      <td>522</td>\n",
              "      <td>181</td>\n",
              "      <td>308</td>\n",
              "      <td>63</td>\n",
              "      <td>448</td>\n",
              "      <td>499</td>\n",
              "      <td>964</td>\n",
              "      <td>635</td>\n",
              "      <td>428</td>\n",
              "      <td>435</td>\n",
              "      <td>440</td>\n",
              "      <td>491</td>\n",
              "      <td>441</td>\n",
              "      <td>63</td>\n",
              "      <td>479</td>\n",
              "      <td>114</td>\n",
              "      <td>340</td>\n",
              "      <td>358</td>\n",
              "      <td>1350</td>\n",
              "      <td>116</td>\n",
              "      <td>345</td>\n",
              "      <td>242</td>\n",
              "      <td>1151</td>\n",
              "      <td>329</td>\n",
              "      <td>156</td>\n",
              "      <td>824</td>\n",
              "      <td>810</td>\n",
              "      <td>559</td>\n",
              "      <td>1702</td>\n",
              "      <td>1572</td>\n",
              "      <td>1292</td>\n",
              "      <td>1030</td>\n",
              "      <td>766</td>\n",
              "      <td>197</td>\n",
              "      <td>766</td>\n",
              "      <td>429</td>\n",
              "      <td>116</td>\n",
              "      <td>800</td>\n",
              "      <td>1698</td>\n",
              "      <td>452</td>\n",
              "      <td>405</td>\n",
              "      <td>1163</td>\n",
              "      <td>300</td>\n",
              "      <td>380</td>\n",
              "      <td>911</td>\n",
              "      <td>886</td>\n",
              "      <td>152</td>\n",
              "      <td>762</td>\n",
              "      <td>Female</td>\n",
              "      <td>5-Oct-10</td>\n",
              "      <td>Fort Hood</td>\n",
              "      <td>Regular Army</td>\n",
              "      <td>Combat Arms</td>\n",
              "      <td>42A</td>\n",
              "      <td>Texas</td>\n",
              "      <td>1</td>\n",
              "      <td>NaN</td>\n",
              "      <td>1</td>\n",
              "      <td>45</td>\n",
              "      <td>63</td>\n",
              "      <td>195</td>\n",
              "      <td>Right hand</td>\n",
              "    </tr>\n",
              "  </tbody>\n",
              "</table>\n",
              "</div>\n",
              "      <button class=\"colab-df-convert\" onclick=\"convertToInteractive('df-9c509273-c39f-426a-8357-f39db1b93d5d')\"\n",
              "              title=\"Convert this dataframe to an interactive table.\"\n",
              "              style=\"display:none;\">\n",
              "        \n",
              "  <svg xmlns=\"http://www.w3.org/2000/svg\" height=\"24px\"viewBox=\"0 0 24 24\"\n",
              "       width=\"24px\">\n",
              "    <path d=\"M0 0h24v24H0V0z\" fill=\"none\"/>\n",
              "    <path d=\"M18.56 5.44l.94 2.06.94-2.06 2.06-.94-2.06-.94-.94-2.06-.94 2.06-2.06.94zm-11 1L8.5 8.5l.94-2.06 2.06-.94-2.06-.94L8.5 2.5l-.94 2.06-2.06.94zm10 10l.94 2.06.94-2.06 2.06-.94-2.06-.94-.94-2.06-.94 2.06-2.06.94z\"/><path d=\"M17.41 7.96l-1.37-1.37c-.4-.4-.92-.59-1.43-.59-.52 0-1.04.2-1.43.59L10.3 9.45l-7.72 7.72c-.78.78-.78 2.05 0 2.83L4 21.41c.39.39.9.59 1.41.59.51 0 1.02-.2 1.41-.59l7.78-7.78 2.81-2.81c.8-.78.8-2.07 0-2.86zM5.41 20L4 18.59l7.72-7.72 1.47 1.35L5.41 20z\"/>\n",
              "  </svg>\n",
              "      </button>\n",
              "      \n",
              "  <style>\n",
              "    .colab-df-container {\n",
              "      display:flex;\n",
              "      flex-wrap:wrap;\n",
              "      gap: 12px;\n",
              "    }\n",
              "\n",
              "    .colab-df-convert {\n",
              "      background-color: #E8F0FE;\n",
              "      border: none;\n",
              "      border-radius: 50%;\n",
              "      cursor: pointer;\n",
              "      display: none;\n",
              "      fill: #1967D2;\n",
              "      height: 32px;\n",
              "      padding: 0 0 0 0;\n",
              "      width: 32px;\n",
              "    }\n",
              "\n",
              "    .colab-df-convert:hover {\n",
              "      background-color: #E2EBFA;\n",
              "      box-shadow: 0px 1px 2px rgba(60, 64, 67, 0.3), 0px 1px 3px 1px rgba(60, 64, 67, 0.15);\n",
              "      fill: #174EA6;\n",
              "    }\n",
              "\n",
              "    [theme=dark] .colab-df-convert {\n",
              "      background-color: #3B4455;\n",
              "      fill: #D2E3FC;\n",
              "    }\n",
              "\n",
              "    [theme=dark] .colab-df-convert:hover {\n",
              "      background-color: #434B5C;\n",
              "      box-shadow: 0px 1px 3px 1px rgba(0, 0, 0, 0.15);\n",
              "      filter: drop-shadow(0px 1px 2px rgba(0, 0, 0, 0.3));\n",
              "      fill: #FFFFFF;\n",
              "    }\n",
              "  </style>\n",
              "\n",
              "      <script>\n",
              "        const buttonEl =\n",
              "          document.querySelector('#df-9c509273-c39f-426a-8357-f39db1b93d5d button.colab-df-convert');\n",
              "        buttonEl.style.display =\n",
              "          google.colab.kernel.accessAllowed ? 'block' : 'none';\n",
              "\n",
              "        async function convertToInteractive(key) {\n",
              "          const element = document.querySelector('#df-9c509273-c39f-426a-8357-f39db1b93d5d');\n",
              "          const dataTable =\n",
              "            await google.colab.kernel.invokeFunction('convertToInteractive',\n",
              "                                                     [key], {});\n",
              "          if (!dataTable) return;\n",
              "\n",
              "          const docLinkHtml = 'Like what you see? Visit the ' +\n",
              "            '<a target=\"_blank\" href=https://colab.research.google.com/notebooks/data_table.ipynb>data table notebook</a>'\n",
              "            + ' to learn more about interactive tables.';\n",
              "          element.innerHTML = '';\n",
              "          dataTable['output_type'] = 'display_data';\n",
              "          await google.colab.output.renderOutput(dataTable, element);\n",
              "          const docLink = document.createElement('div');\n",
              "          docLink.innerHTML = docLinkHtml;\n",
              "          element.appendChild(docLink);\n",
              "        }\n",
              "      </script>\n",
              "    </div>\n",
              "  </div>\n",
              "  "
            ]
          },
          "metadata": {},
          "execution_count": 6
        }
      ],
      "source": [
        "df_female.head()"
      ]
    },
    {
      "cell_type": "markdown",
      "metadata": {
        "id": "4j5onH1A-QP4"
      },
      "source": [
        "## Data Review"
      ]
    },
    {
      "cell_type": "code",
      "execution_count": 7,
      "metadata": {
        "ExecuteTime": {
          "end_time": "2022-09-08T21:16:16.223338Z",
          "start_time": "2022-09-08T21:16:16.203700Z"
        },
        "colab": {
          "base_uri": "https://localhost:8080/"
        },
        "hidden": true,
        "id": "D2pvKpjstKH6",
        "outputId": "a5ace592-1cb0-47d1-b21a-828cd4201b58"
      },
      "outputs": [
        {
          "output_type": "stream",
          "name": "stdout",
          "text": [
            "(4082, 108)\n",
            "(1986, 108)\n"
          ]
        }
      ],
      "source": [
        "print(df_male.shape)\n",
        "print(df_female.shape)"
      ]
    },
    {
      "cell_type": "code",
      "execution_count": 8,
      "metadata": {
        "id": "sSqRWJUc-QP5"
      },
      "outputs": [],
      "source": [
        "df_female.rename({\"SubjectId\":\"subjectid\"}, axis=1, inplace=True)"
      ]
    },
    {
      "cell_type": "code",
      "execution_count": 9,
      "metadata": {
        "ExecuteTime": {
          "end_time": "2022-09-08T21:16:29.234174Z",
          "start_time": "2022-09-08T21:16:29.182937Z"
        },
        "colab": {
          "base_uri": "https://localhost:8080/",
          "height": 392
        },
        "hidden": true,
        "id": "SnlGRPWbrNAj",
        "outputId": "0b02777f-e8f3-4cb7-9cdb-d842438eecf2"
      },
      "outputs": [
        {
          "output_type": "execute_result",
          "data": {
            "text/plain": [
              "   subjectid  abdominalextensiondepthsitting  acromialheight  acromionradialelength  anklecircumference  axillaheight  balloffootcircumference  balloffootlength  biacromialbreadth  bicepscircumferenceflexed  bicristalbreadth  bideltoidbreadth  bimalleolarbreadth  bitragionchinarc  bitragionsubmandibulararc  bizygomaticbreadth  buttockcircumference  buttockdepth  buttockheight  buttockkneelength  buttockpopliteallength  calfcircumference  cervicaleheight  chestbreadth  chestcircumference  chestdepth  chestheight  crotchheight  crotchlengthomphalion  crotchlengthposterioromphalion  earbreadth  earlength  earprotrusion  elbowrestheight  eyeheightsitting  footbreadthhorizontal  footlength  forearmcenterofgriplength  forearmcircumferenceflexed  forearmforearmbreadth  forearmhandlength  functionalleglength  handbreadth  handcircumference  handlength  headbreadth  headcircumference  headlength  heelanklecircumference  heelbreadth  hipbreadth  hipbreadthsitting  iliocristaleheight  \\\n",
              "0      10027                             266            1467                    337                 222          1347                      253               202                401                        369               274               493                  71               319                        291                 142                   979           240            882                619                     509                373             1535           291                1074         259         1292           877                    607                             351          36         71             19              247               802                    101         273                        349                         299                    575                477                 1136           90                214         193          150                583         206                     326           70         332                366                1071   \n",
              "1      10032                             233            1395                    326                 220          1293                      245               193                394                        338               257               479                  67               344                        320                 135                   944           232            870                584                     468                357             1471           269                1021         253         1244           851                    615                             376          33         62             18              232               781                     98         263                        348                         289                    523                476                 1096           86                203         195          146                568         201                     334           72         312                356                1046   \n",
              "2      10033                             287            1430                    341                 230          1327                      256               196                427                        408               261               544                  75               345                        330                 135                  1054           258            901                623                     506                412             1501           288                1120         267         1288           854                    636                             359          40         61             23              237               810                    103         270                        355                         357                    575                491                 1115           93                220         203          148                573         202                     356           70         349                393                1053   \n",
              "3      10092                             234            1347                    310                 230          1239                      262               199                401                        359               262               518                  73               328                        309                 143                   991           242            821                560                     437                395             1423           296                1114         262         1205           769                    590                             341          39         66             25              272               794                    106         267                        352                         318                    593                467                 1034           91                217         194          158                576         199                     341           68         338                367                 986   \n",
              "4      10093                             250            1585                    372                 247          1478                      267               224                435                        356               263               524                  80               340                        310                 138                  1029           275           1080                706                     567                425             1684           304                1048         232         1452          1014                    682                             382          32         56             19              188               814                    111         305                        399                         324                    605                550                 1279           94                222         218          153                566         197                     374           69         332                372                1251   \n",
              "\n",
              "   interpupillarybreadth  interscyei  interscyeii  kneeheightmidpatella  kneeheightsitting  lateralfemoralepicondyleheight  lateralmalleolusheight  lowerthighcircumference  mentonsellionlength  neckcircumference  neckcircumferencebase  overheadfingertipreachsitting  palmlength  poplitealheight  radialestylionlength  shouldercircumference  shoulderelbowlength  shoulderlength  sittingheight  sleevelengthspinewrist  sleeveoutseam  span  stature  suprasternaleheight  tenthribheight  thighcircumference  thighclearance  thumbtipreach  tibialheight  tragiontopofhead  trochanterionheight  verticaltrunkcircumferenceusa  waistbacklength  waistbreadth  waistcircumference  waistdepth  waistfrontlengthsitting  waistheightomphalion  weightkg  wristcircumference  wristheight Gender       Date Installation     Component                  Branch PrimaryMOS SubjectsBirthLocation  SubjectNumericRace Ethnicity  DODRace  Age  Heightin  Weightlbs WritingPreference  \n",
              "0                    685         422          441                   502                560                             500                      77                      391                  118                400                    436                           1447         113              437                   273                   1151                  368             145            928                     883            600  1782     1776                 1449            1092                 610             164            786           491               140                  919                           1700              501           329                 933         240                      440                  1054       815                 175          853   Male   4-Oct-10    Fort Hood  Regular Army             Combat Arms        19D          North Dakota                   1       NaN        1   41        71        180        Right hand  \n",
              "1                    620         441          447                   490                540                             488                      73                      371                  131                380                    420                           1380         118              417                   254                   1119                  353             141            884                     868            564  1745     1702                 1387            1076                 572             169            822           476               120                  918                           1627              432           316                 870         225                      371                  1054       726                 167          815   Male   4-Oct-10    Fort Hood  Regular Army          Combat Support        68W              New York                   1       NaN        1   35        68        160         Left hand  \n",
              "2                    665         462          475                   496                556                             482                      72                      409                  123                403                    434                           1447         121              431                   268                   1276                  367             167            917                     910            604  1867     1735                 1438            1105                 685             198            807           477               125                  918                           1678              472           329                 964         255                      411                  1041       929                 180          831   Male   4-Oct-10    Fort Hood  Regular Army          Combat Support        68W              New York                   2       NaN        2   42        68        205         Left hand  \n",
              "3                    640         458          461                   460                511                             452                      76                      393                  106                407                    446                           1357         118              393                   249                   1155                  330             148            903                     848            550  1708     1655                 1346            1021                 604             180            803           445               127                  847                           1625              461           315                 857         205                      399                   968       794                 176          793   Male  12-Oct-10    Fort Hood  Regular Army  Combat Service Support        88M             Wisconsin                   1       NaN        1   31        66        175        Right hand  \n",
              "4                    675         481          505                   612                666                             585                      85                      458                  135                398                    430                           1572         132              523                   302                   1231                  400             180            919                     995            641  2035     1914                 1596            1292                 672             194            962           584               122                 1090                           1679              467           303                 868         214                      379                  1245       946                 188          954   Male  12-Oct-10    Fort Hood  Regular Army  Combat Service Support        92G        North Carolina                   2       NaN        2   21        77        213        Right hand  "
            ],
            "text/html": [
              "\n",
              "  <div id=\"df-defb94d2-cafd-4da4-b787-80b36f5cabeb\">\n",
              "    <div class=\"colab-df-container\">\n",
              "      <div>\n",
              "<style scoped>\n",
              "    .dataframe tbody tr th:only-of-type {\n",
              "        vertical-align: middle;\n",
              "    }\n",
              "\n",
              "    .dataframe tbody tr th {\n",
              "        vertical-align: top;\n",
              "    }\n",
              "\n",
              "    .dataframe thead th {\n",
              "        text-align: right;\n",
              "    }\n",
              "</style>\n",
              "<table border=\"1\" class=\"dataframe\">\n",
              "  <thead>\n",
              "    <tr style=\"text-align: right;\">\n",
              "      <th></th>\n",
              "      <th>subjectid</th>\n",
              "      <th>abdominalextensiondepthsitting</th>\n",
              "      <th>acromialheight</th>\n",
              "      <th>acromionradialelength</th>\n",
              "      <th>anklecircumference</th>\n",
              "      <th>axillaheight</th>\n",
              "      <th>balloffootcircumference</th>\n",
              "      <th>balloffootlength</th>\n",
              "      <th>biacromialbreadth</th>\n",
              "      <th>bicepscircumferenceflexed</th>\n",
              "      <th>bicristalbreadth</th>\n",
              "      <th>bideltoidbreadth</th>\n",
              "      <th>bimalleolarbreadth</th>\n",
              "      <th>bitragionchinarc</th>\n",
              "      <th>bitragionsubmandibulararc</th>\n",
              "      <th>bizygomaticbreadth</th>\n",
              "      <th>buttockcircumference</th>\n",
              "      <th>buttockdepth</th>\n",
              "      <th>buttockheight</th>\n",
              "      <th>buttockkneelength</th>\n",
              "      <th>buttockpopliteallength</th>\n",
              "      <th>calfcircumference</th>\n",
              "      <th>cervicaleheight</th>\n",
              "      <th>chestbreadth</th>\n",
              "      <th>chestcircumference</th>\n",
              "      <th>chestdepth</th>\n",
              "      <th>chestheight</th>\n",
              "      <th>crotchheight</th>\n",
              "      <th>crotchlengthomphalion</th>\n",
              "      <th>crotchlengthposterioromphalion</th>\n",
              "      <th>earbreadth</th>\n",
              "      <th>earlength</th>\n",
              "      <th>earprotrusion</th>\n",
              "      <th>elbowrestheight</th>\n",
              "      <th>eyeheightsitting</th>\n",
              "      <th>footbreadthhorizontal</th>\n",
              "      <th>footlength</th>\n",
              "      <th>forearmcenterofgriplength</th>\n",
              "      <th>forearmcircumferenceflexed</th>\n",
              "      <th>forearmforearmbreadth</th>\n",
              "      <th>forearmhandlength</th>\n",
              "      <th>functionalleglength</th>\n",
              "      <th>handbreadth</th>\n",
              "      <th>handcircumference</th>\n",
              "      <th>handlength</th>\n",
              "      <th>headbreadth</th>\n",
              "      <th>headcircumference</th>\n",
              "      <th>headlength</th>\n",
              "      <th>heelanklecircumference</th>\n",
              "      <th>heelbreadth</th>\n",
              "      <th>hipbreadth</th>\n",
              "      <th>hipbreadthsitting</th>\n",
              "      <th>iliocristaleheight</th>\n",
              "      <th>interpupillarybreadth</th>\n",
              "      <th>interscyei</th>\n",
              "      <th>interscyeii</th>\n",
              "      <th>kneeheightmidpatella</th>\n",
              "      <th>kneeheightsitting</th>\n",
              "      <th>lateralfemoralepicondyleheight</th>\n",
              "      <th>lateralmalleolusheight</th>\n",
              "      <th>lowerthighcircumference</th>\n",
              "      <th>mentonsellionlength</th>\n",
              "      <th>neckcircumference</th>\n",
              "      <th>neckcircumferencebase</th>\n",
              "      <th>overheadfingertipreachsitting</th>\n",
              "      <th>palmlength</th>\n",
              "      <th>poplitealheight</th>\n",
              "      <th>radialestylionlength</th>\n",
              "      <th>shouldercircumference</th>\n",
              "      <th>shoulderelbowlength</th>\n",
              "      <th>shoulderlength</th>\n",
              "      <th>sittingheight</th>\n",
              "      <th>sleevelengthspinewrist</th>\n",
              "      <th>sleeveoutseam</th>\n",
              "      <th>span</th>\n",
              "      <th>stature</th>\n",
              "      <th>suprasternaleheight</th>\n",
              "      <th>tenthribheight</th>\n",
              "      <th>thighcircumference</th>\n",
              "      <th>thighclearance</th>\n",
              "      <th>thumbtipreach</th>\n",
              "      <th>tibialheight</th>\n",
              "      <th>tragiontopofhead</th>\n",
              "      <th>trochanterionheight</th>\n",
              "      <th>verticaltrunkcircumferenceusa</th>\n",
              "      <th>waistbacklength</th>\n",
              "      <th>waistbreadth</th>\n",
              "      <th>waistcircumference</th>\n",
              "      <th>waistdepth</th>\n",
              "      <th>waistfrontlengthsitting</th>\n",
              "      <th>waistheightomphalion</th>\n",
              "      <th>weightkg</th>\n",
              "      <th>wristcircumference</th>\n",
              "      <th>wristheight</th>\n",
              "      <th>Gender</th>\n",
              "      <th>Date</th>\n",
              "      <th>Installation</th>\n",
              "      <th>Component</th>\n",
              "      <th>Branch</th>\n",
              "      <th>PrimaryMOS</th>\n",
              "      <th>SubjectsBirthLocation</th>\n",
              "      <th>SubjectNumericRace</th>\n",
              "      <th>Ethnicity</th>\n",
              "      <th>DODRace</th>\n",
              "      <th>Age</th>\n",
              "      <th>Heightin</th>\n",
              "      <th>Weightlbs</th>\n",
              "      <th>WritingPreference</th>\n",
              "    </tr>\n",
              "  </thead>\n",
              "  <tbody>\n",
              "    <tr>\n",
              "      <th>0</th>\n",
              "      <td>10027</td>\n",
              "      <td>266</td>\n",
              "      <td>1467</td>\n",
              "      <td>337</td>\n",
              "      <td>222</td>\n",
              "      <td>1347</td>\n",
              "      <td>253</td>\n",
              "      <td>202</td>\n",
              "      <td>401</td>\n",
              "      <td>369</td>\n",
              "      <td>274</td>\n",
              "      <td>493</td>\n",
              "      <td>71</td>\n",
              "      <td>319</td>\n",
              "      <td>291</td>\n",
              "      <td>142</td>\n",
              "      <td>979</td>\n",
              "      <td>240</td>\n",
              "      <td>882</td>\n",
              "      <td>619</td>\n",
              "      <td>509</td>\n",
              "      <td>373</td>\n",
              "      <td>1535</td>\n",
              "      <td>291</td>\n",
              "      <td>1074</td>\n",
              "      <td>259</td>\n",
              "      <td>1292</td>\n",
              "      <td>877</td>\n",
              "      <td>607</td>\n",
              "      <td>351</td>\n",
              "      <td>36</td>\n",
              "      <td>71</td>\n",
              "      <td>19</td>\n",
              "      <td>247</td>\n",
              "      <td>802</td>\n",
              "      <td>101</td>\n",
              "      <td>273</td>\n",
              "      <td>349</td>\n",
              "      <td>299</td>\n",
              "      <td>575</td>\n",
              "      <td>477</td>\n",
              "      <td>1136</td>\n",
              "      <td>90</td>\n",
              "      <td>214</td>\n",
              "      <td>193</td>\n",
              "      <td>150</td>\n",
              "      <td>583</td>\n",
              "      <td>206</td>\n",
              "      <td>326</td>\n",
              "      <td>70</td>\n",
              "      <td>332</td>\n",
              "      <td>366</td>\n",
              "      <td>1071</td>\n",
              "      <td>685</td>\n",
              "      <td>422</td>\n",
              "      <td>441</td>\n",
              "      <td>502</td>\n",
              "      <td>560</td>\n",
              "      <td>500</td>\n",
              "      <td>77</td>\n",
              "      <td>391</td>\n",
              "      <td>118</td>\n",
              "      <td>400</td>\n",
              "      <td>436</td>\n",
              "      <td>1447</td>\n",
              "      <td>113</td>\n",
              "      <td>437</td>\n",
              "      <td>273</td>\n",
              "      <td>1151</td>\n",
              "      <td>368</td>\n",
              "      <td>145</td>\n",
              "      <td>928</td>\n",
              "      <td>883</td>\n",
              "      <td>600</td>\n",
              "      <td>1782</td>\n",
              "      <td>1776</td>\n",
              "      <td>1449</td>\n",
              "      <td>1092</td>\n",
              "      <td>610</td>\n",
              "      <td>164</td>\n",
              "      <td>786</td>\n",
              "      <td>491</td>\n",
              "      <td>140</td>\n",
              "      <td>919</td>\n",
              "      <td>1700</td>\n",
              "      <td>501</td>\n",
              "      <td>329</td>\n",
              "      <td>933</td>\n",
              "      <td>240</td>\n",
              "      <td>440</td>\n",
              "      <td>1054</td>\n",
              "      <td>815</td>\n",
              "      <td>175</td>\n",
              "      <td>853</td>\n",
              "      <td>Male</td>\n",
              "      <td>4-Oct-10</td>\n",
              "      <td>Fort Hood</td>\n",
              "      <td>Regular Army</td>\n",
              "      <td>Combat Arms</td>\n",
              "      <td>19D</td>\n",
              "      <td>North Dakota</td>\n",
              "      <td>1</td>\n",
              "      <td>NaN</td>\n",
              "      <td>1</td>\n",
              "      <td>41</td>\n",
              "      <td>71</td>\n",
              "      <td>180</td>\n",
              "      <td>Right hand</td>\n",
              "    </tr>\n",
              "    <tr>\n",
              "      <th>1</th>\n",
              "      <td>10032</td>\n",
              "      <td>233</td>\n",
              "      <td>1395</td>\n",
              "      <td>326</td>\n",
              "      <td>220</td>\n",
              "      <td>1293</td>\n",
              "      <td>245</td>\n",
              "      <td>193</td>\n",
              "      <td>394</td>\n",
              "      <td>338</td>\n",
              "      <td>257</td>\n",
              "      <td>479</td>\n",
              "      <td>67</td>\n",
              "      <td>344</td>\n",
              "      <td>320</td>\n",
              "      <td>135</td>\n",
              "      <td>944</td>\n",
              "      <td>232</td>\n",
              "      <td>870</td>\n",
              "      <td>584</td>\n",
              "      <td>468</td>\n",
              "      <td>357</td>\n",
              "      <td>1471</td>\n",
              "      <td>269</td>\n",
              "      <td>1021</td>\n",
              "      <td>253</td>\n",
              "      <td>1244</td>\n",
              "      <td>851</td>\n",
              "      <td>615</td>\n",
              "      <td>376</td>\n",
              "      <td>33</td>\n",
              "      <td>62</td>\n",
              "      <td>18</td>\n",
              "      <td>232</td>\n",
              "      <td>781</td>\n",
              "      <td>98</td>\n",
              "      <td>263</td>\n",
              "      <td>348</td>\n",
              "      <td>289</td>\n",
              "      <td>523</td>\n",
              "      <td>476</td>\n",
              "      <td>1096</td>\n",
              "      <td>86</td>\n",
              "      <td>203</td>\n",
              "      <td>195</td>\n",
              "      <td>146</td>\n",
              "      <td>568</td>\n",
              "      <td>201</td>\n",
              "      <td>334</td>\n",
              "      <td>72</td>\n",
              "      <td>312</td>\n",
              "      <td>356</td>\n",
              "      <td>1046</td>\n",
              "      <td>620</td>\n",
              "      <td>441</td>\n",
              "      <td>447</td>\n",
              "      <td>490</td>\n",
              "      <td>540</td>\n",
              "      <td>488</td>\n",
              "      <td>73</td>\n",
              "      <td>371</td>\n",
              "      <td>131</td>\n",
              "      <td>380</td>\n",
              "      <td>420</td>\n",
              "      <td>1380</td>\n",
              "      <td>118</td>\n",
              "      <td>417</td>\n",
              "      <td>254</td>\n",
              "      <td>1119</td>\n",
              "      <td>353</td>\n",
              "      <td>141</td>\n",
              "      <td>884</td>\n",
              "      <td>868</td>\n",
              "      <td>564</td>\n",
              "      <td>1745</td>\n",
              "      <td>1702</td>\n",
              "      <td>1387</td>\n",
              "      <td>1076</td>\n",
              "      <td>572</td>\n",
              "      <td>169</td>\n",
              "      <td>822</td>\n",
              "      <td>476</td>\n",
              "      <td>120</td>\n",
              "      <td>918</td>\n",
              "      <td>1627</td>\n",
              "      <td>432</td>\n",
              "      <td>316</td>\n",
              "      <td>870</td>\n",
              "      <td>225</td>\n",
              "      <td>371</td>\n",
              "      <td>1054</td>\n",
              "      <td>726</td>\n",
              "      <td>167</td>\n",
              "      <td>815</td>\n",
              "      <td>Male</td>\n",
              "      <td>4-Oct-10</td>\n",
              "      <td>Fort Hood</td>\n",
              "      <td>Regular Army</td>\n",
              "      <td>Combat Support</td>\n",
              "      <td>68W</td>\n",
              "      <td>New York</td>\n",
              "      <td>1</td>\n",
              "      <td>NaN</td>\n",
              "      <td>1</td>\n",
              "      <td>35</td>\n",
              "      <td>68</td>\n",
              "      <td>160</td>\n",
              "      <td>Left hand</td>\n",
              "    </tr>\n",
              "    <tr>\n",
              "      <th>2</th>\n",
              "      <td>10033</td>\n",
              "      <td>287</td>\n",
              "      <td>1430</td>\n",
              "      <td>341</td>\n",
              "      <td>230</td>\n",
              "      <td>1327</td>\n",
              "      <td>256</td>\n",
              "      <td>196</td>\n",
              "      <td>427</td>\n",
              "      <td>408</td>\n",
              "      <td>261</td>\n",
              "      <td>544</td>\n",
              "      <td>75</td>\n",
              "      <td>345</td>\n",
              "      <td>330</td>\n",
              "      <td>135</td>\n",
              "      <td>1054</td>\n",
              "      <td>258</td>\n",
              "      <td>901</td>\n",
              "      <td>623</td>\n",
              "      <td>506</td>\n",
              "      <td>412</td>\n",
              "      <td>1501</td>\n",
              "      <td>288</td>\n",
              "      <td>1120</td>\n",
              "      <td>267</td>\n",
              "      <td>1288</td>\n",
              "      <td>854</td>\n",
              "      <td>636</td>\n",
              "      <td>359</td>\n",
              "      <td>40</td>\n",
              "      <td>61</td>\n",
              "      <td>23</td>\n",
              "      <td>237</td>\n",
              "      <td>810</td>\n",
              "      <td>103</td>\n",
              "      <td>270</td>\n",
              "      <td>355</td>\n",
              "      <td>357</td>\n",
              "      <td>575</td>\n",
              "      <td>491</td>\n",
              "      <td>1115</td>\n",
              "      <td>93</td>\n",
              "      <td>220</td>\n",
              "      <td>203</td>\n",
              "      <td>148</td>\n",
              "      <td>573</td>\n",
              "      <td>202</td>\n",
              "      <td>356</td>\n",
              "      <td>70</td>\n",
              "      <td>349</td>\n",
              "      <td>393</td>\n",
              "      <td>1053</td>\n",
              "      <td>665</td>\n",
              "      <td>462</td>\n",
              "      <td>475</td>\n",
              "      <td>496</td>\n",
              "      <td>556</td>\n",
              "      <td>482</td>\n",
              "      <td>72</td>\n",
              "      <td>409</td>\n",
              "      <td>123</td>\n",
              "      <td>403</td>\n",
              "      <td>434</td>\n",
              "      <td>1447</td>\n",
              "      <td>121</td>\n",
              "      <td>431</td>\n",
              "      <td>268</td>\n",
              "      <td>1276</td>\n",
              "      <td>367</td>\n",
              "      <td>167</td>\n",
              "      <td>917</td>\n",
              "      <td>910</td>\n",
              "      <td>604</td>\n",
              "      <td>1867</td>\n",
              "      <td>1735</td>\n",
              "      <td>1438</td>\n",
              "      <td>1105</td>\n",
              "      <td>685</td>\n",
              "      <td>198</td>\n",
              "      <td>807</td>\n",
              "      <td>477</td>\n",
              "      <td>125</td>\n",
              "      <td>918</td>\n",
              "      <td>1678</td>\n",
              "      <td>472</td>\n",
              "      <td>329</td>\n",
              "      <td>964</td>\n",
              "      <td>255</td>\n",
              "      <td>411</td>\n",
              "      <td>1041</td>\n",
              "      <td>929</td>\n",
              "      <td>180</td>\n",
              "      <td>831</td>\n",
              "      <td>Male</td>\n",
              "      <td>4-Oct-10</td>\n",
              "      <td>Fort Hood</td>\n",
              "      <td>Regular Army</td>\n",
              "      <td>Combat Support</td>\n",
              "      <td>68W</td>\n",
              "      <td>New York</td>\n",
              "      <td>2</td>\n",
              "      <td>NaN</td>\n",
              "      <td>2</td>\n",
              "      <td>42</td>\n",
              "      <td>68</td>\n",
              "      <td>205</td>\n",
              "      <td>Left hand</td>\n",
              "    </tr>\n",
              "    <tr>\n",
              "      <th>3</th>\n",
              "      <td>10092</td>\n",
              "      <td>234</td>\n",
              "      <td>1347</td>\n",
              "      <td>310</td>\n",
              "      <td>230</td>\n",
              "      <td>1239</td>\n",
              "      <td>262</td>\n",
              "      <td>199</td>\n",
              "      <td>401</td>\n",
              "      <td>359</td>\n",
              "      <td>262</td>\n",
              "      <td>518</td>\n",
              "      <td>73</td>\n",
              "      <td>328</td>\n",
              "      <td>309</td>\n",
              "      <td>143</td>\n",
              "      <td>991</td>\n",
              "      <td>242</td>\n",
              "      <td>821</td>\n",
              "      <td>560</td>\n",
              "      <td>437</td>\n",
              "      <td>395</td>\n",
              "      <td>1423</td>\n",
              "      <td>296</td>\n",
              "      <td>1114</td>\n",
              "      <td>262</td>\n",
              "      <td>1205</td>\n",
              "      <td>769</td>\n",
              "      <td>590</td>\n",
              "      <td>341</td>\n",
              "      <td>39</td>\n",
              "      <td>66</td>\n",
              "      <td>25</td>\n",
              "      <td>272</td>\n",
              "      <td>794</td>\n",
              "      <td>106</td>\n",
              "      <td>267</td>\n",
              "      <td>352</td>\n",
              "      <td>318</td>\n",
              "      <td>593</td>\n",
              "      <td>467</td>\n",
              "      <td>1034</td>\n",
              "      <td>91</td>\n",
              "      <td>217</td>\n",
              "      <td>194</td>\n",
              "      <td>158</td>\n",
              "      <td>576</td>\n",
              "      <td>199</td>\n",
              "      <td>341</td>\n",
              "      <td>68</td>\n",
              "      <td>338</td>\n",
              "      <td>367</td>\n",
              "      <td>986</td>\n",
              "      <td>640</td>\n",
              "      <td>458</td>\n",
              "      <td>461</td>\n",
              "      <td>460</td>\n",
              "      <td>511</td>\n",
              "      <td>452</td>\n",
              "      <td>76</td>\n",
              "      <td>393</td>\n",
              "      <td>106</td>\n",
              "      <td>407</td>\n",
              "      <td>446</td>\n",
              "      <td>1357</td>\n",
              "      <td>118</td>\n",
              "      <td>393</td>\n",
              "      <td>249</td>\n",
              "      <td>1155</td>\n",
              "      <td>330</td>\n",
              "      <td>148</td>\n",
              "      <td>903</td>\n",
              "      <td>848</td>\n",
              "      <td>550</td>\n",
              "      <td>1708</td>\n",
              "      <td>1655</td>\n",
              "      <td>1346</td>\n",
              "      <td>1021</td>\n",
              "      <td>604</td>\n",
              "      <td>180</td>\n",
              "      <td>803</td>\n",
              "      <td>445</td>\n",
              "      <td>127</td>\n",
              "      <td>847</td>\n",
              "      <td>1625</td>\n",
              "      <td>461</td>\n",
              "      <td>315</td>\n",
              "      <td>857</td>\n",
              "      <td>205</td>\n",
              "      <td>399</td>\n",
              "      <td>968</td>\n",
              "      <td>794</td>\n",
              "      <td>176</td>\n",
              "      <td>793</td>\n",
              "      <td>Male</td>\n",
              "      <td>12-Oct-10</td>\n",
              "      <td>Fort Hood</td>\n",
              "      <td>Regular Army</td>\n",
              "      <td>Combat Service Support</td>\n",
              "      <td>88M</td>\n",
              "      <td>Wisconsin</td>\n",
              "      <td>1</td>\n",
              "      <td>NaN</td>\n",
              "      <td>1</td>\n",
              "      <td>31</td>\n",
              "      <td>66</td>\n",
              "      <td>175</td>\n",
              "      <td>Right hand</td>\n",
              "    </tr>\n",
              "    <tr>\n",
              "      <th>4</th>\n",
              "      <td>10093</td>\n",
              "      <td>250</td>\n",
              "      <td>1585</td>\n",
              "      <td>372</td>\n",
              "      <td>247</td>\n",
              "      <td>1478</td>\n",
              "      <td>267</td>\n",
              "      <td>224</td>\n",
              "      <td>435</td>\n",
              "      <td>356</td>\n",
              "      <td>263</td>\n",
              "      <td>524</td>\n",
              "      <td>80</td>\n",
              "      <td>340</td>\n",
              "      <td>310</td>\n",
              "      <td>138</td>\n",
              "      <td>1029</td>\n",
              "      <td>275</td>\n",
              "      <td>1080</td>\n",
              "      <td>706</td>\n",
              "      <td>567</td>\n",
              "      <td>425</td>\n",
              "      <td>1684</td>\n",
              "      <td>304</td>\n",
              "      <td>1048</td>\n",
              "      <td>232</td>\n",
              "      <td>1452</td>\n",
              "      <td>1014</td>\n",
              "      <td>682</td>\n",
              "      <td>382</td>\n",
              "      <td>32</td>\n",
              "      <td>56</td>\n",
              "      <td>19</td>\n",
              "      <td>188</td>\n",
              "      <td>814</td>\n",
              "      <td>111</td>\n",
              "      <td>305</td>\n",
              "      <td>399</td>\n",
              "      <td>324</td>\n",
              "      <td>605</td>\n",
              "      <td>550</td>\n",
              "      <td>1279</td>\n",
              "      <td>94</td>\n",
              "      <td>222</td>\n",
              "      <td>218</td>\n",
              "      <td>153</td>\n",
              "      <td>566</td>\n",
              "      <td>197</td>\n",
              "      <td>374</td>\n",
              "      <td>69</td>\n",
              "      <td>332</td>\n",
              "      <td>372</td>\n",
              "      <td>1251</td>\n",
              "      <td>675</td>\n",
              "      <td>481</td>\n",
              "      <td>505</td>\n",
              "      <td>612</td>\n",
              "      <td>666</td>\n",
              "      <td>585</td>\n",
              "      <td>85</td>\n",
              "      <td>458</td>\n",
              "      <td>135</td>\n",
              "      <td>398</td>\n",
              "      <td>430</td>\n",
              "      <td>1572</td>\n",
              "      <td>132</td>\n",
              "      <td>523</td>\n",
              "      <td>302</td>\n",
              "      <td>1231</td>\n",
              "      <td>400</td>\n",
              "      <td>180</td>\n",
              "      <td>919</td>\n",
              "      <td>995</td>\n",
              "      <td>641</td>\n",
              "      <td>2035</td>\n",
              "      <td>1914</td>\n",
              "      <td>1596</td>\n",
              "      <td>1292</td>\n",
              "      <td>672</td>\n",
              "      <td>194</td>\n",
              "      <td>962</td>\n",
              "      <td>584</td>\n",
              "      <td>122</td>\n",
              "      <td>1090</td>\n",
              "      <td>1679</td>\n",
              "      <td>467</td>\n",
              "      <td>303</td>\n",
              "      <td>868</td>\n",
              "      <td>214</td>\n",
              "      <td>379</td>\n",
              "      <td>1245</td>\n",
              "      <td>946</td>\n",
              "      <td>188</td>\n",
              "      <td>954</td>\n",
              "      <td>Male</td>\n",
              "      <td>12-Oct-10</td>\n",
              "      <td>Fort Hood</td>\n",
              "      <td>Regular Army</td>\n",
              "      <td>Combat Service Support</td>\n",
              "      <td>92G</td>\n",
              "      <td>North Carolina</td>\n",
              "      <td>2</td>\n",
              "      <td>NaN</td>\n",
              "      <td>2</td>\n",
              "      <td>21</td>\n",
              "      <td>77</td>\n",
              "      <td>213</td>\n",
              "      <td>Right hand</td>\n",
              "    </tr>\n",
              "  </tbody>\n",
              "</table>\n",
              "</div>\n",
              "      <button class=\"colab-df-convert\" onclick=\"convertToInteractive('df-defb94d2-cafd-4da4-b787-80b36f5cabeb')\"\n",
              "              title=\"Convert this dataframe to an interactive table.\"\n",
              "              style=\"display:none;\">\n",
              "        \n",
              "  <svg xmlns=\"http://www.w3.org/2000/svg\" height=\"24px\"viewBox=\"0 0 24 24\"\n",
              "       width=\"24px\">\n",
              "    <path d=\"M0 0h24v24H0V0z\" fill=\"none\"/>\n",
              "    <path d=\"M18.56 5.44l.94 2.06.94-2.06 2.06-.94-2.06-.94-.94-2.06-.94 2.06-2.06.94zm-11 1L8.5 8.5l.94-2.06 2.06-.94-2.06-.94L8.5 2.5l-.94 2.06-2.06.94zm10 10l.94 2.06.94-2.06 2.06-.94-2.06-.94-.94-2.06-.94 2.06-2.06.94z\"/><path d=\"M17.41 7.96l-1.37-1.37c-.4-.4-.92-.59-1.43-.59-.52 0-1.04.2-1.43.59L10.3 9.45l-7.72 7.72c-.78.78-.78 2.05 0 2.83L4 21.41c.39.39.9.59 1.41.59.51 0 1.02-.2 1.41-.59l7.78-7.78 2.81-2.81c.8-.78.8-2.07 0-2.86zM5.41 20L4 18.59l7.72-7.72 1.47 1.35L5.41 20z\"/>\n",
              "  </svg>\n",
              "      </button>\n",
              "      \n",
              "  <style>\n",
              "    .colab-df-container {\n",
              "      display:flex;\n",
              "      flex-wrap:wrap;\n",
              "      gap: 12px;\n",
              "    }\n",
              "\n",
              "    .colab-df-convert {\n",
              "      background-color: #E8F0FE;\n",
              "      border: none;\n",
              "      border-radius: 50%;\n",
              "      cursor: pointer;\n",
              "      display: none;\n",
              "      fill: #1967D2;\n",
              "      height: 32px;\n",
              "      padding: 0 0 0 0;\n",
              "      width: 32px;\n",
              "    }\n",
              "\n",
              "    .colab-df-convert:hover {\n",
              "      background-color: #E2EBFA;\n",
              "      box-shadow: 0px 1px 2px rgba(60, 64, 67, 0.3), 0px 1px 3px 1px rgba(60, 64, 67, 0.15);\n",
              "      fill: #174EA6;\n",
              "    }\n",
              "\n",
              "    [theme=dark] .colab-df-convert {\n",
              "      background-color: #3B4455;\n",
              "      fill: #D2E3FC;\n",
              "    }\n",
              "\n",
              "    [theme=dark] .colab-df-convert:hover {\n",
              "      background-color: #434B5C;\n",
              "      box-shadow: 0px 1px 3px 1px rgba(0, 0, 0, 0.15);\n",
              "      filter: drop-shadow(0px 1px 2px rgba(0, 0, 0, 0.3));\n",
              "      fill: #FFFFFF;\n",
              "    }\n",
              "  </style>\n",
              "\n",
              "      <script>\n",
              "        const buttonEl =\n",
              "          document.querySelector('#df-defb94d2-cafd-4da4-b787-80b36f5cabeb button.colab-df-convert');\n",
              "        buttonEl.style.display =\n",
              "          google.colab.kernel.accessAllowed ? 'block' : 'none';\n",
              "\n",
              "        async function convertToInteractive(key) {\n",
              "          const element = document.querySelector('#df-defb94d2-cafd-4da4-b787-80b36f5cabeb');\n",
              "          const dataTable =\n",
              "            await google.colab.kernel.invokeFunction('convertToInteractive',\n",
              "                                                     [key], {});\n",
              "          if (!dataTable) return;\n",
              "\n",
              "          const docLinkHtml = 'Like what you see? Visit the ' +\n",
              "            '<a target=\"_blank\" href=https://colab.research.google.com/notebooks/data_table.ipynb>data table notebook</a>'\n",
              "            + ' to learn more about interactive tables.';\n",
              "          element.innerHTML = '';\n",
              "          dataTable['output_type'] = 'display_data';\n",
              "          await google.colab.output.renderOutput(dataTable, element);\n",
              "          const docLink = document.createElement('div');\n",
              "          docLink.innerHTML = docLinkHtml;\n",
              "          element.appendChild(docLink);\n",
              "        }\n",
              "      </script>\n",
              "    </div>\n",
              "  </div>\n",
              "  "
            ]
          },
          "metadata": {},
          "execution_count": 9
        }
      ],
      "source": [
        "data = pd.concat([df_male,df_female], axis=0, ignore_index=True)\n",
        "data.head()"
      ]
    },
    {
      "cell_type": "code",
      "execution_count": 10,
      "metadata": {
        "ExecuteTime": {
          "end_time": "2022-09-08T21:16:36.635331Z",
          "start_time": "2022-09-08T21:16:36.626307Z"
        },
        "colab": {
          "base_uri": "https://localhost:8080/"
        },
        "hidden": true,
        "id": "8XmZ7dQ3rieM",
        "outputId": "4ece0edd-c95c-4382-a145-124322ae17c6"
      },
      "outputs": [
        {
          "output_type": "execute_result",
          "data": {
            "text/plain": [
              "(6068, 108)"
            ]
          },
          "metadata": {},
          "execution_count": 10
        }
      ],
      "source": [
        "data.shape"
      ]
    },
    {
      "cell_type": "code",
      "execution_count": 11,
      "metadata": {
        "ExecuteTime": {
          "end_time": "2022-09-08T21:17:10.680206Z",
          "start_time": "2022-09-08T21:17:10.663314Z"
        },
        "id": "9tqW5G2g-QP6",
        "outputId": "5ee070d9-1d21-479e-a693-0ee947a9293b",
        "colab": {
          "base_uri": "https://localhost:8080/"
        }
      },
      "outputs": [
        {
          "output_type": "stream",
          "name": "stdout",
          "text": [
            "<class 'pandas.core.frame.DataFrame'>\n",
            "RangeIndex: 6068 entries, 0 to 6067\n",
            "Data columns (total 108 columns):\n",
            " #    Column                          Dtype \n",
            "---   ------                          ----- \n",
            " 0    subjectid                       int64 \n",
            " 1    abdominalextensiondepthsitting  int64 \n",
            " 2    acromialheight                  int64 \n",
            " 3    acromionradialelength           int64 \n",
            " 4    anklecircumference              int64 \n",
            " 5    axillaheight                    int64 \n",
            " 6    balloffootcircumference         int64 \n",
            " 7    balloffootlength                int64 \n",
            " 8    biacromialbreadth               int64 \n",
            " 9    bicepscircumferenceflexed       int64 \n",
            " 10   bicristalbreadth                int64 \n",
            " 11   bideltoidbreadth                int64 \n",
            " 12   bimalleolarbreadth              int64 \n",
            " 13   bitragionchinarc                int64 \n",
            " 14   bitragionsubmandibulararc       int64 \n",
            " 15   bizygomaticbreadth              int64 \n",
            " 16   buttockcircumference            int64 \n",
            " 17   buttockdepth                    int64 \n",
            " 18   buttockheight                   int64 \n",
            " 19   buttockkneelength               int64 \n",
            " 20   buttockpopliteallength          int64 \n",
            " 21   calfcircumference               int64 \n",
            " 22   cervicaleheight                 int64 \n",
            " 23   chestbreadth                    int64 \n",
            " 24   chestcircumference              int64 \n",
            " 25   chestdepth                      int64 \n",
            " 26   chestheight                     int64 \n",
            " 27   crotchheight                    int64 \n",
            " 28   crotchlengthomphalion           int64 \n",
            " 29   crotchlengthposterioromphalion  int64 \n",
            " 30   earbreadth                      int64 \n",
            " 31   earlength                       int64 \n",
            " 32   earprotrusion                   int64 \n",
            " 33   elbowrestheight                 int64 \n",
            " 34   eyeheightsitting                int64 \n",
            " 35   footbreadthhorizontal           int64 \n",
            " 36   footlength                      int64 \n",
            " 37   forearmcenterofgriplength       int64 \n",
            " 38   forearmcircumferenceflexed      int64 \n",
            " 39   forearmforearmbreadth           int64 \n",
            " 40   forearmhandlength               int64 \n",
            " 41   functionalleglength             int64 \n",
            " 42   handbreadth                     int64 \n",
            " 43   handcircumference               int64 \n",
            " 44   handlength                      int64 \n",
            " 45   headbreadth                     int64 \n",
            " 46   headcircumference               int64 \n",
            " 47   headlength                      int64 \n",
            " 48   heelanklecircumference          int64 \n",
            " 49   heelbreadth                     int64 \n",
            " 50   hipbreadth                      int64 \n",
            " 51   hipbreadthsitting               int64 \n",
            " 52   iliocristaleheight              int64 \n",
            " 53   interpupillarybreadth           int64 \n",
            " 54   interscyei                      int64 \n",
            " 55   interscyeii                     int64 \n",
            " 56   kneeheightmidpatella            int64 \n",
            " 57   kneeheightsitting               int64 \n",
            " 58   lateralfemoralepicondyleheight  int64 \n",
            " 59   lateralmalleolusheight          int64 \n",
            " 60   lowerthighcircumference         int64 \n",
            " 61   mentonsellionlength             int64 \n",
            " 62   neckcircumference               int64 \n",
            " 63   neckcircumferencebase           int64 \n",
            " 64   overheadfingertipreachsitting   int64 \n",
            " 65   palmlength                      int64 \n",
            " 66   poplitealheight                 int64 \n",
            " 67   radialestylionlength            int64 \n",
            " 68   shouldercircumference           int64 \n",
            " 69   shoulderelbowlength             int64 \n",
            " 70   shoulderlength                  int64 \n",
            " 71   sittingheight                   int64 \n",
            " 72   sleevelengthspinewrist          int64 \n",
            " 73   sleeveoutseam                   int64 \n",
            " 74   span                            int64 \n",
            " 75   stature                         int64 \n",
            " 76   suprasternaleheight             int64 \n",
            " 77   tenthribheight                  int64 \n",
            " 78   thighcircumference              int64 \n",
            " 79   thighclearance                  int64 \n",
            " 80   thumbtipreach                   int64 \n",
            " 81   tibialheight                    int64 \n",
            " 82   tragiontopofhead                int64 \n",
            " 83   trochanterionheight             int64 \n",
            " 84   verticaltrunkcircumferenceusa   int64 \n",
            " 85   waistbacklength                 int64 \n",
            " 86   waistbreadth                    int64 \n",
            " 87   waistcircumference              int64 \n",
            " 88   waistdepth                      int64 \n",
            " 89   waistfrontlengthsitting         int64 \n",
            " 90   waistheightomphalion            int64 \n",
            " 91   weightkg                        int64 \n",
            " 92   wristcircumference              int64 \n",
            " 93   wristheight                     int64 \n",
            " 94   Gender                          object\n",
            " 95   Date                            object\n",
            " 96   Installation                    object\n",
            " 97   Component                       object\n",
            " 98   Branch                          object\n",
            " 99   PrimaryMOS                      object\n",
            " 100  SubjectsBirthLocation           object\n",
            " 101  SubjectNumericRace              int64 \n",
            " 102  Ethnicity                       object\n",
            " 103  DODRace                         int64 \n",
            " 104  Age                             int64 \n",
            " 105  Heightin                        int64 \n",
            " 106  Weightlbs                       int64 \n",
            " 107  WritingPreference               object\n",
            "dtypes: int64(99), object(9)\n",
            "memory usage: 5.0+ MB\n"
          ]
        }
      ],
      "source": [
        "data.info(verbose=True)"
      ]
    },
    {
      "cell_type": "code",
      "execution_count": 12,
      "metadata": {
        "ExecuteTime": {
          "end_time": "2022-09-08T21:17:18.412689Z",
          "start_time": "2022-09-08T21:17:18.385991Z"
        },
        "colab": {
          "base_uri": "https://localhost:8080/"
        },
        "hidden": true,
        "id": "QOnt73gSvq4B",
        "outputId": "eb568634-e7dc-475e-9705-7536285f9702"
      },
      "outputs": [
        {
          "output_type": "execute_result",
          "data": {
            "text/plain": [
              "True"
            ]
          },
          "metadata": {},
          "execution_count": 12
        }
      ],
      "source": [
        "data.isnull().sum().any() #we have some null values"
      ]
    },
    {
      "cell_type": "code",
      "execution_count": 13,
      "metadata": {
        "ExecuteTime": {
          "end_time": "2022-09-08T21:18:00.669598Z",
          "start_time": "2022-09-08T21:18:00.627652Z"
        },
        "hidden": true,
        "id": "UB91Zn5F-QP6",
        "outputId": "aa2df2d8-de7e-4caf-de1b-9e43a14e3f00",
        "colab": {
          "base_uri": "https://localhost:8080/"
        }
      },
      "outputs": [
        {
          "output_type": "execute_result",
          "data": {
            "text/plain": [
              "0"
            ]
          },
          "metadata": {},
          "execution_count": 13
        }
      ],
      "source": [
        "data.duplicated().sum() # we don't have dublicated values. "
      ]
    },
    {
      "cell_type": "code",
      "execution_count": 14,
      "metadata": {
        "ExecuteTime": {
          "end_time": "2022-09-08T21:19:28.174659Z",
          "start_time": "2022-09-08T21:19:28.153284Z"
        },
        "hidden": true,
        "scrolled": false,
        "id": "BR__60b8-QP7",
        "outputId": "e5a64ab1-42cf-4717-a7db-111b53e9d906",
        "colab": {
          "base_uri": "https://localhost:8080/"
        }
      },
      "outputs": [
        {
          "output_type": "execute_result",
          "data": {
            "text/plain": [
              "1    0.624918\n",
              "2    0.213909\n",
              "3    0.111898\n",
              "4    0.030982\n",
              "6    0.009723\n",
              "5    0.008075\n",
              "8    0.000494\n",
              "Name: DODRace, dtype: float64"
            ]
          },
          "metadata": {},
          "execution_count": 14
        }
      ],
      "source": [
        "data[\"DODRace\"].value_counts(normalize=True)"
      ]
    },
    {
      "cell_type": "markdown",
      "metadata": {
        "id": "515aV24L-QP7"
      },
      "source": [
        "## Data Cleaning "
      ]
    },
    {
      "cell_type": "code",
      "execution_count": 15,
      "metadata": {
        "ExecuteTime": {
          "end_time": "2022-09-08T21:19:54.397719Z",
          "start_time": "2022-09-08T21:19:54.366051Z"
        },
        "colab": {
          "base_uri": "https://localhost:8080/"
        },
        "hidden": true,
        "id": "wGYZfgkztl9t",
        "outputId": "30736bd8-7441-4916-8fce-93e5c0423b66"
      },
      "outputs": [
        {
          "output_type": "stream",
          "name": "stdout",
          "text": [
            "Ethnicity = 4647\n"
          ]
        },
        {
          "output_type": "execute_result",
          "data": {
            "text/plain": [
              "['Ethnicity']"
            ]
          },
          "metadata": {},
          "execution_count": 15
        }
      ],
      "source": [
        "drop_list =[]\n",
        "for col in data:\n",
        "  if data[col].isnull().sum()>1800:\n",
        "    print(f\"{col} = {data[col].isnull().sum()}\")\n",
        "    drop_list.append(col)\n",
        "  \n",
        "  \n",
        "drop_list "
      ]
    },
    {
      "cell_type": "code",
      "execution_count": 16,
      "metadata": {
        "ExecuteTime": {
          "end_time": "2022-09-08T21:20:04.034310Z",
          "start_time": "2022-09-08T21:20:04.011494Z"
        },
        "hidden": true,
        "id": "Ioyykr9_wGm8"
      },
      "outputs": [],
      "source": [
        "data.drop(drop_list, axis=1, inplace=True)"
      ]
    },
    {
      "cell_type": "code",
      "execution_count": 17,
      "metadata": {
        "id": "E2iPqPsS-QP8"
      },
      "outputs": [],
      "source": [
        "# we don't need subject column thus we drop it. \n",
        "data.drop(columns=[\"subjectid\"], inplace=True)"
      ]
    },
    {
      "cell_type": "code",
      "execution_count": 18,
      "metadata": {
        "ExecuteTime": {
          "end_time": "2022-09-08T21:20:05.404329Z",
          "start_time": "2022-09-08T21:20:05.382507Z"
        },
        "colab": {
          "base_uri": "https://localhost:8080/"
        },
        "hidden": true,
        "id": "dORfItcKm161",
        "outputId": "e923dc83-6538-45f4-d381-a508767d5301"
      },
      "outputs": [
        {
          "output_type": "execute_result",
          "data": {
            "text/plain": [
              "False"
            ]
          },
          "metadata": {},
          "execution_count": 18
        }
      ],
      "source": [
        "data.isnull().sum().any()"
      ]
    },
    {
      "cell_type": "code",
      "execution_count": 19,
      "metadata": {
        "ExecuteTime": {
          "end_time": "2022-09-08T21:20:10.079861Z",
          "start_time": "2022-09-08T21:20:10.063900Z"
        },
        "colab": {
          "base_uri": "https://localhost:8080/"
        },
        "hidden": true,
        "id": "-hmOrbxeyOqz",
        "outputId": "b789a88a-f0f3-4f4b-a2db-20a283cef65e"
      },
      "outputs": [
        {
          "output_type": "execute_result",
          "data": {
            "text/plain": [
              "(6068, 106)"
            ]
          },
          "metadata": {},
          "execution_count": 19
        }
      ],
      "source": [
        "data.shape"
      ]
    },
    {
      "cell_type": "code",
      "execution_count": 20,
      "metadata": {
        "ExecuteTime": {
          "end_time": "2022-09-08T21:20:28.941357Z",
          "start_time": "2022-09-08T21:20:28.920868Z"
        },
        "colab": {
          "base_uri": "https://localhost:8080/"
        },
        "hidden": true,
        "id": "ftyyRNukybT-",
        "outputId": "01c50409-707c-4956-fa72-95639312be3e"
      },
      "outputs": [
        {
          "output_type": "stream",
          "name": "stdout",
          "text": [
            "Gender has 2 unique value\n",
            "Date has 253 unique value\n",
            "Installation has 12 unique value\n",
            "Component has 3 unique value\n",
            "Branch has 3 unique value\n",
            "PrimaryMOS has 285 unique value\n",
            "SubjectsBirthLocation has 152 unique value\n",
            "WritingPreference has 3 unique value\n"
          ]
        }
      ],
      "source": [
        "# to find how many unique values object features have\n",
        "for col in data.select_dtypes(\"object\"):\n",
        "  print(f\"{col} has {data[col].nunique()} unique value\")"
      ]
    },
    {
      "cell_type": "code",
      "execution_count": 21,
      "metadata": {
        "ExecuteTime": {
          "end_time": "2022-09-08T21:21:27.693188Z",
          "start_time": "2022-09-08T21:21:27.675143Z"
        },
        "id": "fzk55HjL-QP9",
        "outputId": "2a09608e-33cc-4bef-b385-282878e34aae",
        "colab": {
          "base_uri": "https://localhost:8080/"
        }
      },
      "outputs": [
        {
          "output_type": "execute_result",
          "data": {
            "text/plain": [
              "array([1, 2, 3, 4, 5, 6, 8])"
            ]
          },
          "metadata": {},
          "execution_count": 21
        }
      ],
      "source": [
        "data.DODRace.unique()"
      ]
    },
    {
      "cell_type": "code",
      "execution_count": 22,
      "metadata": {
        "ExecuteTime": {
          "end_time": "2022-09-08T21:21:34.119042Z",
          "start_time": "2022-09-08T21:21:34.103056Z"
        },
        "hidden": true,
        "id": "S1vDgze4rj5g"
      },
      "outputs": [],
      "source": [
        "data[\"DODRace\"] = data.DODRace.map({\n",
        "    1: \"White\",\n",
        "    2: \"Black\",\n",
        "    3: \"Hispanic\",\n",
        "    4: \"Asian\",\n",
        "    5: \"Native American\",\n",
        "    6: \"Pacific Islander\",\n",
        "    8: \"Other\"\n",
        "})"
      ]
    },
    {
      "cell_type": "code",
      "execution_count": 23,
      "metadata": {
        "ExecuteTime": {
          "end_time": "2022-09-08T21:21:50.432265Z",
          "start_time": "2022-09-08T21:21:50.415680Z"
        },
        "colab": {
          "base_uri": "https://localhost:8080/"
        },
        "hidden": true,
        "id": "rUAmZFW_ncMb",
        "outputId": "c8196afd-c0f5-4379-ad24-34a8b0c76af3",
        "scrolled": false
      },
      "outputs": [
        {
          "output_type": "execute_result",
          "data": {
            "text/plain": [
              "Component            DODRace         \n",
              "Army National Guard  White               0.685007\n",
              "                     Black               0.184269\n",
              "                     Hispanic            0.093427\n",
              "                     Asian               0.022157\n",
              "                     Native American     0.008863\n",
              "                     Pacific Islander    0.006278\n",
              "Army Reserve         White               0.518182\n",
              "                     Black               0.236364\n",
              "                     Hispanic            0.186364\n",
              "                     Asian               0.040909\n",
              "                     Pacific Islander    0.013636\n",
              "                     Native American     0.004545\n",
              "Regular Army         White               0.580573\n",
              "                     Black               0.237898\n",
              "                     Hispanic            0.122611\n",
              "                     Asian               0.037898\n",
              "                     Pacific Islander    0.012420\n",
              "                     Native American     0.007643\n",
              "                     Other               0.000955\n",
              "Name: DODRace, dtype: float64"
            ]
          },
          "metadata": {},
          "execution_count": 23
        }
      ],
      "source": [
        "data.groupby([\"Component\"])[\"DODRace\"].value_counts(normalize=True)"
      ]
    },
    {
      "cell_type": "code",
      "execution_count": 24,
      "metadata": {
        "ExecuteTime": {
          "end_time": "2022-09-08T21:21:58.139403Z",
          "start_time": "2022-09-08T21:21:57.930582Z"
        },
        "id": "NhyO3s8i-QP-",
        "outputId": "22c3f963-0287-454c-8a0f-48e12f1204e9",
        "colab": {
          "base_uri": "https://localhost:8080/",
          "height": 265
        }
      },
      "outputs": [
        {
          "output_type": "display_data",
          "data": {
            "text/plain": [
              "<Figure size 432x288 with 1 Axes>"
            ],
            "image/png": "[encoded data removed]"
          },
          "metadata": {
            "needs_background": "light"
          }
        }
      ],
      "source": [
        "data.groupby([\"Component\"])[\"DODRace\"].value_counts().plot(kind=\"barh\");"
      ]
    },
    {
      "cell_type": "code",
      "execution_count": 25,
      "metadata": {
        "ExecuteTime": {
          "end_time": "2022-09-08T21:22:18.403736Z",
          "start_time": "2022-09-08T21:22:18.382801Z"
        },
        "colab": {
          "base_uri": "https://localhost:8080/"
        },
        "hidden": true,
        "id": "39UaFlGwnoaF",
        "outputId": "9fc5d020-fe94-451c-daee-416b7bf07080",
        "scrolled": false
      },
      "outputs": [
        {
          "output_type": "execute_result",
          "data": {
            "text/plain": [
              "Component            Branch                  DODRace         \n",
              "Army National Guard  Combat Arms             White               0.771995\n",
              "                                             Black               0.097893\n",
              "                                             Hispanic            0.091698\n",
              "                                             Asian               0.022305\n",
              "                                             Native American     0.011152\n",
              "                                             Pacific Islander    0.004957\n",
              "                     Combat Service Support  White               0.643509\n",
              "                                             Black               0.218947\n",
              "                                             Hispanic            0.099649\n",
              "                                             Asian               0.023158\n",
              "                                             Pacific Islander    0.007719\n",
              "                                             Native American     0.007018\n",
              "                     Combat Support          White               0.661765\n",
              "                                             Black               0.226891\n",
              "                                             Hispanic            0.077731\n",
              "                                             Asian               0.018908\n",
              "                                             Native American     0.010504\n",
              "                                             Pacific Islander    0.004202\n",
              "Army Reserve         Combat Arms             White               0.833333\n",
              "                                             Hispanic            0.166667\n",
              "                     Combat Service Support  White               0.561644\n",
              "                                             Hispanic            0.205479\n",
              "                                             Black               0.164384\n",
              "                                             Asian               0.047945\n",
              "                                             Pacific Islander    0.013699\n",
              "                                             Native American     0.006849\n",
              "                     Combat Support          Black               0.411765\n",
              "                                             White               0.397059\n",
              "                                             Hispanic            0.147059\n",
              "                                             Asian               0.029412\n",
              "                                             Pacific Islander    0.014706\n",
              "Regular Army         Combat Arms             White               0.673602\n",
              "                                             Hispanic            0.148244\n",
              "                                             Black               0.122237\n",
              "                                             Asian               0.033810\n",
              "                                             Pacific Islander    0.011704\n",
              "                                             Native American     0.009103\n",
              "                                             Other               0.001300\n",
              "                     Combat Service Support  White               0.568933\n",
              "                                             Black               0.255147\n",
              "                                             Hispanic            0.120399\n",
              "                                             Asian               0.036806\n",
              "                                             Native American     0.008734\n",
              "                                             Pacific Islander    0.008734\n",
              "                                             Other               0.001248\n",
              "                     Combat Support          White               0.511719\n",
              "                                             Black               0.317708\n",
              "                                             Hispanic            0.101562\n",
              "                                             Asian               0.044271\n",
              "                                             Pacific Islander    0.020833\n",
              "                                             Native American     0.003906\n",
              "Name: DODRace, dtype: float64"
            ]
          },
          "metadata": {},
          "execution_count": 25
        }
      ],
      "source": [
        "data.groupby([\"Component\", \"Branch\"])[\"DODRace\"].value_counts(normalize=True)"
      ]
    },
    {
      "cell_type": "code",
      "execution_count": 26,
      "metadata": {
        "ExecuteTime": {
          "end_time": "2022-09-08T21:22:33.630022Z",
          "start_time": "2022-09-08T21:22:33.615663Z"
        },
        "hidden": true,
        "id": "PiQUBnYkzKXr"
      },
      "outputs": [],
      "source": [
        "# we don't need these following columns for our models. Thus, we drop them. \n",
        "drop_list1 = [\n",
        "    \"Date\", \"Installation\", \"Component\", \"Branch\", \"PrimaryMOS\",\n",
        "    \"Weightlbs\", \"Heightin\"   \n",
        "]\n",
        "\n",
        "data.drop(drop_list1, axis=1, inplace=True)"
      ]
    },
    {
      "cell_type": "code",
      "execution_count": 27,
      "metadata": {
        "ExecuteTime": {
          "end_time": "2022-09-08T21:22:45.536630Z",
          "start_time": "2022-09-08T21:22:45.518768Z"
        },
        "id": "mqnE2DOy-QP_",
        "outputId": "16eb93ba-0cbc-4762-a22a-c9276e935494",
        "colab": {
          "base_uri": "https://localhost:8080/"
        }
      },
      "outputs": [
        {
          "output_type": "execute_result",
          "data": {
            "text/plain": [
              "(6068, 99)"
            ]
          },
          "metadata": {},
          "execution_count": 27
        }
      ],
      "source": [
        "data.shape"
      ]
    },
    {
      "cell_type": "code",
      "execution_count": 28,
      "metadata": {
        "colab": {
          "base_uri": "https://localhost:8080/"
        },
        "hidden": true,
        "id": "igV1RIIUqF1z",
        "outputId": "703ccb1d-1ed5-432f-b918-94edc7f5c267"
      },
      "outputs": [
        {
          "output_type": "execute_result",
          "data": {
            "text/plain": [
              "Index(['abdominalextensiondepthsitting', 'acromialheight', 'acromionradialelength', 'anklecircumference', 'axillaheight', 'balloffootcircumference', 'balloffootlength', 'biacromialbreadth', 'bicepscircumferenceflexed', 'bicristalbreadth', 'bideltoidbreadth', 'bimalleolarbreadth', 'bitragionchinarc', 'bitragionsubmandibulararc', 'bizygomaticbreadth', 'buttockcircumference', 'buttockdepth', 'buttockheight', 'buttockkneelength', 'buttockpopliteallength', 'calfcircumference', 'cervicaleheight', 'chestbreadth', 'chestcircumference', 'chestdepth', 'chestheight', 'crotchheight', 'crotchlengthomphalion', 'crotchlengthposterioromphalion', 'earbreadth', 'earlength', 'earprotrusion', 'elbowrestheight', 'eyeheightsitting', 'footbreadthhorizontal', 'footlength', 'forearmcenterofgriplength', 'forearmcircumferenceflexed', 'forearmforearmbreadth', 'forearmhandlength', 'functionalleglength', 'handbreadth', 'handcircumference', 'handlength', 'headbreadth', 'headcircumference', 'headlength',\n",
              "       'heelanklecircumference', 'heelbreadth', 'hipbreadth', 'hipbreadthsitting', 'iliocristaleheight', 'interpupillarybreadth', 'interscyei', 'interscyeii', 'kneeheightmidpatella', 'kneeheightsitting', 'lateralfemoralepicondyleheight', 'lateralmalleolusheight', 'lowerthighcircumference', 'mentonsellionlength', 'neckcircumference', 'neckcircumferencebase', 'overheadfingertipreachsitting', 'palmlength', 'poplitealheight', 'radialestylionlength', 'shouldercircumference', 'shoulderelbowlength', 'shoulderlength', 'sittingheight', 'sleevelengthspinewrist', 'sleeveoutseam', 'span', 'stature', 'suprasternaleheight', 'tenthribheight', 'thighcircumference', 'thighclearance', 'thumbtipreach', 'tibialheight', 'tragiontopofhead', 'trochanterionheight', 'verticaltrunkcircumferenceusa', 'waistbacklength', 'waistbreadth', 'waistcircumference', 'waistdepth', 'waistfrontlengthsitting', 'waistheightomphalion', 'weightkg', 'wristcircumference', 'wristheight', 'Gender', 'SubjectsBirthLocation',\n",
              "       'SubjectNumericRace', 'DODRace', 'Age', 'WritingPreference'],\n",
              "      dtype='object')"
            ]
          },
          "metadata": {},
          "execution_count": 28
        }
      ],
      "source": [
        "data.columns"
      ]
    },
    {
      "cell_type": "code",
      "execution_count": 29,
      "metadata": {
        "ExecuteTime": {
          "end_time": "2022-09-08T21:23:27.847513Z",
          "start_time": "2022-09-08T21:23:27.832640Z"
        },
        "colab": {
          "base_uri": "https://localhost:8080/"
        },
        "hidden": true,
        "id": "JPvxPBUQou8A",
        "outputId": "7585f4fa-2e9a-4506-f45d-21b0335df7d9"
      },
      "outputs": [
        {
          "output_type": "execute_result",
          "data": {
            "text/plain": [
              "1        3561\n",
              "2        1026\n",
              "3         541\n",
              "31        160\n",
              "51        126\n",
              "8         116\n",
              "4         109\n",
              "21         60\n",
              "6          59\n",
              "41         46\n",
              "61         35\n",
              "23         34\n",
              "28         26\n",
              "251        20\n",
              "5          18\n",
              "18         18\n",
              "25         14\n",
              "351        10\n",
              "38          9\n",
              "64          8\n",
              "62          8\n",
              "35          8\n",
              "42          7\n",
              "63          7\n",
              "231         6\n",
              "43          5\n",
              "235         4\n",
              "218         3\n",
              "651         2\n",
              "2351        2\n",
              "318         2\n",
              "641         2\n",
              "451         2\n",
              "423         2\n",
              "431         2\n",
              "2518        2\n",
              "48          1\n",
              "631         1\n",
              "4251        1\n",
              "428         1\n",
              "238         1\n",
              "358         1\n",
              "425         1\n",
              "42351       1\n",
              "Name: SubjectNumericRace, dtype: int64"
            ]
          },
          "metadata": {},
          "execution_count": 29
        }
      ],
      "source": [
        "data.SubjectNumericRace.value_counts() #SubjectNumericRace column has too many unique values. Thus, we drop it "
      ]
    },
    {
      "cell_type": "code",
      "execution_count": 30,
      "metadata": {
        "ExecuteTime": {
          "end_time": "2022-09-08T21:24:42.803416Z",
          "start_time": "2022-09-08T21:24:42.797429Z"
        },
        "hidden": true,
        "id": "P6N_t4tOphWl"
      },
      "outputs": [],
      "source": [
        "data.drop(\"SubjectNumericRace\",axis=1,inplace=True)"
      ]
    },
    {
      "cell_type": "code",
      "execution_count": 31,
      "metadata": {
        "ExecuteTime": {
          "end_time": "2022-09-08T21:24:54.106071Z",
          "start_time": "2022-09-08T21:24:54.093063Z"
        },
        "id": "MoX-7Gws-QQB",
        "outputId": "bedf7956-2b59-461f-c026-73596f573aed",
        "colab": {
          "base_uri": "https://localhost:8080/"
        }
      },
      "outputs": [
        {
          "output_type": "execute_result",
          "data": {
            "text/plain": [
              "(6068, 98)"
            ]
          },
          "metadata": {},
          "execution_count": 31
        }
      ],
      "source": [
        "data.shape"
      ]
    },
    {
      "cell_type": "code",
      "execution_count": 32,
      "metadata": {
        "ExecuteTime": {
          "end_time": "2022-09-08T22:57:20.116993Z",
          "start_time": "2022-09-08T22:57:20.106357Z"
        },
        "colab": {
          "base_uri": "https://localhost:8080/"
        },
        "hidden": true,
        "id": "eWgJQA_9smM9",
        "outputId": "5fd5ef38-4281-43a5-b066-f84aec65502c"
      },
      "outputs": [
        {
          "output_type": "execute_result",
          "data": {
            "text/plain": [
              "White               3792\n",
              "Black               1298\n",
              "Hispanic             679\n",
              "Asian                188\n",
              "Pacific Islander      59\n",
              "Native American       49\n",
              "Other                  3\n",
              "Name: DODRace, dtype: int64"
            ]
          },
          "metadata": {},
          "execution_count": 32
        }
      ],
      "source": [
        "data.DODRace.value_counts()"
      ]
    },
    {
      "cell_type": "code",
      "execution_count": 33,
      "metadata": {
        "ExecuteTime": {
          "end_time": "2022-09-08T21:26:32.937696Z",
          "start_time": "2022-09-08T21:26:32.899209Z"
        },
        "hidden": true,
        "id": "dNXWkyYa-QQC",
        "outputId": "c617775e-0489-4105-9292-829952a17b95",
        "colab": {
          "base_uri": "https://localhost:8080/",
          "height": 270
        }
      },
      "outputs": [
        {
          "output_type": "execute_result",
          "data": {
            "text/plain": [
              "   abdominalextensiondepthsitting  acromialheight  acromionradialelength  anklecircumference  axillaheight  balloffootcircumference  balloffootlength  biacromialbreadth  bicepscircumferenceflexed  bicristalbreadth  bideltoidbreadth  bimalleolarbreadth  bitragionchinarc  bitragionsubmandibulararc  bizygomaticbreadth  buttockcircumference  buttockdepth  buttockheight  buttockkneelength  buttockpopliteallength  calfcircumference  cervicaleheight  chestbreadth  chestcircumference  chestdepth  chestheight  crotchheight  crotchlengthomphalion  crotchlengthposterioromphalion  earbreadth  earlength  earprotrusion  elbowrestheight  eyeheightsitting  footbreadthhorizontal  footlength  forearmcenterofgriplength  forearmcircumferenceflexed  forearmforearmbreadth  forearmhandlength  functionalleglength  handbreadth  handcircumference  handlength  headbreadth  headcircumference  headlength  heelanklecircumference  heelbreadth  hipbreadth  hipbreadthsitting  iliocristaleheight  \\\n",
              "0                             266            1467                    337                 222          1347                      253               202                401                        369               274               493                  71               319                        291                 142                   979           240            882                619                     509                373             1535           291                1074         259         1292           877                    607                             351          36         71             19              247               802                    101         273                        349                         299                    575                477                 1136           90                214         193          150                583         206                     326           70         332                366                1071   \n",
              "1                             233            1395                    326                 220          1293                      245               193                394                        338               257               479                  67               344                        320                 135                   944           232            870                584                     468                357             1471           269                1021         253         1244           851                    615                             376          33         62             18              232               781                     98         263                        348                         289                    523                476                 1096           86                203         195          146                568         201                     334           72         312                356                1046   \n",
              "2                             287            1430                    341                 230          1327                      256               196                427                        408               261               544                  75               345                        330                 135                  1054           258            901                623                     506                412             1501           288                1120         267         1288           854                    636                             359          40         61             23              237               810                    103         270                        355                         357                    575                491                 1115           93                220         203          148                573         202                     356           70         349                393                1053   \n",
              "3                             234            1347                    310                 230          1239                      262               199                401                        359               262               518                  73               328                        309                 143                   991           242            821                560                     437                395             1423           296                1114         262         1205           769                    590                             341          39         66             25              272               794                    106         267                        352                         318                    593                467                 1034           91                217         194          158                576         199                     341           68         338                367                 986   \n",
              "4                             250            1585                    372                 247          1478                      267               224                435                        356               263               524                  80               340                        310                 138                  1029           275           1080                706                     567                425             1684           304                1048         232         1452          1014                    682                             382          32         56             19              188               814                    111         305                        399                         324                    605                550                 1279           94                222         218          153                566         197                     374           69         332                372                1251   \n",
              "\n",
              "   interpupillarybreadth  interscyei  interscyeii  kneeheightmidpatella  kneeheightsitting  lateralfemoralepicondyleheight  lateralmalleolusheight  lowerthighcircumference  mentonsellionlength  neckcircumference  neckcircumferencebase  overheadfingertipreachsitting  palmlength  poplitealheight  radialestylionlength  shouldercircumference  shoulderelbowlength  shoulderlength  sittingheight  sleevelengthspinewrist  sleeveoutseam  span  stature  suprasternaleheight  tenthribheight  thighcircumference  thighclearance  thumbtipreach  tibialheight  tragiontopofhead  trochanterionheight  verticaltrunkcircumferenceusa  waistbacklength  waistbreadth  waistcircumference  waistdepth  waistfrontlengthsitting  waistheightomphalion  weightkg  wristcircumference  wristheight Gender SubjectsBirthLocation DODRace  Age WritingPreference  \n",
              "0                    685         422          441                   502                560                             500                      77                      391                  118                400                    436                           1447         113              437                   273                   1151                  368             145            928                     883            600  1782     1776                 1449            1092                 610             164            786           491               140                  919                           1700              501           329                 933         240                      440                  1054       815                 175          853   Male          North Dakota   White   41        Right hand  \n",
              "1                    620         441          447                   490                540                             488                      73                      371                  131                380                    420                           1380         118              417                   254                   1119                  353             141            884                     868            564  1745     1702                 1387            1076                 572             169            822           476               120                  918                           1627              432           316                 870         225                      371                  1054       726                 167          815   Male              New York   White   35         Left hand  \n",
              "2                    665         462          475                   496                556                             482                      72                      409                  123                403                    434                           1447         121              431                   268                   1276                  367             167            917                     910            604  1867     1735                 1438            1105                 685             198            807           477               125                  918                           1678              472           329                 964         255                      411                  1041       929                 180          831   Male              New York   Black   42         Left hand  \n",
              "3                    640         458          461                   460                511                             452                      76                      393                  106                407                    446                           1357         118              393                   249                   1155                  330             148            903                     848            550  1708     1655                 1346            1021                 604             180            803           445               127                  847                           1625              461           315                 857         205                      399                   968       794                 176          793   Male             Wisconsin   White   31        Right hand  \n",
              "4                    675         481          505                   612                666                             585                      85                      458                  135                398                    430                           1572         132              523                   302                   1231                  400             180            919                     995            641  2035     1914                 1596            1292                 672             194            962           584               122                 1090                           1679              467           303                 868         214                      379                  1245       946                 188          954   Male        North Carolina   Black   21        Right hand  "
            ],
            "text/html": [
              "\n",
              "  <div id=\"df-66fcc3f1-02d6-4f4d-9cc1-f15246ffb9dd\">\n",
              "    <div class=\"colab-df-container\">\n",
              "      <div>\n",
              "<style scoped>\n",
              "    .dataframe tbody tr th:only-of-type {\n",
              "        vertical-align: middle;\n",
              "    }\n",
              "\n",
              "    .dataframe tbody tr th {\n",
              "        vertical-align: top;\n",
              "    }\n",
              "\n",
              "    .dataframe thead th {\n",
              "        text-align: right;\n",
              "    }\n",
              "</style>\n",
              "<table border=\"1\" class=\"dataframe\">\n",
              "  <thead>\n",
              "    <tr style=\"text-align: right;\">\n",
              "      <th></th>\n",
              "      <th>abdominalextensiondepthsitting</th>\n",
              "      <th>acromialheight</th>\n",
              "      <th>acromionradialelength</th>\n",
              "      <th>anklecircumference</th>\n",
              "      <th>axillaheight</th>\n",
              "      <th>balloffootcircumference</th>\n",
              "      <th>balloffootlength</th>\n",
              "      <th>biacromialbreadth</th>\n",
              "      <th>bicepscircumferenceflexed</th>\n",
              "      <th>bicristalbreadth</th>\n",
              "      <th>bideltoidbreadth</th>\n",
              "      <th>bimalleolarbreadth</th>\n",
              "      <th>bitragionchinarc</th>\n",
              "      <th>bitragionsubmandibulararc</th>\n",
              "      <th>bizygomaticbreadth</th>\n",
              "      <th>buttockcircumference</th>\n",
              "      <th>buttockdepth</th>\n",
              "      <th>buttockheight</th>\n",
              "      <th>buttockkneelength</th>\n",
              "      <th>buttockpopliteallength</th>\n",
              "      <th>calfcircumference</th>\n",
              "      <th>cervicaleheight</th>\n",
              "      <th>chestbreadth</th>\n",
              "      <th>chestcircumference</th>\n",
              "      <th>chestdepth</th>\n",
              "      <th>chestheight</th>\n",
              "      <th>crotchheight</th>\n",
              "      <th>crotchlengthomphalion</th>\n",
              "      <th>crotchlengthposterioromphalion</th>\n",
              "      <th>earbreadth</th>\n",
              "      <th>earlength</th>\n",
              "      <th>earprotrusion</th>\n",
              "      <th>elbowrestheight</th>\n",
              "      <th>eyeheightsitting</th>\n",
              "      <th>footbreadthhorizontal</th>\n",
              "      <th>footlength</th>\n",
              "      <th>forearmcenterofgriplength</th>\n",
              "      <th>forearmcircumferenceflexed</th>\n",
              "      <th>forearmforearmbreadth</th>\n",
              "      <th>forearmhandlength</th>\n",
              "      <th>functionalleglength</th>\n",
              "      <th>handbreadth</th>\n",
              "      <th>handcircumference</th>\n",
              "      <th>handlength</th>\n",
              "      <th>headbreadth</th>\n",
              "      <th>headcircumference</th>\n",
              "      <th>headlength</th>\n",
              "      <th>heelanklecircumference</th>\n",
              "      <th>heelbreadth</th>\n",
              "      <th>hipbreadth</th>\n",
              "      <th>hipbreadthsitting</th>\n",
              "      <th>iliocristaleheight</th>\n",
              "      <th>interpupillarybreadth</th>\n",
              "      <th>interscyei</th>\n",
              "      <th>interscyeii</th>\n",
              "      <th>kneeheightmidpatella</th>\n",
              "      <th>kneeheightsitting</th>\n",
              "      <th>lateralfemoralepicondyleheight</th>\n",
              "      <th>lateralmalleolusheight</th>\n",
              "      <th>lowerthighcircumference</th>\n",
              "      <th>mentonsellionlength</th>\n",
              "      <th>neckcircumference</th>\n",
              "      <th>neckcircumferencebase</th>\n",
              "      <th>overheadfingertipreachsitting</th>\n",
              "      <th>palmlength</th>\n",
              "      <th>poplitealheight</th>\n",
              "      <th>radialestylionlength</th>\n",
              "      <th>shouldercircumference</th>\n",
              "      <th>shoulderelbowlength</th>\n",
              "      <th>shoulderlength</th>\n",
              "      <th>sittingheight</th>\n",
              "      <th>sleevelengthspinewrist</th>\n",
              "      <th>sleeveoutseam</th>\n",
              "      <th>span</th>\n",
              "      <th>stature</th>\n",
              "      <th>suprasternaleheight</th>\n",
              "      <th>tenthribheight</th>\n",
              "      <th>thighcircumference</th>\n",
              "      <th>thighclearance</th>\n",
              "      <th>thumbtipreach</th>\n",
              "      <th>tibialheight</th>\n",
              "      <th>tragiontopofhead</th>\n",
              "      <th>trochanterionheight</th>\n",
              "      <th>verticaltrunkcircumferenceusa</th>\n",
              "      <th>waistbacklength</th>\n",
              "      <th>waistbreadth</th>\n",
              "      <th>waistcircumference</th>\n",
              "      <th>waistdepth</th>\n",
              "      <th>waistfrontlengthsitting</th>\n",
              "      <th>waistheightomphalion</th>\n",
              "      <th>weightkg</th>\n",
              "      <th>wristcircumference</th>\n",
              "      <th>wristheight</th>\n",
              "      <th>Gender</th>\n",
              "      <th>SubjectsBirthLocation</th>\n",
              "      <th>DODRace</th>\n",
              "      <th>Age</th>\n",
              "      <th>WritingPreference</th>\n",
              "    </tr>\n",
              "  </thead>\n",
              "  <tbody>\n",
              "    <tr>\n",
              "      <th>0</th>\n",
              "      <td>266</td>\n",
              "      <td>1467</td>\n",
              "      <td>337</td>\n",
              "      <td>222</td>\n",
              "      <td>1347</td>\n",
              "      <td>253</td>\n",
              "      <td>202</td>\n",
              "      <td>401</td>\n",
              "      <td>369</td>\n",
              "      <td>274</td>\n",
              "      <td>493</td>\n",
              "      <td>71</td>\n",
              "      <td>319</td>\n",
              "      <td>291</td>\n",
              "      <td>142</td>\n",
              "      <td>979</td>\n",
              "      <td>240</td>\n",
              "      <td>882</td>\n",
              "      <td>619</td>\n",
              "      <td>509</td>\n",
              "      <td>373</td>\n",
              "      <td>1535</td>\n",
              "      <td>291</td>\n",
              "      <td>1074</td>\n",
              "      <td>259</td>\n",
              "      <td>1292</td>\n",
              "      <td>877</td>\n",
              "      <td>607</td>\n",
              "      <td>351</td>\n",
              "      <td>36</td>\n",
              "      <td>71</td>\n",
              "      <td>19</td>\n",
              "      <td>247</td>\n",
              "      <td>802</td>\n",
              "      <td>101</td>\n",
              "      <td>273</td>\n",
              "      <td>349</td>\n",
              "      <td>299</td>\n",
              "      <td>575</td>\n",
              "      <td>477</td>\n",
              "      <td>1136</td>\n",
              "      <td>90</td>\n",
              "      <td>214</td>\n",
              "      <td>193</td>\n",
              "      <td>150</td>\n",
              "      <td>583</td>\n",
              "      <td>206</td>\n",
              "      <td>326</td>\n",
              "      <td>70</td>\n",
              "      <td>332</td>\n",
              "      <td>366</td>\n",
              "      <td>1071</td>\n",
              "      <td>685</td>\n",
              "      <td>422</td>\n",
              "      <td>441</td>\n",
              "      <td>502</td>\n",
              "      <td>560</td>\n",
              "      <td>500</td>\n",
              "      <td>77</td>\n",
              "      <td>391</td>\n",
              "      <td>118</td>\n",
              "      <td>400</td>\n",
              "      <td>436</td>\n",
              "      <td>1447</td>\n",
              "      <td>113</td>\n",
              "      <td>437</td>\n",
              "      <td>273</td>\n",
              "      <td>1151</td>\n",
              "      <td>368</td>\n",
              "      <td>145</td>\n",
              "      <td>928</td>\n",
              "      <td>883</td>\n",
              "      <td>600</td>\n",
              "      <td>1782</td>\n",
              "      <td>1776</td>\n",
              "      <td>1449</td>\n",
              "      <td>1092</td>\n",
              "      <td>610</td>\n",
              "      <td>164</td>\n",
              "      <td>786</td>\n",
              "      <td>491</td>\n",
              "      <td>140</td>\n",
              "      <td>919</td>\n",
              "      <td>1700</td>\n",
              "      <td>501</td>\n",
              "      <td>329</td>\n",
              "      <td>933</td>\n",
              "      <td>240</td>\n",
              "      <td>440</td>\n",
              "      <td>1054</td>\n",
              "      <td>815</td>\n",
              "      <td>175</td>\n",
              "      <td>853</td>\n",
              "      <td>Male</td>\n",
              "      <td>North Dakota</td>\n",
              "      <td>White</td>\n",
              "      <td>41</td>\n",
              "      <td>Right hand</td>\n",
              "    </tr>\n",
              "    <tr>\n",
              "      <th>1</th>\n",
              "      <td>233</td>\n",
              "      <td>1395</td>\n",
              "      <td>326</td>\n",
              "      <td>220</td>\n",
              "      <td>1293</td>\n",
              "      <td>245</td>\n",
              "      <td>193</td>\n",
              "      <td>394</td>\n",
              "      <td>338</td>\n",
              "      <td>257</td>\n",
              "      <td>479</td>\n",
              "      <td>67</td>\n",
              "      <td>344</td>\n",
              "      <td>320</td>\n",
              "      <td>135</td>\n",
              "      <td>944</td>\n",
              "      <td>232</td>\n",
              "      <td>870</td>\n",
              "      <td>584</td>\n",
              "      <td>468</td>\n",
              "      <td>357</td>\n",
              "      <td>1471</td>\n",
              "      <td>269</td>\n",
              "      <td>1021</td>\n",
              "      <td>253</td>\n",
              "      <td>1244</td>\n",
              "      <td>851</td>\n",
              "      <td>615</td>\n",
              "      <td>376</td>\n",
              "      <td>33</td>\n",
              "      <td>62</td>\n",
              "      <td>18</td>\n",
              "      <td>232</td>\n",
              "      <td>781</td>\n",
              "      <td>98</td>\n",
              "      <td>263</td>\n",
              "      <td>348</td>\n",
              "      <td>289</td>\n",
              "      <td>523</td>\n",
              "      <td>476</td>\n",
              "      <td>1096</td>\n",
              "      <td>86</td>\n",
              "      <td>203</td>\n",
              "      <td>195</td>\n",
              "      <td>146</td>\n",
              "      <td>568</td>\n",
              "      <td>201</td>\n",
              "      <td>334</td>\n",
              "      <td>72</td>\n",
              "      <td>312</td>\n",
              "      <td>356</td>\n",
              "      <td>1046</td>\n",
              "      <td>620</td>\n",
              "      <td>441</td>\n",
              "      <td>447</td>\n",
              "      <td>490</td>\n",
              "      <td>540</td>\n",
              "      <td>488</td>\n",
              "      <td>73</td>\n",
              "      <td>371</td>\n",
              "      <td>131</td>\n",
              "      <td>380</td>\n",
              "      <td>420</td>\n",
              "      <td>1380</td>\n",
              "      <td>118</td>\n",
              "      <td>417</td>\n",
              "      <td>254</td>\n",
              "      <td>1119</td>\n",
              "      <td>353</td>\n",
              "      <td>141</td>\n",
              "      <td>884</td>\n",
              "      <td>868</td>\n",
              "      <td>564</td>\n",
              "      <td>1745</td>\n",
              "      <td>1702</td>\n",
              "      <td>1387</td>\n",
              "      <td>1076</td>\n",
              "      <td>572</td>\n",
              "      <td>169</td>\n",
              "      <td>822</td>\n",
              "      <td>476</td>\n",
              "      <td>120</td>\n",
              "      <td>918</td>\n",
              "      <td>1627</td>\n",
              "      <td>432</td>\n",
              "      <td>316</td>\n",
              "      <td>870</td>\n",
              "      <td>225</td>\n",
              "      <td>371</td>\n",
              "      <td>1054</td>\n",
              "      <td>726</td>\n",
              "      <td>167</td>\n",
              "      <td>815</td>\n",
              "      <td>Male</td>\n",
              "      <td>New York</td>\n",
              "      <td>White</td>\n",
              "      <td>35</td>\n",
              "      <td>Left hand</td>\n",
              "    </tr>\n",
              "    <tr>\n",
              "      <th>2</th>\n",
              "      <td>287</td>\n",
              "      <td>1430</td>\n",
              "      <td>341</td>\n",
              "      <td>230</td>\n",
              "      <td>1327</td>\n",
              "      <td>256</td>\n",
              "      <td>196</td>\n",
              "      <td>427</td>\n",
              "      <td>408</td>\n",
              "      <td>261</td>\n",
              "      <td>544</td>\n",
              "      <td>75</td>\n",
              "      <td>345</td>\n",
              "      <td>330</td>\n",
              "      <td>135</td>\n",
              "      <td>1054</td>\n",
              "      <td>258</td>\n",
              "      <td>901</td>\n",
              "      <td>623</td>\n",
              "      <td>506</td>\n",
              "      <td>412</td>\n",
              "      <td>1501</td>\n",
              "      <td>288</td>\n",
              "      <td>1120</td>\n",
              "      <td>267</td>\n",
              "      <td>1288</td>\n",
              "      <td>854</td>\n",
              "      <td>636</td>\n",
              "      <td>359</td>\n",
              "      <td>40</td>\n",
              "      <td>61</td>\n",
              "      <td>23</td>\n",
              "      <td>237</td>\n",
              "      <td>810</td>\n",
              "      <td>103</td>\n",
              "      <td>270</td>\n",
              "      <td>355</td>\n",
              "      <td>357</td>\n",
              "      <td>575</td>\n",
              "      <td>491</td>\n",
              "      <td>1115</td>\n",
              "      <td>93</td>\n",
              "      <td>220</td>\n",
              "      <td>203</td>\n",
              "      <td>148</td>\n",
              "      <td>573</td>\n",
              "      <td>202</td>\n",
              "      <td>356</td>\n",
              "      <td>70</td>\n",
              "      <td>349</td>\n",
              "      <td>393</td>\n",
              "      <td>1053</td>\n",
              "      <td>665</td>\n",
              "      <td>462</td>\n",
              "      <td>475</td>\n",
              "      <td>496</td>\n",
              "      <td>556</td>\n",
              "      <td>482</td>\n",
              "      <td>72</td>\n",
              "      <td>409</td>\n",
              "      <td>123</td>\n",
              "      <td>403</td>\n",
              "      <td>434</td>\n",
              "      <td>1447</td>\n",
              "      <td>121</td>\n",
              "      <td>431</td>\n",
              "      <td>268</td>\n",
              "      <td>1276</td>\n",
              "      <td>367</td>\n",
              "      <td>167</td>\n",
              "      <td>917</td>\n",
              "      <td>910</td>\n",
              "      <td>604</td>\n",
              "      <td>1867</td>\n",
              "      <td>1735</td>\n",
              "      <td>1438</td>\n",
              "      <td>1105</td>\n",
              "      <td>685</td>\n",
              "      <td>198</td>\n",
              "      <td>807</td>\n",
              "      <td>477</td>\n",
              "      <td>125</td>\n",
              "      <td>918</td>\n",
              "      <td>1678</td>\n",
              "      <td>472</td>\n",
              "      <td>329</td>\n",
              "      <td>964</td>\n",
              "      <td>255</td>\n",
              "      <td>411</td>\n",
              "      <td>1041</td>\n",
              "      <td>929</td>\n",
              "      <td>180</td>\n",
              "      <td>831</td>\n",
              "      <td>Male</td>\n",
              "      <td>New York</td>\n",
              "      <td>Black</td>\n",
              "      <td>42</td>\n",
              "      <td>Left hand</td>\n",
              "    </tr>\n",
              "    <tr>\n",
              "      <th>3</th>\n",
              "      <td>234</td>\n",
              "      <td>1347</td>\n",
              "      <td>310</td>\n",
              "      <td>230</td>\n",
              "      <td>1239</td>\n",
              "      <td>262</td>\n",
              "      <td>199</td>\n",
              "      <td>401</td>\n",
              "      <td>359</td>\n",
              "      <td>262</td>\n",
              "      <td>518</td>\n",
              "      <td>73</td>\n",
              "      <td>328</td>\n",
              "      <td>309</td>\n",
              "      <td>143</td>\n",
              "      <td>991</td>\n",
              "      <td>242</td>\n",
              "      <td>821</td>\n",
              "      <td>560</td>\n",
              "      <td>437</td>\n",
              "      <td>395</td>\n",
              "      <td>1423</td>\n",
              "      <td>296</td>\n",
              "      <td>1114</td>\n",
              "      <td>262</td>\n",
              "      <td>1205</td>\n",
              "      <td>769</td>\n",
              "      <td>590</td>\n",
              "      <td>341</td>\n",
              "      <td>39</td>\n",
              "      <td>66</td>\n",
              "      <td>25</td>\n",
              "      <td>272</td>\n",
              "      <td>794</td>\n",
              "      <td>106</td>\n",
              "      <td>267</td>\n",
              "      <td>352</td>\n",
              "      <td>318</td>\n",
              "      <td>593</td>\n",
              "      <td>467</td>\n",
              "      <td>1034</td>\n",
              "      <td>91</td>\n",
              "      <td>217</td>\n",
              "      <td>194</td>\n",
              "      <td>158</td>\n",
              "      <td>576</td>\n",
              "      <td>199</td>\n",
              "      <td>341</td>\n",
              "      <td>68</td>\n",
              "      <td>338</td>\n",
              "      <td>367</td>\n",
              "      <td>986</td>\n",
              "      <td>640</td>\n",
              "      <td>458</td>\n",
              "      <td>461</td>\n",
              "      <td>460</td>\n",
              "      <td>511</td>\n",
              "      <td>452</td>\n",
              "      <td>76</td>\n",
              "      <td>393</td>\n",
              "      <td>106</td>\n",
              "      <td>407</td>\n",
              "      <td>446</td>\n",
              "      <td>1357</td>\n",
              "      <td>118</td>\n",
              "      <td>393</td>\n",
              "      <td>249</td>\n",
              "      <td>1155</td>\n",
              "      <td>330</td>\n",
              "      <td>148</td>\n",
              "      <td>903</td>\n",
              "      <td>848</td>\n",
              "      <td>550</td>\n",
              "      <td>1708</td>\n",
              "      <td>1655</td>\n",
              "      <td>1346</td>\n",
              "      <td>1021</td>\n",
              "      <td>604</td>\n",
              "      <td>180</td>\n",
              "      <td>803</td>\n",
              "      <td>445</td>\n",
              "      <td>127</td>\n",
              "      <td>847</td>\n",
              "      <td>1625</td>\n",
              "      <td>461</td>\n",
              "      <td>315</td>\n",
              "      <td>857</td>\n",
              "      <td>205</td>\n",
              "      <td>399</td>\n",
              "      <td>968</td>\n",
              "      <td>794</td>\n",
              "      <td>176</td>\n",
              "      <td>793</td>\n",
              "      <td>Male</td>\n",
              "      <td>Wisconsin</td>\n",
              "      <td>White</td>\n",
              "      <td>31</td>\n",
              "      <td>Right hand</td>\n",
              "    </tr>\n",
              "    <tr>\n",
              "      <th>4</th>\n",
              "      <td>250</td>\n",
              "      <td>1585</td>\n",
              "      <td>372</td>\n",
              "      <td>247</td>\n",
              "      <td>1478</td>\n",
              "      <td>267</td>\n",
              "      <td>224</td>\n",
              "      <td>435</td>\n",
              "      <td>356</td>\n",
              "      <td>263</td>\n",
              "      <td>524</td>\n",
              "      <td>80</td>\n",
              "      <td>340</td>\n",
              "      <td>310</td>\n",
              "      <td>138</td>\n",
              "      <td>1029</td>\n",
              "      <td>275</td>\n",
              "      <td>1080</td>\n",
              "      <td>706</td>\n",
              "      <td>567</td>\n",
              "      <td>425</td>\n",
              "      <td>1684</td>\n",
              "      <td>304</td>\n",
              "      <td>1048</td>\n",
              "      <td>232</td>\n",
              "      <td>1452</td>\n",
              "      <td>1014</td>\n",
              "      <td>682</td>\n",
              "      <td>382</td>\n",
              "      <td>32</td>\n",
              "      <td>56</td>\n",
              "      <td>19</td>\n",
              "      <td>188</td>\n",
              "      <td>814</td>\n",
              "      <td>111</td>\n",
              "      <td>305</td>\n",
              "      <td>399</td>\n",
              "      <td>324</td>\n",
              "      <td>605</td>\n",
              "      <td>550</td>\n",
              "      <td>1279</td>\n",
              "      <td>94</td>\n",
              "      <td>222</td>\n",
              "      <td>218</td>\n",
              "      <td>153</td>\n",
              "      <td>566</td>\n",
              "      <td>197</td>\n",
              "      <td>374</td>\n",
              "      <td>69</td>\n",
              "      <td>332</td>\n",
              "      <td>372</td>\n",
              "      <td>1251</td>\n",
              "      <td>675</td>\n",
              "      <td>481</td>\n",
              "      <td>505</td>\n",
              "      <td>612</td>\n",
              "      <td>666</td>\n",
              "      <td>585</td>\n",
              "      <td>85</td>\n",
              "      <td>458</td>\n",
              "      <td>135</td>\n",
              "      <td>398</td>\n",
              "      <td>430</td>\n",
              "      <td>1572</td>\n",
              "      <td>132</td>\n",
              "      <td>523</td>\n",
              "      <td>302</td>\n",
              "      <td>1231</td>\n",
              "      <td>400</td>\n",
              "      <td>180</td>\n",
              "      <td>919</td>\n",
              "      <td>995</td>\n",
              "      <td>641</td>\n",
              "      <td>2035</td>\n",
              "      <td>1914</td>\n",
              "      <td>1596</td>\n",
              "      <td>1292</td>\n",
              "      <td>672</td>\n",
              "      <td>194</td>\n",
              "      <td>962</td>\n",
              "      <td>584</td>\n",
              "      <td>122</td>\n",
              "      <td>1090</td>\n",
              "      <td>1679</td>\n",
              "      <td>467</td>\n",
              "      <td>303</td>\n",
              "      <td>868</td>\n",
              "      <td>214</td>\n",
              "      <td>379</td>\n",
              "      <td>1245</td>\n",
              "      <td>946</td>\n",
              "      <td>188</td>\n",
              "      <td>954</td>\n",
              "      <td>Male</td>\n",
              "      <td>North Carolina</td>\n",
              "      <td>Black</td>\n",
              "      <td>21</td>\n",
              "      <td>Right hand</td>\n",
              "    </tr>\n",
              "  </tbody>\n",
              "</table>\n",
              "</div>\n",
              "      <button class=\"colab-df-convert\" onclick=\"convertToInteractive('df-66fcc3f1-02d6-4f4d-9cc1-f15246ffb9dd')\"\n",
              "              title=\"Convert this dataframe to an interactive table.\"\n",
              "              style=\"display:none;\">\n",
              "        \n",
              "  <svg xmlns=\"http://www.w3.org/2000/svg\" height=\"24px\"viewBox=\"0 0 24 24\"\n",
              "       width=\"24px\">\n",
              "    <path d=\"M0 0h24v24H0V0z\" fill=\"none\"/>\n",
              "    <path d=\"M18.56 5.44l.94 2.06.94-2.06 2.06-.94-2.06-.94-.94-2.06-.94 2.06-2.06.94zm-11 1L8.5 8.5l.94-2.06 2.06-.94-2.06-.94L8.5 2.5l-.94 2.06-2.06.94zm10 10l.94 2.06.94-2.06 2.06-.94-2.06-.94-.94-2.06-.94 2.06-2.06.94z\"/><path d=\"M17.41 7.96l-1.37-1.37c-.4-.4-.92-.59-1.43-.59-.52 0-1.04.2-1.43.59L10.3 9.45l-7.72 7.72c-.78.78-.78 2.05 0 2.83L4 21.41c.39.39.9.59 1.41.59.51 0 1.02-.2 1.41-.59l7.78-7.78 2.81-2.81c.8-.78.8-2.07 0-2.86zM5.41 20L4 18.59l7.72-7.72 1.47 1.35L5.41 20z\"/>\n",
              "  </svg>\n",
              "      </button>\n",
              "      \n",
              "  <style>\n",
              "    .colab-df-container {\n",
              "      display:flex;\n",
              "      flex-wrap:wrap;\n",
              "      gap: 12px;\n",
              "    }\n",
              "\n",
              "    .colab-df-convert {\n",
              "      background-color: #E8F0FE;\n",
              "      border: none;\n",
              "      border-radius: 50%;\n",
              "      cursor: pointer;\n",
              "      display: none;\n",
              "      fill: #1967D2;\n",
              "      height: 32px;\n",
              "      padding: 0 0 0 0;\n",
              "      width: 32px;\n",
              "    }\n",
              "\n",
              "    .colab-df-convert:hover {\n",
              "      background-color: #E2EBFA;\n",
              "      box-shadow: 0px 1px 2px rgba(60, 64, 67, 0.3), 0px 1px 3px 1px rgba(60, 64, 67, 0.15);\n",
              "      fill: #174EA6;\n",
              "    }\n",
              "\n",
              "    [theme=dark] .colab-df-convert {\n",
              "      background-color: #3B4455;\n",
              "      fill: #D2E3FC;\n",
              "    }\n",
              "\n",
              "    [theme=dark] .colab-df-convert:hover {\n",
              "      background-color: #434B5C;\n",
              "      box-shadow: 0px 1px 3px 1px rgba(0, 0, 0, 0.15);\n",
              "      filter: drop-shadow(0px 1px 2px rgba(0, 0, 0, 0.3));\n",
              "      fill: #FFFFFF;\n",
              "    }\n",
              "  </style>\n",
              "\n",
              "      <script>\n",
              "        const buttonEl =\n",
              "          document.querySelector('#df-66fcc3f1-02d6-4f4d-9cc1-f15246ffb9dd button.colab-df-convert');\n",
              "        buttonEl.style.display =\n",
              "          google.colab.kernel.accessAllowed ? 'block' : 'none';\n",
              "\n",
              "        async function convertToInteractive(key) {\n",
              "          const element = document.querySelector('#df-66fcc3f1-02d6-4f4d-9cc1-f15246ffb9dd');\n",
              "          const dataTable =\n",
              "            await google.colab.kernel.invokeFunction('convertToInteractive',\n",
              "                                                     [key], {});\n",
              "          if (!dataTable) return;\n",
              "\n",
              "          const docLinkHtml = 'Like what you see? Visit the ' +\n",
              "            '<a target=\"_blank\" href=https://colab.research.google.com/notebooks/data_table.ipynb>data table notebook</a>'\n",
              "            + ' to learn more about interactive tables.';\n",
              "          element.innerHTML = '';\n",
              "          dataTable['output_type'] = 'display_data';\n",
              "          await google.colab.output.renderOutput(dataTable, element);\n",
              "          const docLink = document.createElement('div');\n",
              "          docLink.innerHTML = docLinkHtml;\n",
              "          element.appendChild(docLink);\n",
              "        }\n",
              "      </script>\n",
              "    </div>\n",
              "  </div>\n",
              "  "
            ]
          },
          "metadata": {},
          "execution_count": 33
        }
      ],
      "source": [
        "# We dont have enough data for asian, pasific Islander, Native American and Other races. Thus, we drop them.  \n",
        "data = data[(data[\"DODRace\"] == \"White\") | (data[\"DODRace\"] == \"Black\") |\n",
        "                (data[\"DODRace\"] == \"Hispanic\")]\n",
        "data.head()"
      ]
    },
    {
      "cell_type": "code",
      "execution_count": 34,
      "metadata": {
        "ExecuteTime": {
          "end_time": "2022-09-08T22:57:35.410393Z",
          "start_time": "2022-09-08T22:57:35.406191Z"
        },
        "hidden": true,
        "id": "dsVfSYwD-QQD"
      },
      "outputs": [],
      "source": [
        "data.reset_index(drop=True, inplace=True)"
      ]
    },
    {
      "cell_type": "code",
      "execution_count": 35,
      "metadata": {
        "ExecuteTime": {
          "end_time": "2022-09-08T22:57:36.424237Z",
          "start_time": "2022-09-08T22:57:36.381680Z"
        },
        "id": "jSyuP94Y-QQD",
        "outputId": "2e33c94b-21e5-427e-f8e2-3de344e10048",
        "colab": {
          "base_uri": "https://localhost:8080/"
        }
      },
      "outputs": [
        {
          "output_type": "execute_result",
          "data": {
            "text/plain": [
              "(5769, 98)"
            ]
          },
          "metadata": {},
          "execution_count": 35
        }
      ],
      "source": [
        "data.shape"
      ]
    },
    {
      "cell_type": "code",
      "execution_count": 36,
      "metadata": {
        "ExecuteTime": {
          "end_time": "2022-09-08T22:57:45.862350Z",
          "start_time": "2022-09-08T22:57:43.443753Z"
        },
        "colab": {
          "base_uri": "https://localhost:8080/",
          "height": 1000
        },
        "hidden": true,
        "id": "jXWy_s9Ty0Oq",
        "outputId": "fda62b21-0a51-4a03-a0d9-05f881e4151b",
        "scrolled": false
      },
      "outputs": [
        {
          "output_type": "display_data",
          "data": {
            "text/plain": [
              "<Figure size 1440x1440 with 2 Axes>"
            ],
            "image/png": "[encoded data removed]"
          },
          "metadata": {
            "needs_background": "light"
          }
        }
      ],
      "source": [
        "plt.figure(figsize=(20,20))\n",
        "sns.heatmap(data.corr(), cmap =\"coolwarm\");"
      ]
    },
    {
      "cell_type": "markdown",
      "metadata": {
        "id": "CS5-GZy0sl4s"
      },
      "source": [
        "# <p style=\"background-color:#1874CD; font-family:newtimeroman; color:#FFF9ED; font-size:130%; text-align:center; border-radius:10px 10px;\">Data Preprocessing </p>\n",
        "\n",
        "<a id=\"3\"></a>\n",
        "<a href=\"#74\" class=\"btn btn-primary btn-sm\" role=\"button\" aria-pressed=\"true\" \n",
        "style=\"color:blue; background-color:#dfa8e4\" data-toggle=\"popover\">Table of Contents</a>"
      ]
    },
    {
      "cell_type": "code",
      "execution_count": 37,
      "metadata": {
        "ExecuteTime": {
          "end_time": "2022-09-08T22:58:06.360201Z",
          "start_time": "2022-09-08T22:58:06.343953Z"
        },
        "id": "PBMDscEv1GKe"
      },
      "outputs": [],
      "source": [
        "X = data.drop(\"DODRace\",axis=1)\n",
        "y = data.DODRace"
      ]
    },
    {
      "cell_type": "code",
      "execution_count": 38,
      "metadata": {
        "id": "q3eZ99e0-QQD",
        "outputId": "0e86cb46-5bec-463a-84af-2b98a019fe9f",
        "colab": {
          "base_uri": "https://localhost:8080/",
          "height": 270
        }
      },
      "outputs": [
        {
          "output_type": "execute_result",
          "data": {
            "text/plain": [
              "   abdominalextensiondepthsitting  acromialheight  acromionradialelength  anklecircumference  axillaheight  balloffootcircumference  balloffootlength  biacromialbreadth  bicepscircumferenceflexed  bicristalbreadth  bideltoidbreadth  bimalleolarbreadth  bitragionchinarc  bitragionsubmandibulararc  bizygomaticbreadth  buttockcircumference  buttockdepth  buttockheight  buttockkneelength  buttockpopliteallength  calfcircumference  cervicaleheight  chestbreadth  chestcircumference  chestdepth  chestheight  crotchheight  crotchlengthomphalion  crotchlengthposterioromphalion  earbreadth  earlength  earprotrusion  elbowrestheight  eyeheightsitting  footbreadthhorizontal  footlength  forearmcenterofgriplength  forearmcircumferenceflexed  forearmforearmbreadth  forearmhandlength  functionalleglength  handbreadth  handcircumference  handlength  headbreadth  headcircumference  headlength  heelanklecircumference  heelbreadth  hipbreadth  hipbreadthsitting  iliocristaleheight  \\\n",
              "0                             266            1467                    337                 222          1347                      253               202                401                        369               274               493                  71               319                        291                 142                   979           240            882                619                     509                373             1535           291                1074         259         1292           877                    607                             351          36         71             19              247               802                    101         273                        349                         299                    575                477                 1136           90                214         193          150                583         206                     326           70         332                366                1071   \n",
              "1                             233            1395                    326                 220          1293                      245               193                394                        338               257               479                  67               344                        320                 135                   944           232            870                584                     468                357             1471           269                1021         253         1244           851                    615                             376          33         62             18              232               781                     98         263                        348                         289                    523                476                 1096           86                203         195          146                568         201                     334           72         312                356                1046   \n",
              "2                             287            1430                    341                 230          1327                      256               196                427                        408               261               544                  75               345                        330                 135                  1054           258            901                623                     506                412             1501           288                1120         267         1288           854                    636                             359          40         61             23              237               810                    103         270                        355                         357                    575                491                 1115           93                220         203          148                573         202                     356           70         349                393                1053   \n",
              "3                             234            1347                    310                 230          1239                      262               199                401                        359               262               518                  73               328                        309                 143                   991           242            821                560                     437                395             1423           296                1114         262         1205           769                    590                             341          39         66             25              272               794                    106         267                        352                         318                    593                467                 1034           91                217         194          158                576         199                     341           68         338                367                 986   \n",
              "4                             250            1585                    372                 247          1478                      267               224                435                        356               263               524                  80               340                        310                 138                  1029           275           1080                706                     567                425             1684           304                1048         232         1452          1014                    682                             382          32         56             19              188               814                    111         305                        399                         324                    605                550                 1279           94                222         218          153                566         197                     374           69         332                372                1251   \n",
              "\n",
              "   interpupillarybreadth  interscyei  interscyeii  kneeheightmidpatella  kneeheightsitting  lateralfemoralepicondyleheight  lateralmalleolusheight  lowerthighcircumference  mentonsellionlength  neckcircumference  neckcircumferencebase  overheadfingertipreachsitting  palmlength  poplitealheight  radialestylionlength  shouldercircumference  shoulderelbowlength  shoulderlength  sittingheight  sleevelengthspinewrist  sleeveoutseam  span  stature  suprasternaleheight  tenthribheight  thighcircumference  thighclearance  thumbtipreach  tibialheight  tragiontopofhead  trochanterionheight  verticaltrunkcircumferenceusa  waistbacklength  waistbreadth  waistcircumference  waistdepth  waistfrontlengthsitting  waistheightomphalion  weightkg  wristcircumference  wristheight Gender SubjectsBirthLocation  Age WritingPreference  \n",
              "0                    685         422          441                   502                560                             500                      77                      391                  118                400                    436                           1447         113              437                   273                   1151                  368             145            928                     883            600  1782     1776                 1449            1092                 610             164            786           491               140                  919                           1700              501           329                 933         240                      440                  1054       815                 175          853   Male          North Dakota   41        Right hand  \n",
              "1                    620         441          447                   490                540                             488                      73                      371                  131                380                    420                           1380         118              417                   254                   1119                  353             141            884                     868            564  1745     1702                 1387            1076                 572             169            822           476               120                  918                           1627              432           316                 870         225                      371                  1054       726                 167          815   Male              New York   35         Left hand  \n",
              "2                    665         462          475                   496                556                             482                      72                      409                  123                403                    434                           1447         121              431                   268                   1276                  367             167            917                     910            604  1867     1735                 1438            1105                 685             198            807           477               125                  918                           1678              472           329                 964         255                      411                  1041       929                 180          831   Male              New York   42         Left hand  \n",
              "3                    640         458          461                   460                511                             452                      76                      393                  106                407                    446                           1357         118              393                   249                   1155                  330             148            903                     848            550  1708     1655                 1346            1021                 604             180            803           445               127                  847                           1625              461           315                 857         205                      399                   968       794                 176          793   Male             Wisconsin   31        Right hand  \n",
              "4                    675         481          505                   612                666                             585                      85                      458                  135                398                    430                           1572         132              523                   302                   1231                  400             180            919                     995            641  2035     1914                 1596            1292                 672             194            962           584               122                 1090                           1679              467           303                 868         214                      379                  1245       946                 188          954   Male        North Carolina   21        Right hand  "
            ],
            "text/html": [
              "\n",
              "  <div id=\"df-20d402e5-b5a6-4636-bb4f-a24078649094\">\n",
              "    <div class=\"colab-df-container\">\n",
              "      <div>\n",
              "<style scoped>\n",
              "    .dataframe tbody tr th:only-of-type {\n",
              "        vertical-align: middle;\n",
              "    }\n",
              "\n",
              "    .dataframe tbody tr th {\n",
              "        vertical-align: top;\n",
              "    }\n",
              "\n",
              "    .dataframe thead th {\n",
              "        text-align: right;\n",
              "    }\n",
              "</style>\n",
              "<table border=\"1\" class=\"dataframe\">\n",
              "  <thead>\n",
              "    <tr style=\"text-align: right;\">\n",
              "      <th></th>\n",
              "      <th>abdominalextensiondepthsitting</th>\n",
              "      <th>acromialheight</th>\n",
              "      <th>acromionradialelength</th>\n",
              "      <th>anklecircumference</th>\n",
              "      <th>axillaheight</th>\n",
              "      <th>balloffootcircumference</th>\n",
              "      <th>balloffootlength</th>\n",
              "      <th>biacromialbreadth</th>\n",
              "      <th>bicepscircumferenceflexed</th>\n",
              "      <th>bicristalbreadth</th>\n",
              "      <th>bideltoidbreadth</th>\n",
              "      <th>bimalleolarbreadth</th>\n",
              "      <th>bitragionchinarc</th>\n",
              "      <th>bitragionsubmandibulararc</th>\n",
              "      <th>bizygomaticbreadth</th>\n",
              "      <th>buttockcircumference</th>\n",
              "      <th>buttockdepth</th>\n",
              "      <th>buttockheight</th>\n",
              "      <th>buttockkneelength</th>\n",
              "      <th>buttockpopliteallength</th>\n",
              "      <th>calfcircumference</th>\n",
              "      <th>cervicaleheight</th>\n",
              "      <th>chestbreadth</th>\n",
              "      <th>chestcircumference</th>\n",
              "      <th>chestdepth</th>\n",
              "      <th>chestheight</th>\n",
              "      <th>crotchheight</th>\n",
              "      <th>crotchlengthomphalion</th>\n",
              "      <th>crotchlengthposterioromphalion</th>\n",
              "      <th>earbreadth</th>\n",
              "      <th>earlength</th>\n",
              "      <th>earprotrusion</th>\n",
              "      <th>elbowrestheight</th>\n",
              "      <th>eyeheightsitting</th>\n",
              "      <th>footbreadthhorizontal</th>\n",
              "      <th>footlength</th>\n",
              "      <th>forearmcenterofgriplength</th>\n",
              "      <th>forearmcircumferenceflexed</th>\n",
              "      <th>forearmforearmbreadth</th>\n",
              "      <th>forearmhandlength</th>\n",
              "      <th>functionalleglength</th>\n",
              "      <th>handbreadth</th>\n",
              "      <th>handcircumference</th>\n",
              "      <th>handlength</th>\n",
              "      <th>headbreadth</th>\n",
              "      <th>headcircumference</th>\n",
              "      <th>headlength</th>\n",
              "      <th>heelanklecircumference</th>\n",
              "      <th>heelbreadth</th>\n",
              "      <th>hipbreadth</th>\n",
              "      <th>hipbreadthsitting</th>\n",
              "      <th>iliocristaleheight</th>\n",
              "      <th>interpupillarybreadth</th>\n",
              "      <th>interscyei</th>\n",
              "      <th>interscyeii</th>\n",
              "      <th>kneeheightmidpatella</th>\n",
              "      <th>kneeheightsitting</th>\n",
              "      <th>lateralfemoralepicondyleheight</th>\n",
              "      <th>lateralmalleolusheight</th>\n",
              "      <th>lowerthighcircumference</th>\n",
              "      <th>mentonsellionlength</th>\n",
              "      <th>neckcircumference</th>\n",
              "      <th>neckcircumferencebase</th>\n",
              "      <th>overheadfingertipreachsitting</th>\n",
              "      <th>palmlength</th>\n",
              "      <th>poplitealheight</th>\n",
              "      <th>radialestylionlength</th>\n",
              "      <th>shouldercircumference</th>\n",
              "      <th>shoulderelbowlength</th>\n",
              "      <th>shoulderlength</th>\n",
              "      <th>sittingheight</th>\n",
              "      <th>sleevelengthspinewrist</th>\n",
              "      <th>sleeveoutseam</th>\n",
              "      <th>span</th>\n",
              "      <th>stature</th>\n",
              "      <th>suprasternaleheight</th>\n",
              "      <th>tenthribheight</th>\n",
              "      <th>thighcircumference</th>\n",
              "      <th>thighclearance</th>\n",
              "      <th>thumbtipreach</th>\n",
              "      <th>tibialheight</th>\n",
              "      <th>tragiontopofhead</th>\n",
              "      <th>trochanterionheight</th>\n",
              "      <th>verticaltrunkcircumferenceusa</th>\n",
              "      <th>waistbacklength</th>\n",
              "      <th>waistbreadth</th>\n",
              "      <th>waistcircumference</th>\n",
              "      <th>waistdepth</th>\n",
              "      <th>waistfrontlengthsitting</th>\n",
              "      <th>waistheightomphalion</th>\n",
              "      <th>weightkg</th>\n",
              "      <th>wristcircumference</th>\n",
              "      <th>wristheight</th>\n",
              "      <th>Gender</th>\n",
              "      <th>SubjectsBirthLocation</th>\n",
              "      <th>Age</th>\n",
              "      <th>WritingPreference</th>\n",
              "    </tr>\n",
              "  </thead>\n",
              "  <tbody>\n",
              "    <tr>\n",
              "      <th>0</th>\n",
              "      <td>266</td>\n",
              "      <td>1467</td>\n",
              "      <td>337</td>\n",
              "      <td>222</td>\n",
              "      <td>1347</td>\n",
              "      <td>253</td>\n",
              "      <td>202</td>\n",
              "      <td>401</td>\n",
              "      <td>369</td>\n",
              "      <td>274</td>\n",
              "      <td>493</td>\n",
              "      <td>71</td>\n",
              "      <td>319</td>\n",
              "      <td>291</td>\n",
              "      <td>142</td>\n",
              "      <td>979</td>\n",
              "      <td>240</td>\n",
              "      <td>882</td>\n",
              "      <td>619</td>\n",
              "      <td>509</td>\n",
              "      <td>373</td>\n",
              "      <td>1535</td>\n",
              "      <td>291</td>\n",
              "      <td>1074</td>\n",
              "      <td>259</td>\n",
              "      <td>1292</td>\n",
              "      <td>877</td>\n",
              "      <td>607</td>\n",
              "      <td>351</td>\n",
              "      <td>36</td>\n",
              "      <td>71</td>\n",
              "      <td>19</td>\n",
              "      <td>247</td>\n",
              "      <td>802</td>\n",
              "      <td>101</td>\n",
              "      <td>273</td>\n",
              "      <td>349</td>\n",
              "      <td>299</td>\n",
              "      <td>575</td>\n",
              "      <td>477</td>\n",
              "      <td>1136</td>\n",
              "      <td>90</td>\n",
              "      <td>214</td>\n",
              "      <td>193</td>\n",
              "      <td>150</td>\n",
              "      <td>583</td>\n",
              "      <td>206</td>\n",
              "      <td>326</td>\n",
              "      <td>70</td>\n",
              "      <td>332</td>\n",
              "      <td>366</td>\n",
              "      <td>1071</td>\n",
              "      <td>685</td>\n",
              "      <td>422</td>\n",
              "      <td>441</td>\n",
              "      <td>502</td>\n",
              "      <td>560</td>\n",
              "      <td>500</td>\n",
              "      <td>77</td>\n",
              "      <td>391</td>\n",
              "      <td>118</td>\n",
              "      <td>400</td>\n",
              "      <td>436</td>\n",
              "      <td>1447</td>\n",
              "      <td>113</td>\n",
              "      <td>437</td>\n",
              "      <td>273</td>\n",
              "      <td>1151</td>\n",
              "      <td>368</td>\n",
              "      <td>145</td>\n",
              "      <td>928</td>\n",
              "      <td>883</td>\n",
              "      <td>600</td>\n",
              "      <td>1782</td>\n",
              "      <td>1776</td>\n",
              "      <td>1449</td>\n",
              "      <td>1092</td>\n",
              "      <td>610</td>\n",
              "      <td>164</td>\n",
              "      <td>786</td>\n",
              "      <td>491</td>\n",
              "      <td>140</td>\n",
              "      <td>919</td>\n",
              "      <td>1700</td>\n",
              "      <td>501</td>\n",
              "      <td>329</td>\n",
              "      <td>933</td>\n",
              "      <td>240</td>\n",
              "      <td>440</td>\n",
              "      <td>1054</td>\n",
              "      <td>815</td>\n",
              "      <td>175</td>\n",
              "      <td>853</td>\n",
              "      <td>Male</td>\n",
              "      <td>North Dakota</td>\n",
              "      <td>41</td>\n",
              "      <td>Right hand</td>\n",
              "    </tr>\n",
              "    <tr>\n",
              "      <th>1</th>\n",
              "      <td>233</td>\n",
              "      <td>1395</td>\n",
              "      <td>326</td>\n",
              "      <td>220</td>\n",
              "      <td>1293</td>\n",
              "      <td>245</td>\n",
              "      <td>193</td>\n",
              "      <td>394</td>\n",
              "      <td>338</td>\n",
              "      <td>257</td>\n",
              "      <td>479</td>\n",
              "      <td>67</td>\n",
              "      <td>344</td>\n",
              "      <td>320</td>\n",
              "      <td>135</td>\n",
              "      <td>944</td>\n",
              "      <td>232</td>\n",
              "      <td>870</td>\n",
              "      <td>584</td>\n",
              "      <td>468</td>\n",
              "      <td>357</td>\n",
              "      <td>1471</td>\n",
              "      <td>269</td>\n",
              "      <td>1021</td>\n",
              "      <td>253</td>\n",
              "      <td>1244</td>\n",
              "      <td>851</td>\n",
              "      <td>615</td>\n",
              "      <td>376</td>\n",
              "      <td>33</td>\n",
              "      <td>62</td>\n",
              "      <td>18</td>\n",
              "      <td>232</td>\n",
              "      <td>781</td>\n",
              "      <td>98</td>\n",
              "      <td>263</td>\n",
              "      <td>348</td>\n",
              "      <td>289</td>\n",
              "      <td>523</td>\n",
              "      <td>476</td>\n",
              "      <td>1096</td>\n",
              "      <td>86</td>\n",
              "      <td>203</td>\n",
              "      <td>195</td>\n",
              "      <td>146</td>\n",
              "      <td>568</td>\n",
              "      <td>201</td>\n",
              "      <td>334</td>\n",
              "      <td>72</td>\n",
              "      <td>312</td>\n",
              "      <td>356</td>\n",
              "      <td>1046</td>\n",
              "      <td>620</td>\n",
              "      <td>441</td>\n",
              "      <td>447</td>\n",
              "      <td>490</td>\n",
              "      <td>540</td>\n",
              "      <td>488</td>\n",
              "      <td>73</td>\n",
              "      <td>371</td>\n",
              "      <td>131</td>\n",
              "      <td>380</td>\n",
              "      <td>420</td>\n",
              "      <td>1380</td>\n",
              "      <td>118</td>\n",
              "      <td>417</td>\n",
              "      <td>254</td>\n",
              "      <td>1119</td>\n",
              "      <td>353</td>\n",
              "      <td>141</td>\n",
              "      <td>884</td>\n",
              "      <td>868</td>\n",
              "      <td>564</td>\n",
              "      <td>1745</td>\n",
              "      <td>1702</td>\n",
              "      <td>1387</td>\n",
              "      <td>1076</td>\n",
              "      <td>572</td>\n",
              "      <td>169</td>\n",
              "      <td>822</td>\n",
              "      <td>476</td>\n",
              "      <td>120</td>\n",
              "      <td>918</td>\n",
              "      <td>1627</td>\n",
              "      <td>432</td>\n",
              "      <td>316</td>\n",
              "      <td>870</td>\n",
              "      <td>225</td>\n",
              "      <td>371</td>\n",
              "      <td>1054</td>\n",
              "      <td>726</td>\n",
              "      <td>167</td>\n",
              "      <td>815</td>\n",
              "      <td>Male</td>\n",
              "      <td>New York</td>\n",
              "      <td>35</td>\n",
              "      <td>Left hand</td>\n",
              "    </tr>\n",
              "    <tr>\n",
              "      <th>2</th>\n",
              "      <td>287</td>\n",
              "      <td>1430</td>\n",
              "      <td>341</td>\n",
              "      <td>230</td>\n",
              "      <td>1327</td>\n",
              "      <td>256</td>\n",
              "      <td>196</td>\n",
              "      <td>427</td>\n",
              "      <td>408</td>\n",
              "      <td>261</td>\n",
              "      <td>544</td>\n",
              "      <td>75</td>\n",
              "      <td>345</td>\n",
              "      <td>330</td>\n",
              "      <td>135</td>\n",
              "      <td>1054</td>\n",
              "      <td>258</td>\n",
              "      <td>901</td>\n",
              "      <td>623</td>\n",
              "      <td>506</td>\n",
              "      <td>412</td>\n",
              "      <td>1501</td>\n",
              "      <td>288</td>\n",
              "      <td>1120</td>\n",
              "      <td>267</td>\n",
              "      <td>1288</td>\n",
              "      <td>854</td>\n",
              "      <td>636</td>\n",
              "      <td>359</td>\n",
              "      <td>40</td>\n",
              "      <td>61</td>\n",
              "      <td>23</td>\n",
              "      <td>237</td>\n",
              "      <td>810</td>\n",
              "      <td>103</td>\n",
              "      <td>270</td>\n",
              "      <td>355</td>\n",
              "      <td>357</td>\n",
              "      <td>575</td>\n",
              "      <td>491</td>\n",
              "      <td>1115</td>\n",
              "      <td>93</td>\n",
              "      <td>220</td>\n",
              "      <td>203</td>\n",
              "      <td>148</td>\n",
              "      <td>573</td>\n",
              "      <td>202</td>\n",
              "      <td>356</td>\n",
              "      <td>70</td>\n",
              "      <td>349</td>\n",
              "      <td>393</td>\n",
              "      <td>1053</td>\n",
              "      <td>665</td>\n",
              "      <td>462</td>\n",
              "      <td>475</td>\n",
              "      <td>496</td>\n",
              "      <td>556</td>\n",
              "      <td>482</td>\n",
              "      <td>72</td>\n",
              "      <td>409</td>\n",
              "      <td>123</td>\n",
              "      <td>403</td>\n",
              "      <td>434</td>\n",
              "      <td>1447</td>\n",
              "      <td>121</td>\n",
              "      <td>431</td>\n",
              "      <td>268</td>\n",
              "      <td>1276</td>\n",
              "      <td>367</td>\n",
              "      <td>167</td>\n",
              "      <td>917</td>\n",
              "      <td>910</td>\n",
              "      <td>604</td>\n",
              "      <td>1867</td>\n",
              "      <td>1735</td>\n",
              "      <td>1438</td>\n",
              "      <td>1105</td>\n",
              "      <td>685</td>\n",
              "      <td>198</td>\n",
              "      <td>807</td>\n",
              "      <td>477</td>\n",
              "      <td>125</td>\n",
              "      <td>918</td>\n",
              "      <td>1678</td>\n",
              "      <td>472</td>\n",
              "      <td>329</td>\n",
              "      <td>964</td>\n",
              "      <td>255</td>\n",
              "      <td>411</td>\n",
              "      <td>1041</td>\n",
              "      <td>929</td>\n",
              "      <td>180</td>\n",
              "      <td>831</td>\n",
              "      <td>Male</td>\n",
              "      <td>New York</td>\n",
              "      <td>42</td>\n",
              "      <td>Left hand</td>\n",
              "    </tr>\n",
              "    <tr>\n",
              "      <th>3</th>\n",
              "      <td>234</td>\n",
              "      <td>1347</td>\n",
              "      <td>310</td>\n",
              "      <td>230</td>\n",
              "      <td>1239</td>\n",
              "      <td>262</td>\n",
              "      <td>199</td>\n",
              "      <td>401</td>\n",
              "      <td>359</td>\n",
              "      <td>262</td>\n",
              "      <td>518</td>\n",
              "      <td>73</td>\n",
              "      <td>328</td>\n",
              "      <td>309</td>\n",
              "      <td>143</td>\n",
              "      <td>991</td>\n",
              "      <td>242</td>\n",
              "      <td>821</td>\n",
              "      <td>560</td>\n",
              "      <td>437</td>\n",
              "      <td>395</td>\n",
              "      <td>1423</td>\n",
              "      <td>296</td>\n",
              "      <td>1114</td>\n",
              "      <td>262</td>\n",
              "      <td>1205</td>\n",
              "      <td>769</td>\n",
              "      <td>590</td>\n",
              "      <td>341</td>\n",
              "      <td>39</td>\n",
              "      <td>66</td>\n",
              "      <td>25</td>\n",
              "      <td>272</td>\n",
              "      <td>794</td>\n",
              "      <td>106</td>\n",
              "      <td>267</td>\n",
              "      <td>352</td>\n",
              "      <td>318</td>\n",
              "      <td>593</td>\n",
              "      <td>467</td>\n",
              "      <td>1034</td>\n",
              "      <td>91</td>\n",
              "      <td>217</td>\n",
              "      <td>194</td>\n",
              "      <td>158</td>\n",
              "      <td>576</td>\n",
              "      <td>199</td>\n",
              "      <td>341</td>\n",
              "      <td>68</td>\n",
              "      <td>338</td>\n",
              "      <td>367</td>\n",
              "      <td>986</td>\n",
              "      <td>640</td>\n",
              "      <td>458</td>\n",
              "      <td>461</td>\n",
              "      <td>460</td>\n",
              "      <td>511</td>\n",
              "      <td>452</td>\n",
              "      <td>76</td>\n",
              "      <td>393</td>\n",
              "      <td>106</td>\n",
              "      <td>407</td>\n",
              "      <td>446</td>\n",
              "      <td>1357</td>\n",
              "      <td>118</td>\n",
              "      <td>393</td>\n",
              "      <td>249</td>\n",
              "      <td>1155</td>\n",
              "      <td>330</td>\n",
              "      <td>148</td>\n",
              "      <td>903</td>\n",
              "      <td>848</td>\n",
              "      <td>550</td>\n",
              "      <td>1708</td>\n",
              "      <td>1655</td>\n",
              "      <td>1346</td>\n",
              "      <td>1021</td>\n",
              "      <td>604</td>\n",
              "      <td>180</td>\n",
              "      <td>803</td>\n",
              "      <td>445</td>\n",
              "      <td>127</td>\n",
              "      <td>847</td>\n",
              "      <td>1625</td>\n",
              "      <td>461</td>\n",
              "      <td>315</td>\n",
              "      <td>857</td>\n",
              "      <td>205</td>\n",
              "      <td>399</td>\n",
              "      <td>968</td>\n",
              "      <td>794</td>\n",
              "      <td>176</td>\n",
              "      <td>793</td>\n",
              "      <td>Male</td>\n",
              "      <td>Wisconsin</td>\n",
              "      <td>31</td>\n",
              "      <td>Right hand</td>\n",
              "    </tr>\n",
              "    <tr>\n",
              "      <th>4</th>\n",
              "      <td>250</td>\n",
              "      <td>1585</td>\n",
              "      <td>372</td>\n",
              "      <td>247</td>\n",
              "      <td>1478</td>\n",
              "      <td>267</td>\n",
              "      <td>224</td>\n",
              "      <td>435</td>\n",
              "      <td>356</td>\n",
              "      <td>263</td>\n",
              "      <td>524</td>\n",
              "      <td>80</td>\n",
              "      <td>340</td>\n",
              "      <td>310</td>\n",
              "      <td>138</td>\n",
              "      <td>1029</td>\n",
              "      <td>275</td>\n",
              "      <td>1080</td>\n",
              "      <td>706</td>\n",
              "      <td>567</td>\n",
              "      <td>425</td>\n",
              "      <td>1684</td>\n",
              "      <td>304</td>\n",
              "      <td>1048</td>\n",
              "      <td>232</td>\n",
              "      <td>1452</td>\n",
              "      <td>1014</td>\n",
              "      <td>682</td>\n",
              "      <td>382</td>\n",
              "      <td>32</td>\n",
              "      <td>56</td>\n",
              "      <td>19</td>\n",
              "      <td>188</td>\n",
              "      <td>814</td>\n",
              "      <td>111</td>\n",
              "      <td>305</td>\n",
              "      <td>399</td>\n",
              "      <td>324</td>\n",
              "      <td>605</td>\n",
              "      <td>550</td>\n",
              "      <td>1279</td>\n",
              "      <td>94</td>\n",
              "      <td>222</td>\n",
              "      <td>218</td>\n",
              "      <td>153</td>\n",
              "      <td>566</td>\n",
              "      <td>197</td>\n",
              "      <td>374</td>\n",
              "      <td>69</td>\n",
              "      <td>332</td>\n",
              "      <td>372</td>\n",
              "      <td>1251</td>\n",
              "      <td>675</td>\n",
              "      <td>481</td>\n",
              "      <td>505</td>\n",
              "      <td>612</td>\n",
              "      <td>666</td>\n",
              "      <td>585</td>\n",
              "      <td>85</td>\n",
              "      <td>458</td>\n",
              "      <td>135</td>\n",
              "      <td>398</td>\n",
              "      <td>430</td>\n",
              "      <td>1572</td>\n",
              "      <td>132</td>\n",
              "      <td>523</td>\n",
              "      <td>302</td>\n",
              "      <td>1231</td>\n",
              "      <td>400</td>\n",
              "      <td>180</td>\n",
              "      <td>919</td>\n",
              "      <td>995</td>\n",
              "      <td>641</td>\n",
              "      <td>2035</td>\n",
              "      <td>1914</td>\n",
              "      <td>1596</td>\n",
              "      <td>1292</td>\n",
              "      <td>672</td>\n",
              "      <td>194</td>\n",
              "      <td>962</td>\n",
              "      <td>584</td>\n",
              "      <td>122</td>\n",
              "      <td>1090</td>\n",
              "      <td>1679</td>\n",
              "      <td>467</td>\n",
              "      <td>303</td>\n",
              "      <td>868</td>\n",
              "      <td>214</td>\n",
              "      <td>379</td>\n",
              "      <td>1245</td>\n",
              "      <td>946</td>\n",
              "      <td>188</td>\n",
              "      <td>954</td>\n",
              "      <td>Male</td>\n",
              "      <td>North Carolina</td>\n",
              "      <td>21</td>\n",
              "      <td>Right hand</td>\n",
              "    </tr>\n",
              "  </tbody>\n",
              "</table>\n",
              "</div>\n",
              "      <button class=\"colab-df-convert\" onclick=\"convertToInteractive('df-20d402e5-b5a6-4636-bb4f-a24078649094')\"\n",
              "              title=\"Convert this dataframe to an interactive table.\"\n",
              "              style=\"display:none;\">\n",
              "        \n",
              "  <svg xmlns=\"http://www.w3.org/2000/svg\" height=\"24px\"viewBox=\"0 0 24 24\"\n",
              "       width=\"24px\">\n",
              "    <path d=\"M0 0h24v24H0V0z\" fill=\"none\"/>\n",
              "    <path d=\"M18.56 5.44l.94 2.06.94-2.06 2.06-.94-2.06-.94-.94-2.06-.94 2.06-2.06.94zm-11 1L8.5 8.5l.94-2.06 2.06-.94-2.06-.94L8.5 2.5l-.94 2.06-2.06.94zm10 10l.94 2.06.94-2.06 2.06-.94-2.06-.94-.94-2.06-.94 2.06-2.06.94z\"/><path d=\"M17.41 7.96l-1.37-1.37c-.4-.4-.92-.59-1.43-.59-.52 0-1.04.2-1.43.59L10.3 9.45l-7.72 7.72c-.78.78-.78 2.05 0 2.83L4 21.41c.39.39.9.59 1.41.59.51 0 1.02-.2 1.41-.59l7.78-7.78 2.81-2.81c.8-.78.8-2.07 0-2.86zM5.41 20L4 18.59l7.72-7.72 1.47 1.35L5.41 20z\"/>\n",
              "  </svg>\n",
              "      </button>\n",
              "      \n",
              "  <style>\n",
              "    .colab-df-container {\n",
              "      display:flex;\n",
              "      flex-wrap:wrap;\n",
              "      gap: 12px;\n",
              "    }\n",
              "\n",
              "    .colab-df-convert {\n",
              "      background-color: #E8F0FE;\n",
              "      border: none;\n",
              "      border-radius: 50%;\n",
              "      cursor: pointer;\n",
              "      display: none;\n",
              "      fill: #1967D2;\n",
              "      height: 32px;\n",
              "      padding: 0 0 0 0;\n",
              "      width: 32px;\n",
              "    }\n",
              "\n",
              "    .colab-df-convert:hover {\n",
              "      background-color: #E2EBFA;\n",
              "      box-shadow: 0px 1px 2px rgba(60, 64, 67, 0.3), 0px 1px 3px 1px rgba(60, 64, 67, 0.15);\n",
              "      fill: #174EA6;\n",
              "    }\n",
              "\n",
              "    [theme=dark] .colab-df-convert {\n",
              "      background-color: #3B4455;\n",
              "      fill: #D2E3FC;\n",
              "    }\n",
              "\n",
              "    [theme=dark] .colab-df-convert:hover {\n",
              "      background-color: #434B5C;\n",
              "      box-shadow: 0px 1px 3px 1px rgba(0, 0, 0, 0.15);\n",
              "      filter: drop-shadow(0px 1px 2px rgba(0, 0, 0, 0.3));\n",
              "      fill: #FFFFFF;\n",
              "    }\n",
              "  </style>\n",
              "\n",
              "      <script>\n",
              "        const buttonEl =\n",
              "          document.querySelector('#df-20d402e5-b5a6-4636-bb4f-a24078649094 button.colab-df-convert');\n",
              "        buttonEl.style.display =\n",
              "          google.colab.kernel.accessAllowed ? 'block' : 'none';\n",
              "\n",
              "        async function convertToInteractive(key) {\n",
              "          const element = document.querySelector('#df-20d402e5-b5a6-4636-bb4f-a24078649094');\n",
              "          const dataTable =\n",
              "            await google.colab.kernel.invokeFunction('convertToInteractive',\n",
              "                                                     [key], {});\n",
              "          if (!dataTable) return;\n",
              "\n",
              "          const docLinkHtml = 'Like what you see? Visit the ' +\n",
              "            '<a target=\"_blank\" href=https://colab.research.google.com/notebooks/data_table.ipynb>data table notebook</a>'\n",
              "            + ' to learn more about interactive tables.';\n",
              "          element.innerHTML = '';\n",
              "          dataTable['output_type'] = 'display_data';\n",
              "          await google.colab.output.renderOutput(dataTable, element);\n",
              "          const docLink = document.createElement('div');\n",
              "          docLink.innerHTML = docLinkHtml;\n",
              "          element.appendChild(docLink);\n",
              "        }\n",
              "      </script>\n",
              "    </div>\n",
              "  </div>\n",
              "  "
            ]
          },
          "metadata": {},
          "execution_count": 38
        }
      ],
      "source": [
        "X.head()"
      ]
    },
    {
      "cell_type": "code",
      "execution_count": 39,
      "metadata": {
        "id": "JOJwwWIp-QQE",
        "outputId": "d94910be-e086-4893-abf3-4ca1c62757ad",
        "colab": {
          "base_uri": "https://localhost:8080/"
        }
      },
      "outputs": [
        {
          "output_type": "execute_result",
          "data": {
            "text/plain": [
              "White       0.657306\n",
              "Black       0.224996\n",
              "Hispanic    0.117698\n",
              "Name: DODRace, dtype: float64"
            ]
          },
          "metadata": {},
          "execution_count": 39
        }
      ],
      "source": [
        "y.value_counts(normalize=True)"
      ]
    },
    {
      "cell_type": "code",
      "execution_count": 40,
      "metadata": {
        "ExecuteTime": {
          "end_time": "2022-09-08T22:58:21.306841Z",
          "start_time": "2022-09-08T22:58:21.289598Z"
        },
        "id": "gLDf_l6X-QQE",
        "outputId": "f2411e6a-6718-43a8-9729-b2db2898524d",
        "colab": {
          "base_uri": "https://localhost:8080/"
        }
      },
      "outputs": [
        {
          "output_type": "execute_result",
          "data": {
            "text/plain": [
              "Index(['Gender', 'SubjectsBirthLocation', 'WritingPreference'], dtype='object')"
            ]
          },
          "metadata": {},
          "execution_count": 40
        }
      ],
      "source": [
        "cat = X.select_dtypes(\"object\").columns\n",
        "cat "
      ]
    },
    {
      "cell_type": "code",
      "execution_count": 41,
      "metadata": {
        "ExecuteTime": {
          "end_time": "2022-09-08T22:59:02.165255Z",
          "start_time": "2022-09-08T22:59:02.143292Z"
        },
        "id": "eKvQ7iok004J"
      },
      "outputs": [],
      "source": [
        "X_train, X_test, y_train, y_test = train_test_split(X, y, test_size=0.2, random_state=101, stratify = y)"
      ]
    },
    {
      "cell_type": "code",
      "execution_count": 42,
      "metadata": {
        "ExecuteTime": {
          "end_time": "2022-09-08T22:59:05.380163Z",
          "start_time": "2022-09-08T22:59:05.368190Z"
        },
        "id": "RS_V0rex-QQE",
        "outputId": "10c13e3b-e50e-4d00-e18c-d1638aa39861",
        "colab": {
          "base_uri": "https://localhost:8080/"
        }
      },
      "outputs": [
        {
          "output_type": "stream",
          "name": "stdout",
          "text": [
            "Train features shape :  (4615, 97)\n",
            "Train target shape   :  (4615,)\n",
            "Test features shape  :  (1154, 97)\n",
            "Test target shape    :  (1154,)\n"
          ]
        }
      ],
      "source": [
        "print(\"Train features shape : \", X_train.shape)\n",
        "print(\"Train target shape   : \", y_train.shape)\n",
        "print(\"Test features shape  : \", X_test.shape)\n",
        "print(\"Test target shape    : \", y_test.shape)"
      ]
    },
    {
      "cell_type": "code",
      "execution_count": 43,
      "metadata": {
        "id": "0xA771r8-QQF",
        "outputId": "fd73c271-6804-4e73-ad66-43d0324ac39e",
        "colab": {
          "base_uri": "https://localhost:8080/"
        }
      },
      "outputs": [
        {
          "output_type": "execute_result",
          "data": {
            "text/plain": [
              "White       0.657421\n",
              "Black       0.224919\n",
              "Hispanic    0.117660\n",
              "Name: DODRace, dtype: float64"
            ]
          },
          "metadata": {},
          "execution_count": 43
        }
      ],
      "source": [
        "y_train.value_counts(normalize=True)"
      ]
    },
    {
      "cell_type": "code",
      "execution_count": 44,
      "metadata": {
        "id": "dGvHENk1-QQF",
        "outputId": "1171ae45-c2f3-42e3-9c4c-f772cab4aaa8",
        "colab": {
          "base_uri": "https://localhost:8080/"
        }
      },
      "outputs": [
        {
          "output_type": "execute_result",
          "data": {
            "text/plain": [
              "White       0.656846\n",
              "Black       0.225303\n",
              "Hispanic    0.117851\n",
              "Name: DODRace, dtype: float64"
            ]
          },
          "metadata": {},
          "execution_count": 44
        }
      ],
      "source": [
        "y_test.value_counts(normalize=True)"
      ]
    },
    {
      "cell_type": "code",
      "execution_count": 45,
      "metadata": {
        "id": "f9blQAxV-QQF"
      },
      "outputs": [],
      "source": [
        "from sklearn.compose import make_column_transformer\n",
        "from sklearn.preprocessing import OneHotEncoder, MinMaxScaler, StandardScaler\n",
        "\n",
        "column_trans = make_column_transformer((OneHotEncoder(handle_unknown=\"ignore\", sparse=False), cat), \n",
        "                                       remainder=MinMaxScaler())"
      ]
    },
    {
      "cell_type": "markdown",
      "metadata": {
        "id": "lWpWs0nb-QQF"
      },
      "source": [
        "**User Defined Functions**"
      ]
    },
    {
      "cell_type": "code",
      "execution_count": 46,
      "metadata": {
        "id": "YeLajeOt-QQF"
      },
      "outputs": [],
      "source": [
        "def eval_metric(model, X_train, y_train, X_test, y_test):\n",
        "    y_train_pred = model.predict(X_train)\n",
        "    y_pred = model.predict(X_test)\n",
        "    \n",
        "    print(\"Test_Set\")\n",
        "    print(confusion_matrix(y_test, y_pred))\n",
        "    print(classification_report(y_test, y_pred))\n",
        "    print()\n",
        "    print(\"Train_Set\")\n",
        "    print(confusion_matrix(y_train, y_train_pred))\n",
        "    print(classification_report(y_train, y_train_pred))"
      ]
    },
    {
      "cell_type": "markdown",
      "metadata": {
        "id": "zfi_NOw0s2fM"
      },
      "source": [
        "# <p style=\"background-color:#1874CD; font-family:newtimeroman; color:#FFF9ED; font-size:130%; text-align:center; border-radius:10px 10px;\"> Modelling and Model Performance</p>\n",
        "<a id=\"4\"></a>\n",
        "<a href=\"#74\" class=\"btn btn-primary btn-sm\" role=\"button\" aria-pressed=\"true\" \n",
        "style=\"color:blue; background-color:#dfa8e4\" data-toggle=\"popover\">Table of Contents</a>"
      ]
    },
    {
      "cell_type": "markdown",
      "metadata": {
        "id": "OBp1AR8T-QQG"
      },
      "source": [
        "##  Logistic Regression"
      ]
    },
    {
      "cell_type": "markdown",
      "metadata": {
        "heading_collapsed": true,
        "id": "elf59N_o-QQG"
      },
      "source": [
        "**Vanilla Logistic Model**"
      ]
    },
    {
      "cell_type": "code",
      "execution_count": 47,
      "metadata": {
        "ExecuteTime": {
          "end_time": "2022-09-08T23:02:41.283075Z",
          "start_time": "2022-09-08T23:02:41.266174Z"
        },
        "id": "xVa5h3kI-QQG"
      },
      "outputs": [],
      "source": [
        "log_model=LogisticRegression(class_weight='balanced',max_iter=10000,random_state=101)"
      ]
    },
    {
      "cell_type": "code",
      "execution_count": 48,
      "metadata": {
        "ExecuteTime": {
          "end_time": "2022-09-08T23:03:53.556153Z",
          "start_time": "2022-09-08T23:03:53.538601Z"
        },
        "id": "oYUdAgTG-QQG"
      },
      "outputs": [],
      "source": [
        "from sklearn.pipeline import Pipeline\n",
        "operations = [(\"OneHotEncoder\", column_trans), (\"log\",log_model)]\n",
        "pipe_log_model = Pipeline(steps=operations)"
      ]
    },
    {
      "cell_type": "code",
      "execution_count": 49,
      "metadata": {
        "ExecuteTime": {
          "end_time": "2022-09-08T23:04:13.909892Z",
          "start_time": "2022-09-08T23:04:12.392317Z"
        },
        "id": "HJetQ7Yg-QQG",
        "outputId": "41f88a43-940f-4cc5-dba6-4168f69e590b",
        "colab": {
          "base_uri": "https://localhost:8080/"
        }
      },
      "outputs": [
        {
          "output_type": "execute_result",
          "data": {
            "text/plain": [
              "Pipeline(steps=[('OneHotEncoder',\n",
              "                 ColumnTransformer(remainder=MinMaxScaler(),\n",
              "                                   transformers=[('onehotencoder',\n",
              "                                                  OneHotEncoder(handle_unknown='ignore',\n",
              "                                                                sparse=False),\n",
              "                                                  Index(['Gender', 'SubjectsBirthLocation', 'WritingPreference'], dtype='object'))])),\n",
              "                ('log',\n",
              "                 LogisticRegression(class_weight='balanced', max_iter=10000,\n",
              "                                    random_state=101))])"
            ]
          },
          "metadata": {},
          "execution_count": 49
        }
      ],
      "source": [
        "pipe_log_model.fit(X_train,y_train)"
      ]
    },
    {
      "cell_type": "code",
      "execution_count": 50,
      "metadata": {
        "id": "KeTYN6F8-QQG",
        "outputId": "b1977b81-a059-4cd1-ffb9-445a6b7d8684",
        "colab": {
          "base_uri": "https://localhost:8080/"
        }
      },
      "outputs": [
        {
          "output_type": "stream",
          "name": "stdout",
          "text": [
            "Test_Set\n",
            "[[239  14   7]\n",
            " [  5 111  20]\n",
            " [ 25  89 644]]\n",
            "              precision    recall  f1-score   support\n",
            "\n",
            "       Black       0.89      0.92      0.90       260\n",
            "    Hispanic       0.52      0.82      0.63       136\n",
            "       White       0.96      0.85      0.90       758\n",
            "\n",
            "    accuracy                           0.86      1154\n",
            "   macro avg       0.79      0.86      0.81      1154\n",
            "weighted avg       0.89      0.86      0.87      1154\n",
            "\n",
            "\n",
            "Train_Set\n",
            "[[ 971   37   30]\n",
            " [  20  456   67]\n",
            " [  56  363 2615]]\n",
            "              precision    recall  f1-score   support\n",
            "\n",
            "       Black       0.93      0.94      0.93      1038\n",
            "    Hispanic       0.53      0.84      0.65       543\n",
            "       White       0.96      0.86      0.91      3034\n",
            "\n",
            "    accuracy                           0.88      4615\n",
            "   macro avg       0.81      0.88      0.83      4615\n",
            "weighted avg       0.91      0.88      0.88      4615\n",
            "\n"
          ]
        }
      ],
      "source": [
        "eval_metric(pipe_log_model, X_train, y_train, X_test, y_test)"
      ]
    },
    {
      "cell_type": "code",
      "execution_count": 51,
      "metadata": {
        "ExecuteTime": {
          "end_time": "2022-09-08T23:21:05.759115Z",
          "start_time": "2022-09-08T23:21:05.743136Z"
        },
        "id": "4b6hmPbq-QQH"
      },
      "outputs": [],
      "source": [
        "scoring = {\"f1_Hispanic\" : make_scorer(f1_score, average = None, labels =[\"Hispanic\"]),\n",
        "           \"precision_Hispanic\" : make_scorer(precision_score, average = None, labels =[\"Hispanic\"]),\n",
        "           \"recall_Hispanic\" : make_scorer(recall_score, average = None, labels =[\"Hispanic\"])}"
      ]
    },
    {
      "cell_type": "code",
      "execution_count": 52,
      "metadata": {
        "ExecuteTime": {
          "end_time": "2022-09-08T23:21:21.178876Z",
          "start_time": "2022-09-08T23:21:07.880767Z"
        },
        "id": "-t_pKxyc-QQH",
        "outputId": "7f8ed9c5-094b-4f71-b53e-204c07daaedb",
        "colab": {
          "base_uri": "https://localhost:8080/"
        }
      },
      "outputs": [
        {
          "output_type": "execute_result",
          "data": {
            "text/plain": [
              "test_f1_Hispanic           0.599420\n",
              "test_precision_Hispanic    0.490303\n",
              "test_recall_Hispanic       0.773333\n",
              "dtype: float64"
            ]
          },
          "metadata": {},
          "execution_count": 52
        }
      ],
      "source": [
        "operations = [(\"OneHotEncoder\", column_trans), (\"log\",log_model)]\n",
        "\n",
        "model = Pipeline(steps=operations)\n",
        "# we make cross validation with respect to scores of \"Hispanic\" \n",
        "scores = cross_validate(model, X_train, y_train, scoring = scoring, cv = 10)\n",
        "df_scores = pd.DataFrame(scores, index = range(1, 11))\n",
        "df_scores.mean()[2:]"
      ]
    },
    {
      "cell_type": "markdown",
      "metadata": {
        "heading_collapsed": true,
        "id": "HZ3Bsze6-QQH"
      },
      "source": [
        "**Logistic Regression GridsearchCV**"
      ]
    },
    {
      "cell_type": "code",
      "execution_count": 53,
      "metadata": {
        "ExecuteTime": {
          "end_time": "2022-09-08T23:22:17.020008Z",
          "start_time": "2022-09-08T23:22:17.001676Z"
        },
        "hidden": true,
        "id": "rlgxngYb-QQH"
      },
      "outputs": [],
      "source": [
        "# Our data is unbalanced. Thus, recall score is important for\n",
        "# We want to increase the socre of \"Hispanic\" class \n",
        "# Thus, we make grid search with respect to the recall score of \"Hispanic\" class. \n",
        "recall_Hispanic =  make_scorer(recall_score, average=None, labels=[\"Hispanic\"])"
      ]
    },
    {
      "cell_type": "code",
      "execution_count": 54,
      "metadata": {
        "ExecuteTime": {
          "end_time": "2022-09-08T23:25:01.483234Z",
          "start_time": "2022-09-08T23:25:01.471931Z"
        },
        "cell_style": "split",
        "hidden": true,
        "id": "R7naxQE_-QQH"
      },
      "outputs": [],
      "source": [
        "param_grid = {\n",
        "    \"log__C\": [1, 5, 10],\n",
        "    'log__penalty': [\"l1\", \"l2\"],\n",
        "    'log__solver': ['liblinear', 'lbfgs'],\n",
        "}"
      ]
    },
    {
      "cell_type": "code",
      "execution_count": 55,
      "metadata": {
        "ExecuteTime": {
          "end_time": "2022-09-08T23:26:35.893607Z",
          "start_time": "2022-09-08T23:26:35.882765Z"
        },
        "id": "tml2sX3J-QQI"
      },
      "outputs": [],
      "source": [
        "log_model=LogisticRegression(class_weight='balanced',max_iter=10000, random_state=101)"
      ]
    },
    {
      "cell_type": "code",
      "execution_count": 56,
      "metadata": {
        "ExecuteTime": {
          "end_time": "2022-09-08T23:27:40.571624Z",
          "start_time": "2022-09-08T23:27:40.555161Z"
        },
        "cell_style": "split",
        "hidden": true,
        "id": "T91gRxvH-QQI"
      },
      "outputs": [],
      "source": [
        "operations = [(\"OneHotEncoder\", column_trans), (\"log\", log_model)]\n",
        "\n",
        "model =Pipeline(steps=operations)\n",
        "\n",
        "log_model_grid = GridSearchCV(model,\n",
        "                              param_grid,\n",
        "                              verbose=3,\n",
        "                              scoring=recall_Hispanic,\n",
        "                              n_jobs=-1, cv=5)"
      ]
    },
    {
      "cell_type": "code",
      "execution_count": 57,
      "metadata": {
        "ExecuteTime": {
          "end_time": "2022-09-08T23:31:06.882678Z",
          "start_time": "2022-09-08T23:27:49.519050Z"
        },
        "hidden": true,
        "id": "N86C1ofV-QQI",
        "outputId": "c008f9c3-f862-49ed-c2e3-93350114d419",
        "colab": {
          "base_uri": "https://localhost:8080/"
        }
      },
      "outputs": [
        {
          "output_type": "stream",
          "name": "stdout",
          "text": [
            "Fitting 5 folds for each of 12 candidates, totalling 60 fits\n"
          ]
        },
        {
          "output_type": "execute_result",
          "data": {
            "text/plain": [
              "GridSearchCV(cv=5,\n",
              "             estimator=Pipeline(steps=[('OneHotEncoder',\n",
              "                                        ColumnTransformer(remainder=MinMaxScaler(),\n",
              "                                                          transformers=[('onehotencoder',\n",
              "                                                                         OneHotEncoder(handle_unknown='ignore',\n",
              "                                                                                       sparse=False),\n",
              "                                                                         Index(['Gender', 'SubjectsBirthLocation', 'WritingPreference'], dtype='object'))])),\n",
              "                                       ('log',\n",
              "                                        LogisticRegression(class_weight='balanced',\n",
              "                                                           max_iter=10000,\n",
              "                                                           random_state=101))]),\n",
              "             n_jobs=-1,\n",
              "             param_grid={'log__C': [1, 5, 10], 'log__penalty': ['l1', 'l2'],\n",
              "                         'log__solver': ['liblinear', 'lbfgs']},\n",
              "             scoring=make_scorer(recall_score, average=None, labels=['Hispanic']),\n",
              "             verbose=3)"
            ]
          },
          "metadata": {},
          "execution_count": 57
        }
      ],
      "source": [
        "log_model_grid.fit(X_train,y_train)"
      ]
    },
    {
      "cell_type": "code",
      "execution_count": 58,
      "metadata": {
        "ExecuteTime": {
          "end_time": "2022-09-08T23:34:27.385830Z",
          "start_time": "2022-09-08T23:34:27.366432Z"
        },
        "id": "QdV9XJuN-QQI",
        "outputId": "a75d718c-6489-455d-b4c6-21b78b8b6d16",
        "colab": {
          "base_uri": "https://localhost:8080/"
        }
      },
      "outputs": [
        {
          "output_type": "execute_result",
          "data": {
            "text/plain": [
              "Pipeline(steps=[('OneHotEncoder',\n",
              "                 ColumnTransformer(remainder=MinMaxScaler(),\n",
              "                                   transformers=[('onehotencoder',\n",
              "                                                  OneHotEncoder(handle_unknown='ignore',\n",
              "                                                                sparse=False),\n",
              "                                                  Index(['Gender', 'SubjectsBirthLocation', 'WritingPreference'], dtype='object'))])),\n",
              "                ('log',\n",
              "                 LogisticRegression(C=1, class_weight='balanced',\n",
              "                                    max_iter=10000, random_state=101))])"
            ]
          },
          "metadata": {},
          "execution_count": 58
        }
      ],
      "source": [
        "log_model_grid.best_estimator_"
      ]
    },
    {
      "cell_type": "code",
      "execution_count": 59,
      "metadata": {
        "ExecuteTime": {
          "end_time": "2022-09-08T23:32:59.578156Z",
          "start_time": "2022-09-08T23:32:59.564837Z"
        },
        "hidden": true,
        "id": "Zpz2KnUf-QQI",
        "outputId": "b21b103d-a48a-4a2f-a296-878b9a610e25",
        "colab": {
          "base_uri": "https://localhost:8080/"
        }
      },
      "outputs": [
        {
          "output_type": "execute_result",
          "data": {
            "text/plain": [
              "{'log__C': 1, 'log__penalty': 'l2', 'log__solver': 'lbfgs'}"
            ]
          },
          "metadata": {},
          "execution_count": 59
        }
      ],
      "source": [
        "log_model_grid.best_params_"
      ]
    },
    {
      "cell_type": "code",
      "execution_count": 60,
      "metadata": {
        "ExecuteTime": {
          "end_time": "2022-09-08T23:33:07.709767Z",
          "start_time": "2022-09-08T23:33:07.694279Z"
        },
        "id": "O92UrUad-QQJ",
        "outputId": "419a3587-2d4d-4238-8ed3-7a2c318795c1",
        "colab": {
          "base_uri": "https://localhost:8080/"
        }
      },
      "outputs": [
        {
          "output_type": "execute_result",
          "data": {
            "text/plain": [
              "0.7716106014271152"
            ]
          },
          "metadata": {},
          "execution_count": 60
        }
      ],
      "source": [
        "log_model_grid.best_score_"
      ]
    },
    {
      "cell_type": "code",
      "execution_count": 61,
      "metadata": {
        "ExecuteTime": {
          "end_time": "2022-09-08T23:33:20.767794Z",
          "start_time": "2022-09-08T23:33:20.584944Z"
        },
        "scrolled": false,
        "id": "F1u6JuiT-QQJ",
        "outputId": "b8b454f1-2dfb-493d-b755-2742fc71fab5",
        "colab": {
          "base_uri": "https://localhost:8080/"
        }
      },
      "outputs": [
        {
          "output_type": "stream",
          "name": "stdout",
          "text": [
            "Test_Set\n",
            "[[239  14   7]\n",
            " [  5 111  20]\n",
            " [ 25  89 644]]\n",
            "              precision    recall  f1-score   support\n",
            "\n",
            "       Black       0.89      0.92      0.90       260\n",
            "    Hispanic       0.52      0.82      0.63       136\n",
            "       White       0.96      0.85      0.90       758\n",
            "\n",
            "    accuracy                           0.86      1154\n",
            "   macro avg       0.79      0.86      0.81      1154\n",
            "weighted avg       0.89      0.86      0.87      1154\n",
            "\n",
            "\n",
            "Train_Set\n",
            "[[ 971   37   30]\n",
            " [  20  456   67]\n",
            " [  56  363 2615]]\n",
            "              precision    recall  f1-score   support\n",
            "\n",
            "       Black       0.93      0.94      0.93      1038\n",
            "    Hispanic       0.53      0.84      0.65       543\n",
            "       White       0.96      0.86      0.91      3034\n",
            "\n",
            "    accuracy                           0.88      4615\n",
            "   macro avg       0.81      0.88      0.83      4615\n",
            "weighted avg       0.91      0.88      0.88      4615\n",
            "\n"
          ]
        }
      ],
      "source": [
        "eval_metric(log_model_grid, X_train, y_train, X_test, y_test)"
      ]
    },
    {
      "cell_type": "code",
      "execution_count": 62,
      "metadata": {
        "ExecuteTime": {
          "end_time": "2022-09-08T23:35:19.861700Z",
          "start_time": "2022-09-08T23:35:18.803351Z"
        },
        "id": "7sf8f1bd-QQJ",
        "outputId": "0d3b6346-635d-45fc-b7c7-29662245ffe8",
        "colab": {
          "base_uri": "https://localhost:8080/",
          "height": 376
        }
      },
      "outputs": [
        {
          "output_type": "display_data",
          "data": {
            "text/plain": [
              "<Figure size 576x396 with 1 Axes>"
            ],
            "image/png": "[encoded data removed]"
          },
          "metadata": {}
        }
      ],
      "source": [
        "from yellowbrick.classifier import PrecisionRecallCurve\n",
        "\n",
        "operations = [(\"OneHotEncoder\", column_trans), (\"log\",log_model)]\n",
        "\n",
        "model = Pipeline(steps=operations)\n",
        "\n",
        "viz = PrecisionRecallCurve(\n",
        "    model,\n",
        "    per_class=True, classes= [\"Black\", \"Hispanic\", \"White\"],\n",
        "    cmap=\"Set1\"\n",
        ")\n",
        "viz.fit(X_train, y_train)\n",
        "viz.score(X_test, y_test)\n",
        "viz.show();"
      ]
    },
    {
      "cell_type": "code",
      "execution_count": 63,
      "metadata": {
        "ExecuteTime": {
          "end_time": "2022-09-08T23:35:33.134428Z",
          "start_time": "2022-09-08T23:35:33.119081Z"
        },
        "id": "tlJWFk3L-QQJ",
        "outputId": "176b12d7-53a2-4c96-f352-a179cd22acf7",
        "colab": {
          "base_uri": "https://localhost:8080/"
        }
      },
      "outputs": [
        {
          "output_type": "execute_result",
          "data": {
            "text/plain": [
              "{'Black': 0.9739679676260993,\n",
              " 'Hispanic': 0.7356006947122873,\n",
              " 'White': 0.9714188014722409,\n",
              " 'micro': 0.9382585784167999}"
            ]
          },
          "metadata": {},
          "execution_count": 63
        }
      ],
      "source": [
        "viz.score_#[\"Hispanic\"]"
      ]
    },
    {
      "cell_type": "code",
      "execution_count": 64,
      "metadata": {
        "ExecuteTime": {
          "end_time": "2022-09-08T23:35:37.702930Z",
          "start_time": "2022-09-08T23:35:37.671343Z"
        },
        "cell_style": "split",
        "hidden": true,
        "scrolled": false,
        "id": "Jibr0Xmb-QQJ",
        "outputId": "89cf0eae-3ef6-4a5d-8bfb-c3c26858eab8",
        "colab": {
          "base_uri": "https://localhost:8080/"
        }
      },
      "outputs": [
        {
          "output_type": "execute_result",
          "data": {
            "text/plain": [
              "(0.7356006947122873, array([0.63428571]), array([0.81617647]))"
            ]
          },
          "metadata": {},
          "execution_count": 64
        }
      ],
      "source": [
        "y_pred = log_model_grid.predict(X_test)\n",
        "\n",
        "log_AP = viz.score_[\"Hispanic\"]\n",
        "log_f1 = f1_score(y_test, y_pred, average=None, labels=[\"Hispanic\"])\n",
        "log_recall = recall_score(y_test, y_pred, average=None, labels=[\"Hispanic\"])\n",
        "log_AP, log_f1, log_recall"
      ]
    },
    {
      "cell_type": "markdown",
      "metadata": {
        "heading_collapsed": true,
        "id": "t8-Y9DGt-QQJ"
      },
      "source": [
        "##  Support Vector Machines"
      ]
    },
    {
      "cell_type": "markdown",
      "metadata": {
        "heading_collapsed": true,
        "hidden": true,
        "id": "Fjqt5RVD-QQK"
      },
      "source": [
        "**Vanilla SVC model** "
      ]
    },
    {
      "cell_type": "code",
      "execution_count": 65,
      "metadata": {
        "ExecuteTime": {
          "end_time": "2022-09-08T23:40:41.520901Z",
          "start_time": "2022-09-08T23:40:41.517835Z"
        },
        "id": "gN9pfRfu-QQK"
      },
      "outputs": [],
      "source": [
        "svc_model=SVC(class_weight=\"balanced\",random_state=101)"
      ]
    },
    {
      "cell_type": "code",
      "execution_count": 66,
      "metadata": {
        "ExecuteTime": {
          "end_time": "2022-09-08T23:40:56.255345Z",
          "start_time": "2022-09-08T23:40:56.240631Z"
        },
        "id": "7nW1X7Wh-QQK"
      },
      "outputs": [],
      "source": [
        "operations_svc = [(\"OneHotEncoder\", column_trans), (\"svc\",svc_model )]\n",
        "\n",
        "pipe_svc_model = Pipeline(steps=operations_svc)"
      ]
    },
    {
      "cell_type": "code",
      "execution_count": 67,
      "metadata": {
        "ExecuteTime": {
          "end_time": "2022-09-08T23:41:23.448854Z",
          "start_time": "2022-09-08T23:41:21.510476Z"
        },
        "cell_style": "split",
        "hidden": true,
        "scrolled": false,
        "id": "Itmo0wMX-QQK",
        "outputId": "eff2c414-d6ca-43fc-d11d-6431f7bf9d48",
        "colab": {
          "base_uri": "https://localhost:8080/"
        }
      },
      "outputs": [
        {
          "output_type": "execute_result",
          "data": {
            "text/plain": [
              "Pipeline(steps=[('OneHotEncoder',\n",
              "                 ColumnTransformer(remainder=MinMaxScaler(),\n",
              "                                   transformers=[('onehotencoder',\n",
              "                                                  OneHotEncoder(handle_unknown='ignore',\n",
              "                                                                sparse=False),\n",
              "                                                  Index(['Gender', 'SubjectsBirthLocation', 'WritingPreference'], dtype='object'))])),\n",
              "                ('svc', SVC(class_weight='balanced', random_state=101))])"
            ]
          },
          "metadata": {},
          "execution_count": 67
        }
      ],
      "source": [
        "pipe_svc_model.fit(X_train, y_train)"
      ]
    },
    {
      "cell_type": "code",
      "execution_count": 68,
      "metadata": {
        "ExecuteTime": {
          "end_time": "2022-09-08T23:41:56.351704Z",
          "start_time": "2022-09-08T23:41:51.606395Z"
        },
        "id": "vdaYgQK_-QQK",
        "outputId": "6bc7d05f-fbbb-409b-8069-90571de4cb1e",
        "colab": {
          "base_uri": "https://localhost:8080/"
        }
      },
      "outputs": [
        {
          "output_type": "stream",
          "name": "stdout",
          "text": [
            "Test_Set\n",
            "[[240  12   8]\n",
            " [  5 111  20]\n",
            " [ 20 109 629]]\n",
            "              precision    recall  f1-score   support\n",
            "\n",
            "       Black       0.91      0.92      0.91       260\n",
            "    Hispanic       0.48      0.82      0.60       136\n",
            "       White       0.96      0.83      0.89       758\n",
            "\n",
            "    accuracy                           0.85      1154\n",
            "   macro avg       0.78      0.86      0.80      1154\n",
            "weighted avg       0.89      0.85      0.86      1154\n",
            "\n",
            "\n",
            "Train_Set\n",
            "[[ 956   42   40]\n",
            " [  23  456   64]\n",
            " [  54  426 2554]]\n",
            "              precision    recall  f1-score   support\n",
            "\n",
            "       Black       0.93      0.92      0.92      1038\n",
            "    Hispanic       0.49      0.84      0.62       543\n",
            "       White       0.96      0.84      0.90      3034\n",
            "\n",
            "    accuracy                           0.86      4615\n",
            "   macro avg       0.79      0.87      0.81      4615\n",
            "weighted avg       0.90      0.86      0.87      4615\n",
            "\n"
          ]
        }
      ],
      "source": [
        "eval_metric(pipe_svc_model, X_train, y_train, X_test, y_test)"
      ]
    },
    {
      "cell_type": "code",
      "execution_count": 69,
      "metadata": {
        "ExecuteTime": {
          "end_time": "2022-09-08T23:42:45.851913Z",
          "start_time": "2022-09-08T23:42:35.498270Z"
        },
        "cell_style": "split",
        "hidden": true,
        "scrolled": false,
        "id": "Fw6O-iE1-QQL",
        "outputId": "0a09f922-f7ee-4b6e-faff-f08ff054d2b7",
        "colab": {
          "base_uri": "https://localhost:8080/"
        }
      },
      "outputs": [
        {
          "output_type": "execute_result",
          "data": {
            "text/plain": [
              "test_f1_Hispanic           0.567945\n",
              "test_precision_Hispanic    0.452935\n",
              "test_recall_Hispanic       0.762368\n",
              "dtype: float64"
            ]
          },
          "metadata": {},
          "execution_count": 69
        }
      ],
      "source": [
        "model = Pipeline(steps=operations_svc)\n",
        "\n",
        "scores = cross_validate(model, X_train, y_train, scoring = scoring, cv = 5)\n",
        "df_scores = pd.DataFrame(scores, index = range(1, 6))\n",
        "df_scores.mean()[2:]"
      ]
    },
    {
      "cell_type": "markdown",
      "metadata": {
        "heading_collapsed": true,
        "hidden": true,
        "id": "eVIUPv88-QQL"
      },
      "source": [
        "**SVC Model GridsearchCV**"
      ]
    },
    {
      "cell_type": "code",
      "execution_count": 70,
      "metadata": {
        "ExecuteTime": {
          "end_time": "2022-09-08T23:44:33.892898Z",
          "start_time": "2022-09-08T23:44:33.878423Z"
        },
        "cell_style": "split",
        "hidden": true,
        "id": "N8Bb9wr7-QQL"
      },
      "outputs": [],
      "source": [
        "param_grid = {\n",
        "    'svc__C': [1,2],\n",
        "    'svc__gamma': [\"scale\", \"auto\", 1, 0.1, 0.01]\n",
        "}"
      ]
    },
    {
      "cell_type": "code",
      "execution_count": 71,
      "metadata": {
        "ExecuteTime": {
          "end_time": "2022-09-08T23:44:34.684721Z",
          "start_time": "2022-09-08T23:44:34.667862Z"
        },
        "cell_style": "split",
        "hidden": true,
        "id": "9T1-N7mR-QQL"
      },
      "outputs": [],
      "source": [
        "operations_svc = [(\"OneHotEncoder\", column_trans), (\"svc\", svc_model)]\n",
        "\n",
        "model = Pipeline(steps=operations_svc)\n",
        "\n",
        "svm_model_grid = GridSearchCV(model,\n",
        "                              param_grid,\n",
        "                              verbose=3,\n",
        "                              scoring=recall_Hispanic,\n",
        "                              n_jobs=-1)"
      ]
    },
    {
      "cell_type": "code",
      "execution_count": 72,
      "metadata": {
        "ExecuteTime": {
          "end_time": "2022-09-08T23:46:27.801421Z",
          "start_time": "2022-09-08T23:45:35.319245Z"
        },
        "cell_style": "center",
        "hidden": true,
        "id": "XxXRejEq-QQL",
        "outputId": "83008b35-8a8d-40bd-bbd0-7f2cff625e42",
        "colab": {
          "base_uri": "https://localhost:8080/"
        }
      },
      "outputs": [
        {
          "output_type": "stream",
          "name": "stdout",
          "text": [
            "Fitting 5 folds for each of 10 candidates, totalling 50 fits\n"
          ]
        },
        {
          "output_type": "execute_result",
          "data": {
            "text/plain": [
              "GridSearchCV(estimator=Pipeline(steps=[('OneHotEncoder',\n",
              "                                        ColumnTransformer(remainder=MinMaxScaler(),\n",
              "                                                          transformers=[('onehotencoder',\n",
              "                                                                         OneHotEncoder(handle_unknown='ignore',\n",
              "                                                                                       sparse=False),\n",
              "                                                                         Index(['Gender', 'SubjectsBirthLocation', 'WritingPreference'], dtype='object'))])),\n",
              "                                       ('svc',\n",
              "                                        SVC(class_weight='balanced',\n",
              "                                            random_state=101))]),\n",
              "             n_jobs=-1,\n",
              "             param_grid={'svc__C': [1, 2],\n",
              "                         'svc__gamma': ['scale', 'auto', 1, 0.1, 0.01]},\n",
              "             scoring=make_scorer(recall_score, average=None, labels=['Hispanic']),\n",
              "             verbose=3)"
            ]
          },
          "metadata": {},
          "execution_count": 72
        }
      ],
      "source": [
        "svm_model_grid.fit(X_train, y_train)"
      ]
    },
    {
      "cell_type": "code",
      "execution_count": 73,
      "metadata": {
        "ExecuteTime": {
          "end_time": "2022-09-08T23:46:48.517125Z",
          "start_time": "2022-09-08T23:46:48.498012Z"
        },
        "cell_style": "center",
        "hidden": true,
        "id": "O1BXPTfl-QQL",
        "outputId": "50df4b29-ed7d-441f-ea95-d3ea10ce3688",
        "colab": {
          "base_uri": "https://localhost:8080/"
        }
      },
      "outputs": [
        {
          "output_type": "execute_result",
          "data": {
            "text/plain": [
              "{'svc__C': 2, 'svc__gamma': 'scale'}"
            ]
          },
          "metadata": {},
          "execution_count": 73
        }
      ],
      "source": [
        "svm_model_grid.best_params_"
      ]
    },
    {
      "cell_type": "code",
      "execution_count": 74,
      "metadata": {
        "ExecuteTime": {
          "end_time": "2022-09-08T23:47:04.270740Z",
          "start_time": "2022-09-08T23:47:04.262057Z"
        },
        "id": "XMFdkEgc-QQM",
        "outputId": "b391bc80-8c45-4951-90c0-156f88f48a5b",
        "colab": {
          "base_uri": "https://localhost:8080/"
        }
      },
      "outputs": [
        {
          "output_type": "execute_result",
          "data": {
            "text/plain": [
              "0.764186204553177"
            ]
          },
          "metadata": {},
          "execution_count": 74
        }
      ],
      "source": [
        "svm_model_grid.best_score_"
      ]
    },
    {
      "cell_type": "code",
      "execution_count": 75,
      "metadata": {
        "ExecuteTime": {
          "end_time": "2022-09-08T23:47:12.762799Z",
          "start_time": "2022-09-08T23:47:08.535365Z"
        },
        "id": "WuFW1tWi-QQM",
        "outputId": "c81dd8b7-5d45-4312-acb2-e9482a42df52",
        "colab": {
          "base_uri": "https://localhost:8080/"
        }
      },
      "outputs": [
        {
          "output_type": "stream",
          "name": "stdout",
          "text": [
            "Test_Set\n",
            "[[240  10  10]\n",
            " [  5 111  20]\n",
            " [ 22  94 642]]\n",
            "              precision    recall  f1-score   support\n",
            "\n",
            "       Black       0.90      0.92      0.91       260\n",
            "    Hispanic       0.52      0.82      0.63       136\n",
            "       White       0.96      0.85      0.90       758\n",
            "\n",
            "    accuracy                           0.86      1154\n",
            "   macro avg       0.79      0.86      0.81      1154\n",
            "weighted avg       0.89      0.86      0.87      1154\n",
            "\n",
            "\n",
            "Train_Set\n",
            "[[ 970   35   33]\n",
            " [  16  466   61]\n",
            " [  52  373 2609]]\n",
            "              precision    recall  f1-score   support\n",
            "\n",
            "       Black       0.93      0.93      0.93      1038\n",
            "    Hispanic       0.53      0.86      0.66       543\n",
            "       White       0.97      0.86      0.91      3034\n",
            "\n",
            "    accuracy                           0.88      4615\n",
            "   macro avg       0.81      0.88      0.83      4615\n",
            "weighted avg       0.91      0.88      0.89      4615\n",
            "\n"
          ]
        }
      ],
      "source": [
        "eval_metric(svm_model_grid, X_train, y_train, X_test, y_test)"
      ]
    },
    {
      "cell_type": "code",
      "execution_count": 76,
      "metadata": {
        "ExecuteTime": {
          "end_time": "2022-09-08T23:47:50.297354Z",
          "start_time": "2022-09-08T23:47:42.528315Z"
        },
        "id": "-T_ZsokV-QQM",
        "outputId": "d4b47733-20b6-44f2-9868-e8919a088146",
        "colab": {
          "base_uri": "https://localhost:8080/",
          "height": 376
        }
      },
      "outputs": [
        {
          "output_type": "display_data",
          "data": {
            "text/plain": [
              "<Figure size 576x396 with 1 Axes>"
            ],
            "image/png": "[encoded data removed]"
          },
          "metadata": {}
        }
      ],
      "source": [
        "operations_svc = [(\"OneHotEncoder\", column_trans), (\"svc\", SVC(C=2, class_weight=\"balanced\",random_state=101))]\n",
        "\n",
        "model = Pipeline(steps=operations_svc)\n",
        "\n",
        "viz = PrecisionRecallCurve(\n",
        "    model,\n",
        "    per_class=True, classes= [\"Black\", \"Hispanic\", \"White\"],\n",
        "    cmap=\"Set1\"\n",
        ")\n",
        "viz.fit(X_train, y_train)\n",
        "viz.score(X_test, y_test)\n",
        "viz.show();"
      ]
    },
    {
      "cell_type": "code",
      "execution_count": 77,
      "metadata": {
        "ExecuteTime": {
          "end_time": "2022-09-08T23:47:51.148499Z",
          "start_time": "2022-09-08T23:47:50.299721Z"
        },
        "id": "m66tMggw-QQM",
        "outputId": "70b5adf8-c630-41bb-d9d3-09cf07a0f6d2",
        "colab": {
          "base_uri": "https://localhost:8080/"
        }
      },
      "outputs": [
        {
          "output_type": "execute_result",
          "data": {
            "text/plain": [
              "(0.7182860644867964, array([0.63247863]), array([0.81617647]))"
            ]
          },
          "metadata": {},
          "execution_count": 77
        }
      ],
      "source": [
        "y_pred = svm_model_grid.predict(X_test)\n",
        "\n",
        "svc_AP = viz.score_[\"Hispanic\"]\n",
        "svc_f1 = f1_score(y_test, y_pred, average=None, labels=[\"Hispanic\"])\n",
        "svc_recall = recall_score(y_test, y_pred, average=None, labels=[\"Hispanic\"])\n",
        "svc_AP, svc_f1, svc_recall"
      ]
    },
    {
      "cell_type": "markdown",
      "metadata": {
        "heading_collapsed": true,
        "id": "bDX_iLIls74C"
      },
      "source": [
        "##  Random Forest"
      ]
    },
    {
      "cell_type": "code",
      "execution_count": 78,
      "metadata": {
        "ExecuteTime": {
          "end_time": "2022-09-08T23:48:35.879776Z",
          "start_time": "2022-09-08T23:48:35.870197Z"
        },
        "id": "Fowfx8MS-QQN",
        "outputId": "82f3ae9c-47de-47fd-f1c4-d20b56354851",
        "colab": {
          "base_uri": "https://localhost:8080/"
        }
      },
      "outputs": [
        {
          "output_type": "execute_result",
          "data": {
            "text/plain": [
              "Index(['Gender', 'SubjectsBirthLocation', 'WritingPreference'], dtype='object')"
            ]
          },
          "metadata": {},
          "execution_count": 78
        }
      ],
      "source": [
        "cat"
      ]
    },
    {
      "cell_type": "code",
      "execution_count": 79,
      "metadata": {
        "id": "3jLZi2A9-QQO"
      },
      "outputs": [],
      "source": [
        "# we don't need scaling for tree base models. \n",
        "# Also we apply OrdinalEncoder to catagorical variables for tree base models. \n",
        "\n",
        "from sklearn.compose import make_column_transformer\n",
        "from sklearn.preprocessing import OrdinalEncoder\n",
        "\n",
        "ord_enc = OrdinalEncoder(handle_unknown='use_encoded_value', unknown_value=-1)\n",
        "\n",
        "column_trans = make_column_transformer((ord_enc, cat), remainder='passthrough')"
      ]
    },
    {
      "cell_type": "markdown",
      "metadata": {
        "heading_collapsed": true,
        "hidden": true,
        "id": "vwangeVb-QQP"
      },
      "source": [
        "**Vanilla Random Forest**"
      ]
    },
    {
      "cell_type": "code",
      "execution_count": 80,
      "metadata": {
        "id": "yKOlzYRY-QQP"
      },
      "outputs": [],
      "source": [
        "rf_model=RandomForestClassifier(class_weight=\"balanced\", random_state=101)"
      ]
    },
    {
      "cell_type": "code",
      "execution_count": 81,
      "metadata": {
        "hidden": true,
        "id": "uCojh6Ww2Hdi",
        "outputId": "d615f5d7-dd32-4c1b-eaef-9f706bdc73c4",
        "colab": {
          "base_uri": "https://localhost:8080/"
        }
      },
      "outputs": [
        {
          "output_type": "execute_result",
          "data": {
            "text/plain": [
              "Pipeline(steps=[('OrdinalEncoder',\n",
              "                 ColumnTransformer(remainder='passthrough',\n",
              "                                   transformers=[('ordinalencoder',\n",
              "                                                  OrdinalEncoder(handle_unknown='use_encoded_value',\n",
              "                                                                 unknown_value=-1),\n",
              "                                                  Index(['Gender', 'SubjectsBirthLocation', 'WritingPreference'], dtype='object'))])),\n",
              "                ('RF_model',\n",
              "                 RandomForestClassifier(class_weight='balanced',\n",
              "                                        random_state=101))])"
            ]
          },
          "metadata": {},
          "execution_count": 81
        }
      ],
      "source": [
        "from sklearn.pipeline import Pipeline\n",
        "from sklearn.ensemble import RandomForestClassifier\n",
        "\n",
        "operations_rf = [(\"OrdinalEncoder\", column_trans), (\"RF_model\",rf_model)]\n",
        "\n",
        "pipe_model_rf = Pipeline(steps=operations_rf)\n",
        "\n",
        "pipe_model_rf.fit(X_train, y_train)"
      ]
    },
    {
      "cell_type": "code",
      "execution_count": 82,
      "metadata": {
        "id": "y97LeVeU-QQQ",
        "outputId": "6698198a-a597-48a8-f962-97ec58386a36",
        "colab": {
          "base_uri": "https://localhost:8080/"
        }
      },
      "outputs": [
        {
          "output_type": "stream",
          "name": "stdout",
          "text": [
            "Test_Set\n",
            "[[191   0  69]\n",
            " [ 10   6 120]\n",
            " [ 10   2 746]]\n",
            "              precision    recall  f1-score   support\n",
            "\n",
            "       Black       0.91      0.73      0.81       260\n",
            "    Hispanic       0.75      0.04      0.08       136\n",
            "       White       0.80      0.98      0.88       758\n",
            "\n",
            "    accuracy                           0.82      1154\n",
            "   macro avg       0.82      0.59      0.59      1154\n",
            "weighted avg       0.82      0.82      0.77      1154\n",
            "\n",
            "\n",
            "Train_Set\n",
            "[[1038    0    0]\n",
            " [   0  542    1]\n",
            " [   0    0 3034]]\n",
            "              precision    recall  f1-score   support\n",
            "\n",
            "       Black       1.00      1.00      1.00      1038\n",
            "    Hispanic       1.00      1.00      1.00       543\n",
            "       White       1.00      1.00      1.00      3034\n",
            "\n",
            "    accuracy                           1.00      4615\n",
            "   macro avg       1.00      1.00      1.00      4615\n",
            "weighted avg       1.00      1.00      1.00      4615\n",
            "\n"
          ]
        }
      ],
      "source": [
        "# it seems that there is overfitting on our model. \n",
        "eval_metric(pipe_model_rf, X_train, y_train, X_test, y_test)"
      ]
    },
    {
      "cell_type": "code",
      "execution_count": 83,
      "metadata": {
        "id": "-2RIF1n2-QQQ",
        "outputId": "91518754-93c6-4c04-f70c-09551f0d64a2",
        "colab": {
          "base_uri": "https://localhost:8080/"
        }
      },
      "outputs": [
        {
          "output_type": "execute_result",
          "data": {
            "text/plain": [
              "test_f1_Hispanic           0.049538\n",
              "test_precision_Hispanic    0.777143\n",
              "test_recall_Hispanic       0.025807\n",
              "dtype: float64"
            ]
          },
          "metadata": {},
          "execution_count": 83
        }
      ],
      "source": [
        "operations_rf = [(\"OrdinalEncoder\", column_trans), (\"RF_model\",rf_model)]\n",
        "\n",
        "model = Pipeline(steps=operations_rf)\n",
        "\n",
        "scores = cross_validate(model, X_train, y_train, scoring = scoring, cv = 5)\n",
        "df_scores = pd.DataFrame(scores, index = range(1, 6))\n",
        "df_scores.mean()[2:]"
      ]
    },
    {
      "cell_type": "markdown",
      "metadata": {
        "heading_collapsed": true,
        "hidden": true,
        "id": "v0xTx_En-QQQ"
      },
      "source": [
        "**Random Forest GridsearchCV**"
      ]
    },
    {
      "cell_type": "code",
      "execution_count": 84,
      "metadata": {
        "cell_style": "split",
        "hidden": true,
        "id": "4MGVCdEX2i7n"
      },
      "outputs": [],
      "source": [
        "param_grid = {'RF_model__n_estimators':[400,500],\n",
        "             'RF_model__max_depth':[2,3],\n",
        "             'RF_model__min_samples_split':[18,20,22],\n",
        "             'RF_model__max_features': ['auto', None, 15, 20]}\n",
        "             "
      ]
    },
    {
      "cell_type": "code",
      "execution_count": 85,
      "metadata": {
        "cell_style": "split",
        "hidden": true,
        "id": "9D4aRhfk3jF-"
      },
      "outputs": [],
      "source": [
        "operations_rf = [(\"OrdinalEncoder\", column_trans), (\"RF_model\",rf_model)]\n",
        "\n",
        "model = Pipeline(steps=operations_rf)\n",
        "rf_grid_model = GridSearchCV(model,\n",
        "                             param_grid,\n",
        "                             verbose=3,\n",
        "                             scoring=recall_Hispanic,\n",
        "                             n_jobs=-1)"
      ]
    },
    {
      "cell_type": "code",
      "execution_count": 86,
      "metadata": {
        "hidden": true,
        "id": "vzYAihIx-QQS",
        "outputId": "805e7f95-e217-480a-9de6-5f14df86cd33",
        "colab": {
          "base_uri": "https://localhost:8080/"
        }
      },
      "outputs": [
        {
          "output_type": "stream",
          "name": "stdout",
          "text": [
            "Fitting 5 folds for each of 48 candidates, totalling 240 fits\n"
          ]
        },
        {
          "output_type": "execute_result",
          "data": {
            "text/plain": [
              "GridSearchCV(estimator=Pipeline(steps=[('OrdinalEncoder',\n",
              "                                        ColumnTransformer(remainder='passthrough',\n",
              "                                                          transformers=[('ordinalencoder',\n",
              "                                                                         OrdinalEncoder(handle_unknown='use_encoded_value',\n",
              "                                                                                        unknown_value=-1),\n",
              "                                                                         Index(['Gender', 'SubjectsBirthLocation', 'WritingPreference'], dtype='object'))])),\n",
              "                                       ('RF_model',\n",
              "                                        RandomForestClassifier(class_weight='balanced',\n",
              "                                                               random_state=101))]),\n",
              "             n_jobs=-1,\n",
              "             param_grid={'RF_model__max_depth': [2, 3],\n",
              "                         'RF_model__max_features': ['auto', None, 15, 20],\n",
              "                         'RF_model__min_samples_split': [18, 20, 22],\n",
              "                         'RF_model__n_estimators': [400, 500]},\n",
              "             scoring=make_scorer(recall_score, average=None, labels=['Hispanic']),\n",
              "             verbose=3)"
            ]
          },
          "metadata": {},
          "execution_count": 86
        }
      ],
      "source": [
        "rf_grid_model.fit(X_train,y_train)"
      ]
    },
    {
      "cell_type": "code",
      "execution_count": 87,
      "metadata": {
        "hidden": true,
        "id": "i6QA8K4j-QQT",
        "outputId": "9e18464b-0897-43f9-cb20-7ac694510fc4",
        "colab": {
          "base_uri": "https://localhost:8080/"
        }
      },
      "outputs": [
        {
          "output_type": "execute_result",
          "data": {
            "text/plain": [
              "{'RF_model__max_depth': 2,\n",
              " 'RF_model__max_features': 'auto',\n",
              " 'RF_model__min_samples_split': 18,\n",
              " 'RF_model__n_estimators': 400}"
            ]
          },
          "metadata": {},
          "execution_count": 87
        }
      ],
      "source": [
        "rf_grid_model.best_params_"
      ]
    },
    {
      "cell_type": "code",
      "execution_count": 88,
      "metadata": {
        "id": "BfLGaWJe-QQT",
        "outputId": "695d1553-570c-4132-ecd6-be2bfd59c192",
        "colab": {
          "base_uri": "https://localhost:8080/"
        }
      },
      "outputs": [
        {
          "output_type": "execute_result",
          "data": {
            "text/plain": [
              "0.6095820591233435"
            ]
          },
          "metadata": {},
          "execution_count": 88
        }
      ],
      "source": [
        "rf_grid_model.best_score_"
      ]
    },
    {
      "cell_type": "code",
      "execution_count": 89,
      "metadata": {
        "cell_style": "split",
        "hidden": true,
        "scrolled": false,
        "id": "QAjsTf9W-QQT",
        "outputId": "e57ae566-db7a-4fd1-f024-6a3698efba46",
        "colab": {
          "base_uri": "https://localhost:8080/"
        }
      },
      "outputs": [
        {
          "output_type": "stream",
          "name": "stdout",
          "text": [
            "Test_Set\n",
            "[[174  50  36]\n",
            " [ 16  76  44]\n",
            " [ 91 244 423]]\n",
            "              precision    recall  f1-score   support\n",
            "\n",
            "       Black       0.62      0.67      0.64       260\n",
            "    Hispanic       0.21      0.56      0.30       136\n",
            "       White       0.84      0.56      0.67       758\n",
            "\n",
            "    accuracy                           0.58      1154\n",
            "   macro avg       0.56      0.60      0.54      1154\n",
            "weighted avg       0.72      0.58      0.62      1154\n",
            "\n",
            "\n",
            "Train_Set\n",
            "[[ 702  204  132]\n",
            " [  45  346  152]\n",
            " [ 246 1105 1683]]\n",
            "              precision    recall  f1-score   support\n",
            "\n",
            "       Black       0.71      0.68      0.69      1038\n",
            "    Hispanic       0.21      0.64      0.31       543\n",
            "       White       0.86      0.55      0.67      3034\n",
            "\n",
            "    accuracy                           0.59      4615\n",
            "   macro avg       0.59      0.62      0.56      4615\n",
            "weighted avg       0.75      0.59      0.64      4615\n",
            "\n"
          ]
        }
      ],
      "source": [
        "eval_metric(rf_grid_model, X_train, y_train, X_test, y_test)"
      ]
    },
    {
      "cell_type": "code",
      "execution_count": 90,
      "metadata": {
        "cell_style": "split",
        "hidden": true,
        "scrolled": true,
        "id": "xx_zzwhM-QQT",
        "outputId": "abfc79b8-ef64-4214-9b6d-768276ab6d14",
        "colab": {
          "base_uri": "https://localhost:8080/",
          "height": 376
        }
      },
      "outputs": [
        {
          "output_type": "display_data",
          "data": {
            "text/plain": [
              "<Figure size 576x396 with 1 Axes>"
            ],
            "image/png": "[encoded data removed]"
          },
          "metadata": {}
        }
      ],
      "source": [
        "operations_rf = [(\"OrdinalEncoder\", column_trans), (\"RF_model\", RandomForestClassifier(class_weight=\"balanced\", \n",
        "                                                    max_depth=2, n_estimators=400, random_state=101))]\n",
        "\n",
        "model = Pipeline(steps=operations_rf)\n",
        "\n",
        "viz = PrecisionRecallCurve(\n",
        "    model,\n",
        "    per_class=True, classes= [\"Black\", \"Hispanic\", \"White\"],\n",
        "    cmap=\"Set1\"\n",
        ")\n",
        "viz.fit(X_train, y_train)\n",
        "viz.score(X_test, y_test)\n",
        "viz.show();"
      ]
    },
    {
      "cell_type": "code",
      "execution_count": 91,
      "metadata": {
        "id": "MNejBEsX-QQT",
        "outputId": "870a6260-ad9e-4f0d-cf8a-365c6938d2c6",
        "colab": {
          "base_uri": "https://localhost:8080/"
        }
      },
      "outputs": [
        {
          "output_type": "execute_result",
          "data": {
            "text/plain": [
              "(0.30004910413998054, array([0.30039526]), array([0.55882353]))"
            ]
          },
          "metadata": {},
          "execution_count": 91
        }
      ],
      "source": [
        "y_pred = rf_grid_model.predict(X_test)\n",
        "\n",
        "rf_AP = viz.score_[\"Hispanic\"]\n",
        "rf_f1 = f1_score(y_test, y_pred, average=None, labels=[\"Hispanic\"])\n",
        "rf_recall = recall_score(y_test, y_pred, average=None, labels=[\"Hispanic\"])\n",
        "rf_AP, rf_f1, rf_recall"
      ]
    },
    {
      "cell_type": "markdown",
      "metadata": {
        "heading_collapsed": true,
        "id": "Oeu8ciIH-QQU"
      },
      "source": [
        "##  XGBoost"
      ]
    },
    {
      "cell_type": "markdown",
      "metadata": {
        "heading_collapsed": true,
        "hidden": true,
        "id": "AKBOtpKU-QQU"
      },
      "source": [
        "**Vanilla XGBoost Model**"
      ]
    },
    {
      "cell_type": "code",
      "execution_count": 92,
      "metadata": {
        "id": "ZDOJmpLH-QQU"
      },
      "outputs": [],
      "source": [
        "#!pip install xgboost==0.90"
      ]
    },
    {
      "cell_type": "code",
      "execution_count": 93,
      "metadata": {
        "id": "onp-wRR5-QQU"
      },
      "outputs": [],
      "source": [
        "import xgboost as xgb"
      ]
    },
    {
      "cell_type": "code",
      "execution_count": 94,
      "metadata": {
        "id": "sZjTsnxI-QQU"
      },
      "outputs": [],
      "source": [
        "xgb_model=XGBClassifier(random_state=101)"
      ]
    },
    {
      "cell_type": "code",
      "execution_count": 95,
      "metadata": {
        "id": "xpWt2R5c-QQV",
        "outputId": "71480642-afc5-4550-d880-676ff2df5c20",
        "colab": {
          "base_uri": "https://localhost:8080/"
        }
      },
      "outputs": [
        {
          "output_type": "execute_result",
          "data": {
            "text/plain": [
              "Pipeline(steps=[('OrdinalEncoder',\n",
              "                 ColumnTransformer(remainder='passthrough',\n",
              "                                   transformers=[('ordinalencoder',\n",
              "                                                  OrdinalEncoder(handle_unknown='use_encoded_value',\n",
              "                                                                 unknown_value=-1),\n",
              "                                                  Index(['Gender', 'SubjectsBirthLocation', 'WritingPreference'], dtype='object'))])),\n",
              "                ('XGB_model',\n",
              "                 XGBClassifier(objective='multi:softprob', random_state=101))])"
            ]
          },
          "metadata": {},
          "execution_count": 95
        }
      ],
      "source": [
        "# Similarly we use OrdinalEncoder and we don't apply scaling. \n",
        "operations_xgb = [(\"OrdinalEncoder\", column_trans), (\"XGB_model\",xgb_model)]\n",
        "\n",
        "pipe_xgb_model = Pipeline(steps=operations_xgb)\n",
        "\n",
        "pipe_xgb_model.fit(X_train, y_train)"
      ]
    },
    {
      "cell_type": "code",
      "execution_count": 96,
      "metadata": {
        "cell_style": "center",
        "hidden": true,
        "id": "3QqPQqHW-QQW",
        "outputId": "fa87342e-332e-4f58-eaad-44b7d1f99a1b",
        "colab": {
          "base_uri": "https://localhost:8080/"
        }
      },
      "outputs": [
        {
          "output_type": "execute_result",
          "data": {
            "text/plain": [
              "array([2.8330264 , 0.50703142, 0.50703142, ..., 0.50703142, 1.4820167 ,\n",
              "       0.50703142])"
            ]
          },
          "metadata": {},
          "execution_count": 96
        }
      ],
      "source": [
        "from sklearn.utils import class_weight\n",
        "classes_weights = class_weight.compute_sample_weight(class_weight='balanced', y=y_train)\n",
        "classes_weights"
      ]
    },
    {
      "cell_type": "code",
      "execution_count": 97,
      "metadata": {
        "id": "05IglrqH-QQX",
        "outputId": "9a4aa499-9e09-4630-ec93-c00ef8e88c35",
        "colab": {
          "base_uri": "https://localhost:8080/"
        }
      },
      "outputs": [
        {
          "output_type": "execute_result",
          "data": {
            "text/plain": [
              "label     0       \n",
              "Black     1.482017    1038\n",
              "Hispanic  2.833026     543\n",
              "White     0.507031    3034\n",
              "Name: 0, dtype: int64"
            ]
          },
          "metadata": {},
          "execution_count": 97
        }
      ],
      "source": [
        "comp = pd.DataFrame(classes_weights)\n",
        "\n",
        "comp[\"label\"] = y_train.reset_index(drop=True)\n",
        "comp.groupby(\"label\")[0].value_counts()"
      ]
    },
    {
      "cell_type": "code",
      "execution_count": 98,
      "metadata": {
        "hidden": true,
        "id": "AJ9Co4Wa-QQX",
        "outputId": "e6c72e80-e1e6-4ebd-d65b-11d2401e75da",
        "colab": {
          "base_uri": "https://localhost:8080/"
        }
      },
      "outputs": [
        {
          "output_type": "execute_result",
          "data": {
            "text/plain": [
              "Pipeline(steps=[('OrdinalEncoder',\n",
              "                 ColumnTransformer(remainder='passthrough',\n",
              "                                   transformers=[('ordinalencoder',\n",
              "                                                  OrdinalEncoder(handle_unknown='use_encoded_value',\n",
              "                                                                 unknown_value=-1),\n",
              "                                                  Index(['Gender', 'SubjectsBirthLocation', 'WritingPreference'], dtype='object'))])),\n",
              "                ('XGB_model',\n",
              "                 XGBClassifier(objective='multi:softprob', random_state=101))])"
            ]
          },
          "metadata": {},
          "execution_count": 98
        }
      ],
      "source": [
        "pipe_xgb_model.fit(X_train,y_train, XGB_model__sample_weight=classes_weights)\n",
        "# weight parameter in XGBoost is per instance not per class. \n",
        "# Therefore, we need to assign the weight of each class to its instances, which is the same thing."
      ]
    },
    {
      "cell_type": "code",
      "execution_count": 99,
      "metadata": {
        "id": "HbkGYVE9-QQY",
        "outputId": "4d1ae529-a22d-45b1-a059-152b5afb762e",
        "colab": {
          "base_uri": "https://localhost:8080/"
        }
      },
      "outputs": [
        {
          "output_type": "stream",
          "name": "stdout",
          "text": [
            "Test_Set\n",
            "[[229  11  20]\n",
            " [ 11  89  36]\n",
            " [ 45 104 609]]\n",
            "              precision    recall  f1-score   support\n",
            "\n",
            "       Black       0.80      0.88      0.84       260\n",
            "    Hispanic       0.44      0.65      0.52       136\n",
            "       White       0.92      0.80      0.86       758\n",
            "\n",
            "    accuracy                           0.80      1154\n",
            "   macro avg       0.72      0.78      0.74      1154\n",
            "weighted avg       0.83      0.80      0.81      1154\n",
            "\n",
            "\n",
            "Train_Set\n",
            "[[ 977   27   34]\n",
            " [  15  471   57]\n",
            " [  79  323 2632]]\n",
            "              precision    recall  f1-score   support\n",
            "\n",
            "       Black       0.91      0.94      0.93      1038\n",
            "    Hispanic       0.57      0.87      0.69       543\n",
            "       White       0.97      0.87      0.91      3034\n",
            "\n",
            "    accuracy                           0.88      4615\n",
            "   macro avg       0.82      0.89      0.84      4615\n",
            "weighted avg       0.91      0.88      0.89      4615\n",
            "\n"
          ]
        }
      ],
      "source": [
        "eval_metric(pipe_xgb_model, X_train, y_train, X_test, y_test)"
      ]
    },
    {
      "cell_type": "code",
      "execution_count": 100,
      "metadata": {
        "id": "cyupJrfo-QQY",
        "outputId": "8397cc68-32de-44ed-cf65-fe617544a44d",
        "colab": {
          "base_uri": "https://localhost:8080/"
        }
      },
      "outputs": [
        {
          "output_type": "execute_result",
          "data": {
            "text/plain": [
              "test_f1_Hispanic           0.501299\n",
              "test_precision_Hispanic    0.427803\n",
              "test_recall_Hispanic       0.605878\n",
              "dtype: float64"
            ]
          },
          "metadata": {},
          "execution_count": 100
        }
      ],
      "source": [
        "operations_xgb = [(\"OrdinalEncoder\", column_trans), (\"XGB_model\",xgb_model)]\n",
        "\n",
        "model = Pipeline(steps=operations_xgb)\n",
        "\n",
        "scores = cross_validate(model, X_train, y_train, scoring = scoring, cv = 5,\n",
        "                        fit_params={\"XGB_model__sample_weight\":classes_weights})\n",
        "df_scores = pd.DataFrame(scores, index = range(1, 6))\n",
        "df_scores.mean()[2:]"
      ]
    },
    {
      "cell_type": "markdown",
      "metadata": {
        "heading_collapsed": true,
        "hidden": true,
        "id": "lOHbC_vq-QQZ"
      },
      "source": [
        "**XGBoost Model GridsearchCV**"
      ]
    },
    {
      "cell_type": "code",
      "execution_count": 101,
      "metadata": {
        "cell_style": "split",
        "hidden": true,
        "id": "eM_Ed5uy-QQZ"
      },
      "outputs": [],
      "source": [
        "param_grid = {\"XGB_model__n_estimators\":[50, 100],\n",
        "              'XGB_model__max_depth':[1,2],\n",
        "              \"XGB_model__learning_rate\": [0.1, 0.3],\n",
        "              \"XGB_model__subsample\":[0.8, 1],\n",
        "              }"
      ]
    },
    {
      "cell_type": "code",
      "execution_count": 102,
      "metadata": {
        "cell_style": "split",
        "hidden": true,
        "id": "8uSfdrCX-QQZ",
        "outputId": "8a7e07ef-7f21-43c8-ba4e-9b7a88f8c716",
        "colab": {
          "base_uri": "https://localhost:8080/"
        }
      },
      "outputs": [
        {
          "output_type": "stream",
          "name": "stdout",
          "text": [
            "Fitting 5 folds for each of 16 candidates, totalling 80 fits\n"
          ]
        }
      ],
      "source": [
        "operations_xgb = [(\"OrdinalEncoder\", column_trans), (\"XGB_model\", xgb_model)]\n",
        "\n",
        "model = Pipeline(steps=operations_xgb)\n",
        "\n",
        "xgb_grid_model = GridSearchCV(model, \n",
        "                              param_grid, \n",
        "                              scoring=recall_Hispanic, \n",
        "                              n_jobs = -1, \n",
        "                              verbose = 2).fit(X_train, y_train, XGB_model__sample_weight=classes_weights)"
      ]
    },
    {
      "cell_type": "code",
      "execution_count": 103,
      "metadata": {
        "hidden": true,
        "id": "BtAuzN_R-QQa",
        "outputId": "3a6457dd-8c3a-40d6-e21d-fc2da476664c",
        "colab": {
          "base_uri": "https://localhost:8080/"
        }
      },
      "outputs": [
        {
          "output_type": "execute_result",
          "data": {
            "text/plain": [
              "{'XGB_model__learning_rate': 0.3,\n",
              " 'XGB_model__max_depth': 1,\n",
              " 'XGB_model__n_estimators': 100,\n",
              " 'XGB_model__subsample': 0.8}"
            ]
          },
          "metadata": {},
          "execution_count": 103
        }
      ],
      "source": [
        "xgb_grid_model.best_params_"
      ]
    },
    {
      "cell_type": "code",
      "execution_count": 104,
      "metadata": {
        "id": "lNlTukhD-QQa",
        "outputId": "bcedb373-a2bf-495a-c754-48759bdb9c3c",
        "colab": {
          "base_uri": "https://localhost:8080/"
        }
      },
      "outputs": [
        {
          "output_type": "execute_result",
          "data": {
            "text/plain": [
              "0.6409106354060483"
            ]
          },
          "metadata": {},
          "execution_count": 104
        }
      ],
      "source": [
        "xgb_grid_model.best_score_"
      ]
    },
    {
      "cell_type": "code",
      "execution_count": 105,
      "metadata": {
        "id": "_9qTFSAE-QQa",
        "outputId": "b5926139-d1af-4659-84a1-af1f2575c535",
        "colab": {
          "base_uri": "https://localhost:8080/"
        }
      },
      "outputs": [
        {
          "output_type": "stream",
          "name": "stdout",
          "text": [
            "Test_Set\n",
            "[[222  20  18]\n",
            " [ 15  86  35]\n",
            " [ 55 138 565]]\n",
            "              precision    recall  f1-score   support\n",
            "\n",
            "       Black       0.76      0.85      0.80       260\n",
            "    Hispanic       0.35      0.63      0.45       136\n",
            "       White       0.91      0.75      0.82       758\n",
            "\n",
            "    accuracy                           0.76      1154\n",
            "   macro avg       0.68      0.74      0.69      1154\n",
            "weighted avg       0.81      0.76      0.77      1154\n",
            "\n",
            "\n",
            "Train_Set\n",
            "[[ 908   69   61]\n",
            " [  38  402  103]\n",
            " [ 136  524 2374]]\n",
            "              precision    recall  f1-score   support\n",
            "\n",
            "       Black       0.84      0.87      0.86      1038\n",
            "    Hispanic       0.40      0.74      0.52       543\n",
            "       White       0.94      0.78      0.85      3034\n",
            "\n",
            "    accuracy                           0.80      4615\n",
            "   macro avg       0.73      0.80      0.74      4615\n",
            "weighted avg       0.85      0.80      0.81      4615\n",
            "\n"
          ]
        }
      ],
      "source": [
        "eval_metric(xgb_grid_model, X_train, y_train, X_test, y_test)"
      ]
    },
    {
      "cell_type": "code",
      "execution_count": 109,
      "metadata": {
        "id": "SHbAc2QP-QQa"
      },
      "outputs": [],
      "source": [
        "#!pip install scikit-plot"
      ]
    },
    {
      "cell_type": "code",
      "execution_count": 110,
      "metadata": {
        "id": "mXhDcdlc-QQb",
        "outputId": "00c19c1a-7946-4105-ee99-c65f6ef3485d",
        "colab": {
          "base_uri": "https://localhost:8080/",
          "height": 380
        }
      },
      "outputs": [
        {
          "output_type": "display_data",
          "data": {
            "text/plain": [
              "<Figure size 576x396 with 1 Axes>"
            ],
            "image/png": "[encoded data removed]"
          },
          "metadata": {}
        }
      ],
      "source": [
        "\n",
        "from scikitplot.metrics import plot_roc, precision_recall_curve\n",
        "from scikitplot.metrics import plot_precision_recall\n",
        "\n",
        "\n",
        "perations_xgb = [(\"OrdinalEncoder\", column_trans), (\"XGB_model\", XGBClassifier(learning_rate=0.3, max_depth=1,\n",
        "                            random_state=101, subsample=0.8))]\n",
        "\n",
        "model = Pipeline(steps=operations_xgb)\n",
        "\n",
        "model.fit(X_train, y_train, XGB_model__sample_weight=classes_weights)\n",
        "\n",
        "y_pred_proba = model.predict_proba(X_test)\n",
        "#y_pred = model.predict(X_test)\n",
        "#Plot metrics \n",
        "#plot_roc(y_test, y_score)\n",
        "#plt.show()\n",
        "    \n",
        "plot_precision_recall(y_test, y_pred_proba)\n",
        "plt.show()"
      ]
    },
    {
      "cell_type": "code",
      "execution_count": 111,
      "metadata": {
        "id": "2EX3EgrI-QQb",
        "outputId": "fe5d2b53-ec5a-49c6-f466-f65304abe7a5",
        "colab": {
          "base_uri": "https://localhost:8080/"
        }
      },
      "outputs": [
        {
          "output_type": "execute_result",
          "data": {
            "text/plain": [
              "0.6103270539987586"
            ]
          },
          "metadata": {},
          "execution_count": 111
        }
      ],
      "source": [
        "y_test_dummies = pd.get_dummies(y_test, drop_first=False).values\n",
        "\n",
        "average_precision_score(y_test_dummies[:, 1], y_pred_proba[:, 1])"
      ]
    },
    {
      "cell_type": "code",
      "execution_count": 112,
      "metadata": {
        "id": "LArUn_lE-QQb",
        "outputId": "b04751be-1ad6-4a76-f883-ce34f94089a6",
        "colab": {
          "base_uri": "https://localhost:8080/"
        }
      },
      "outputs": [
        {
          "output_type": "execute_result",
          "data": {
            "text/plain": [
              "(0.6103270539987586, array([0.45263158]), array([0.63235294]))"
            ]
          },
          "metadata": {},
          "execution_count": 112
        }
      ],
      "source": [
        "y_pred = xgb_grid_model.predict(X_test)\n",
        "\n",
        "xgb_AP = average_precision_score(y_test_dummies[:, 1], y_pred_proba[:, 1])\n",
        "xgb_f1 = f1_score(y_test, y_pred, average=None, labels=[\"Hispanic\"])\n",
        "xgb_recall = recall_score(y_test, y_pred, average=None, labels=[\"Hispanic\"])\n",
        "xgb_AP, xgb_f1, xgb_recall"
      ]
    },
    {
      "cell_type": "markdown",
      "metadata": {
        "id": "4A4_GjmI-QQb"
      },
      "source": [
        "## Comparing Models"
      ]
    },
    {
      "cell_type": "code",
      "execution_count": 113,
      "metadata": {
        "id": "fcywrhLO-QQb",
        "outputId": "bd540012-5546-47f7-ada2-0388d2a7eed3",
        "colab": {
          "base_uri": "https://localhost:8080/",
          "height": 606
        }
      },
      "outputs": [
        {
          "output_type": "display_data",
          "data": {
            "text/plain": [
              "<Figure size 1008x720 with 3 Axes>"
            ],
            "image/png": "[encoded data removed]"
          },
          "metadata": {}
        }
      ],
      "source": [
        "compare = pd.DataFrame({\"Model\": [\"Logistic Regression\", \"SVM\",  \"Random Forest\", \"XGBoost\"],\n",
        "                        \"F1\": [log_f1[0], svc_f1[0], rf_f1[0], xgb_f1[0]],\n",
        "                        \"Recall\": [log_recall[0], svc_recall[0], rf_recall[0], xgb_recall[0]],\n",
        "                        \"AP\": [log_AP, svc_AP, rf_AP, xgb_AP]})\n",
        "\n",
        "def labels(ax):\n",
        "    for p in ax.patches:\n",
        "        width = p.get_width()                        # get bar length\n",
        "        ax.text(width,                               # set the text at 1 unit right of the bar\n",
        "                p.get_y() + p.get_height() / 2,      # get Y coordinate + X coordinate / 2\n",
        "                '{:1.3f}'.format(width),             # set variable to display, 2 decimals\n",
        "                ha = 'left',                         # horizontal alignment\n",
        "                va = 'center')                       # vertical alignment\n",
        "    \n",
        "plt.figure(figsize=(14,10))\n",
        "plt.subplot(311)\n",
        "compare = compare.sort_values(by=\"F1\", ascending=False)\n",
        "ax=sns.barplot(x=\"F1\", y=\"Model\", data=compare, palette=\"Blues_d\")\n",
        "labels(ax)\n",
        "\n",
        "plt.subplot(312)\n",
        "compare = compare.sort_values(by=\"Recall\", ascending=False)\n",
        "ax=sns.barplot(x=\"Recall\", y=\"Model\", data=compare, palette=\"Blues_d\")\n",
        "labels(ax)\n",
        "\n",
        "plt.subplot(313)\n",
        "compare = compare.sort_values(by=\"AP\", ascending=False)\n",
        "ax=sns.barplot(x=\"AP\", y=\"Model\", data=compare, palette=\"Blues_d\")\n",
        "labels(ax)\n",
        "plt.show()"
      ]
    },
    {
      "cell_type": "markdown",
      "metadata": {
        "heading_collapsed": true,
        "id": "R6KwOXaF-QQb"
      },
      "source": [
        "## Before the Deployment "
      ]
    },
    {
      "cell_type": "markdown",
      "metadata": {
        "id": "Kzir1Ibb-QQc"
      },
      "source": [
        "**Logistic regression gives better recall score. We apply logistic regression to all dataset and we give two examples.**"
      ]
    },
    {
      "cell_type": "code",
      "execution_count": 123,
      "metadata": {
        "id": "A7WGcD10-QQc"
      },
      "outputs": [],
      "source": [
        "column_trans_final = make_column_transformer((OneHotEncoder(handle_unknown=\"ignore\", sparse=False), cat), \n",
        "                                       remainder=MinMaxScaler())\n",
        "\n",
        "operations_final = [(\"OneHotEncoder\",column_trans_final),(\"log\", LogisticRegression(class_weight='balanced',max_iter=10000,\n",
        "                                                                          random_state=101))]\n",
        "\n",
        "final_model = Pipeline(steps=operations_final)"
      ]
    },
    {
      "cell_type": "code",
      "execution_count": 124,
      "metadata": {
        "hidden": true,
        "id": "5hailcQX-QQc",
        "outputId": "6459fd33-4fb7-4fe7-dea7-e8d4fe1ca88c",
        "colab": {
          "base_uri": "https://localhost:8080/"
        }
      },
      "outputs": [
        {
          "output_type": "execute_result",
          "data": {
            "text/plain": [
              "Pipeline(steps=[('OneHotEncoder',\n",
              "                 ColumnTransformer(remainder=MinMaxScaler(),\n",
              "                                   transformers=[('onehotencoder',\n",
              "                                                  OneHotEncoder(handle_unknown='ignore',\n",
              "                                                                sparse=False),\n",
              "                                                  Index(['Gender', 'SubjectsBirthLocation', 'WritingPreference'], dtype='object'))])),\n",
              "                ('log',\n",
              "                 LogisticRegression(class_weight='balanced', max_iter=10000,\n",
              "                                    random_state=101))])"
            ]
          },
          "metadata": {},
          "execution_count": 124
        }
      ],
      "source": [
        "final_model.fit(X, y)"
      ]
    },
    {
      "cell_type": "code",
      "execution_count": 125,
      "metadata": {
        "hidden": true,
        "id": "HWIx7MhG-QQc",
        "outputId": "a77811ed-b287-4b07-dbb8-982b7ebd83e0",
        "colab": {
          "base_uri": "https://localhost:8080/",
          "height": 364
        }
      },
      "outputs": [
        {
          "output_type": "execute_result",
          "data": {
            "text/plain": [
              "       abdominalextensiondepthsitting  acromialheight  acromionradialelength  anklecircumference  axillaheight  balloffootcircumference  balloffootlength  biacromialbreadth  bicepscircumferenceflexed  bicristalbreadth  bideltoidbreadth  bimalleolarbreadth  bitragionchinarc  bitragionsubmandibulararc  bizygomaticbreadth  buttockcircumference  buttockdepth  buttockheight  buttockkneelength  buttockpopliteallength  calfcircumference  cervicaleheight  chestbreadth  chestcircumference   chestdepth  chestheight  crotchheight  crotchlengthomphalion  crotchlengthposterioromphalion   earbreadth    earlength  earprotrusion  elbowrestheight  eyeheightsitting  footbreadthhorizontal   footlength  forearmcenterofgriplength  forearmcircumferenceflexed  forearmforearmbreadth  forearmhandlength  functionalleglength  handbreadth  handcircumference   handlength  headbreadth  headcircumference   headlength  heelanklecircumference  heelbreadth   hipbreadth  hipbreadthsitting  iliocristaleheight  \\\n",
              "count                     5769.000000     5769.000000            5769.000000         5769.000000   5769.000000              5769.000000       5769.000000        5769.000000                5769.000000       5769.000000       5769.000000         5769.000000       5769.000000                5769.000000         5769.000000           5769.000000   5769.000000    5769.000000        5769.000000             5769.000000        5769.000000      5769.000000   5769.000000         5769.000000  5769.000000  5769.000000   5769.000000            5769.000000                     5769.000000  5769.000000  5769.000000    5769.000000      5769.000000       5769.000000            5769.000000  5769.000000                5769.000000                 5769.000000            5769.000000        5769.000000          5769.000000  5769.000000        5769.000000  5769.000000  5769.000000        5769.000000  5769.000000             5769.000000  5769.000000  5769.000000        5769.000000         5769.000000   \n",
              "mean                       247.254290     1408.630265             328.071590          225.201768   1301.902583               244.408043        195.118911         399.706015                 341.663027        274.903449        491.454845           72.335413        324.962212                 306.677760          139.529381           1022.059456    242.234356     872.112845         610.449991              498.331773         386.316519      1479.952158    283.232623         1024.206622   252.322586  1254.290172    827.105738             622.693708                      351.880222    35.175420    62.606171      22.227249       240.553302        786.399203              98.915063   263.512394                 339.458832                  295.661640             553.098284         467.898769          1104.347201    85.098111         204.215635   189.574796   152.043682         570.424337   196.640839              333.274918    70.834113   348.930837         386.417923         1042.152366   \n",
              "std                         37.457748       78.303123              20.444554           15.965783     71.260913                16.803556         13.379000          30.124094                  41.270615         19.239580         42.011888            5.326965         17.050426                  20.818789            7.248670             75.952953     26.409001      54.064846          33.120828               28.512562          30.577787        83.590746     20.612214          100.375776    26.660255    78.882449     54.056267              45.087220                       29.807293     3.221118     4.861629       3.149012        28.595503         41.843182               6.658949    17.231642                  23.081597                   29.857253              62.255490          29.785714            67.719289     6.320915          15.486056    11.422521     6.176650          18.245395     8.322907               22.260663     5.932530    25.191381          32.273943           59.102058   \n",
              "min                        155.000000     1146.000000             249.000000          156.000000   1062.000000               186.000000        151.000000         283.000000                 216.000000        197.000000        357.000000           55.000000        267.000000                 245.000000          116.000000            737.000000    168.000000     656.000000         479.000000              380.000000         266.000000      1208.000000    213.000000          695.000000   170.000000  1000.000000    610.000000             473.000000                      243.000000    25.000000    46.000000      13.000000       138.000000        654.000000              77.000000   210.000000                 258.000000                  200.000000             376.000000         342.000000           835.000000    67.000000         160.000000   150.000000   131.000000         502.000000   168.000000              258.000000    48.000000   264.000000         280.000000          816.000000   \n",
              "25%                        220.000000     1353.000000             314.000000          214.000000   1252.000000               233.000000        186.000000         377.000000                 312.000000        262.000000        461.000000           68.000000        314.000000                 292.000000          134.000000            970.000000    223.000000     834.000000         587.000000              478.000000         365.000000      1421.000000    269.000000          952.000000   234.000000  1199.000000    789.000000             592.000000                      331.000000    33.000000    59.000000      20.000000       222.000000        757.000000              94.000000   252.000000                 323.000000                  273.000000             507.000000         447.000000          1057.000000    80.000000         192.000000   182.000000   148.000000         558.000000   191.000000              317.000000    67.000000   332.000000         364.000000         1001.000000   \n",
              "50%                        243.000000     1412.000000             328.000000          225.000000   1304.000000               245.000000        196.000000         404.000000                 342.000000        274.000000        493.000000           73.000000        326.000000                 307.000000          140.000000           1019.000000    241.000000     870.000000         610.000000              498.000000         385.000000      1487.000000    283.000000         1023.000000   251.000000  1261.000000    827.000000             621.000000                      351.000000    35.000000    62.000000      22.000000       241.000000        788.000000              99.000000   265.000000                 341.000000                  297.000000             554.000000         470.000000          1106.000000    86.000000         206.000000   190.000000   152.000000         570.000000   197.000000              335.000000    71.000000   347.000000         384.000000         1042.000000   \n",
              "75%                        272.000000     1464.000000             342.000000          235.000000   1351.000000               256.000000        205.000000         422.000000                 370.000000        288.000000        520.000000           76.000000        336.000000                 321.000000          145.000000           1071.000000    259.000000     908.000000         633.000000              518.000000         406.000000      1539.000000    297.000000         1093.000000   270.000000  1310.000000    864.000000             652.000000                      372.000000    37.000000    66.000000      24.000000       260.000000        816.000000             104.000000   276.000000                 356.000000                  317.000000             598.000000         488.000000          1150.000000    90.000000         216.000000   197.000000   156.000000         583.000000   202.000000              349.000000    75.000000   364.000000         407.000000         1083.000000   \n",
              "max                        451.000000     1683.000000             393.000000          293.000000   1553.000000               306.000000        245.000000         489.000000                 490.000000        362.000000        637.000000           91.000000        385.000000                 390.000000          166.000000           1341.000000    349.000000    1080.000000         736.000000              605.000000         523.000000      1738.000000    363.000000         1469.000000   383.000000  1506.000000   1031.000000             799.000000                      468.000000    46.000000    81.000000      34.000000       345.000000        912.000000             126.000000   323.000000                 416.000000                  402.000000             778.000000         574.000000          1316.000000   105.000000         248.000000   239.000000   177.000000         635.000000   225.000000              403.000000    93.000000   473.000000         541.000000         1253.000000   \n",
              "\n",
              "       interpupillarybreadth   interscyei  interscyeii  kneeheightmidpatella  kneeheightsitting  lateralfemoralepicondyleheight  lateralmalleolusheight  lowerthighcircumference  mentonsellionlength  neckcircumference  neckcircumferencebase  overheadfingertipreachsitting   palmlength  poplitealheight  radialestylionlength  shouldercircumference  shoulderelbowlength  shoulderlength  sittingheight  sleevelengthspinewrist  sleeveoutseam         span      stature  suprasternaleheight  tenthribheight  thighcircumference  thighclearance  thumbtipreach  tibialheight  tragiontopofhead  trochanterionheight  verticaltrunkcircumferenceusa  waistbacklength  waistbreadth  waistcircumference   waistdepth  waistfrontlengthsitting  waistheightomphalion     weightkg  wristcircumference  wristheight          Age  \n",
              "count            5769.000000  5769.000000  5769.000000           5769.000000        5769.000000                     5769.000000              5769.00000              5769.000000          5769.000000        5769.000000            5769.000000                    5769.000000  5769.000000      5769.000000           5769.000000            5769.000000          5769.000000     5769.000000    5769.000000             5769.000000    5769.000000  5769.000000  5769.000000          5769.000000     5769.000000         5769.000000     5769.000000    5769.000000   5769.000000       5769.000000          5769.000000                    5769.000000      5769.000000   5769.000000         5769.000000  5769.000000              5769.000000           5769.000000  5769.000000         5769.000000  5769.000000  5769.000000  \n",
              "mean              632.534928   412.773964   433.017334            476.665280         541.376668                      484.316693                69.76183               406.943144           119.601664         376.127578             414.554516                    1390.525048   114.106604       417.227076            259.757670            1131.214422           354.805166      145.202288     898.592477              868.361068     578.013001  1766.951118  1716.938984          1405.392442     1101.631479          623.583637      176.696481     791.044548    459.389149        129.580343           884.659386                    1632.470966       460.990293    318.409950          916.817126   230.459178               377.352054           1033.591090   800.981106          169.308372   831.334547    29.776391  \n",
              "std                36.644621    42.868488    38.513152             32.643757          33.737243                       28.977173                 7.24541                33.098625             7.860484          39.724315              38.037263                      85.519035     7.105352        30.954287             19.619717              92.350728            22.330743       12.394681      45.257322               56.904175      37.905418   109.925336    89.256478            78.008905       59.786688           57.529947       16.124405      53.486543     29.274797          6.635641            53.766243                      98.204399        36.706353     36.395675          114.386464    35.691681                31.714316             61.957938   155.990338           13.060900    47.321580     8.706610  \n",
              "min               510.000000   270.000000   306.000000            346.000000         407.000000                      352.000000                43.00000               290.000000            91.000000         275.000000             302.000000                    1111.000000    92.000000       305.000000            169.000000             852.000000           271.000000      107.000000     750.000000              636.000000     410.000000  1323.000000  1442.000000          1150.000000      874.000000          412.000000      121.000000     602.000000    347.000000        105.000000           660.000000                    1342.000000       345.000000    211.000000          611.000000   138.000000               289.000000            808.000000   358.000000          124.000000   688.000000    17.000000  \n",
              "25%               610.000000   382.000000   405.000000            453.000000         517.000000                      465.000000                65.00000               384.000000           114.000000         342.000000             383.000000                    1330.000000   109.000000       395.000000            246.000000            1059.000000           339.000000      137.000000     867.000000              826.000000     551.000000  1690.000000  1655.000000          1350.000000     1059.000000          585.000000      166.000000     754.000000    439.000000        125.000000           847.000000                    1561.000000       435.000000    292.000000          831.000000   204.000000               355.000000            990.000000   686.000000          159.000000   798.000000    23.000000  \n",
              "50%               635.000000   412.000000   435.000000            477.000000         543.000000                      484.000000                70.00000               406.000000           120.000000         381.000000             419.000000                    1395.000000   114.000000       418.000000            261.000000            1141.000000           356.000000      145.000000     900.000000              874.000000     580.000000  1774.000000  1722.000000          1409.000000     1102.000000          622.000000      176.000000     793.000000    459.000000        130.000000           883.000000                    1631.000000       463.000000    316.000000          910.000000   226.000000               376.000000           1035.000000   790.000000          171.000000   831.000000    28.000000  \n",
              "75%               655.000000   443.000000   461.000000            498.000000         565.000000                      504.000000                75.00000               427.000000           125.000000         405.000000             443.000000                    1451.000000   119.000000       439.000000            273.000000            1199.000000           370.000000      154.000000     931.000000              910.000000     605.000000  1844.000000  1781.000000          1461.000000     1143.000000          661.000000      187.000000     828.000000    479.000000        134.000000           920.000000                    1697.000000       486.000000    344.000000          995.000000   253.000000               398.000000           1077.000000   900.000000          179.000000   864.000000    36.000000  \n",
              "max               770.000000   562.000000   577.000000            612.000000         666.000000                      594.000000                93.00000               600.000000           156.000000         514.000000             545.000000                    1651.000000   140.000000       525.000000            328.000000            1413.000000           423.000000      185.000000    1039.000000             1058.000000     709.000000  2121.000000  1993.000000          1650.000000     1305.000000          870.000000      259.000000     998.000000    584.000000        150.000000          1095.000000                    1991.000000       598.000000    461.000000         1379.000000   406.000000               494.000000           1245.000000  1442.000000          216.000000  1009.000000    58.000000  "
            ],
            "text/html": [
              "\n",
              "  <div id=\"df-c3fcac4d-2e29-499c-b42b-68977555826d\">\n",
              "    <div class=\"colab-df-container\">\n",
              "      <div>\n",
              "<style scoped>\n",
              "    .dataframe tbody tr th:only-of-type {\n",
              "        vertical-align: middle;\n",
              "    }\n",
              "\n",
              "    .dataframe tbody tr th {\n",
              "        vertical-align: top;\n",
              "    }\n",
              "\n",
              "    .dataframe thead th {\n",
              "        text-align: right;\n",
              "    }\n",
              "</style>\n",
              "<table border=\"1\" class=\"dataframe\">\n",
              "  <thead>\n",
              "    <tr style=\"text-align: right;\">\n",
              "      <th></th>\n",
              "      <th>abdominalextensiondepthsitting</th>\n",
              "      <th>acromialheight</th>\n",
              "      <th>acromionradialelength</th>\n",
              "      <th>anklecircumference</th>\n",
              "      <th>axillaheight</th>\n",
              "      <th>balloffootcircumference</th>\n",
              "      <th>balloffootlength</th>\n",
              "      <th>biacromialbreadth</th>\n",
              "      <th>bicepscircumferenceflexed</th>\n",
              "      <th>bicristalbreadth</th>\n",
              "      <th>bideltoidbreadth</th>\n",
              "      <th>bimalleolarbreadth</th>\n",
              "      <th>bitragionchinarc</th>\n",
              "      <th>bitragionsubmandibulararc</th>\n",
              "      <th>bizygomaticbreadth</th>\n",
              "      <th>buttockcircumference</th>\n",
              "      <th>buttockdepth</th>\n",
              "      <th>buttockheight</th>\n",
              "      <th>buttockkneelength</th>\n",
              "      <th>buttockpopliteallength</th>\n",
              "      <th>calfcircumference</th>\n",
              "      <th>cervicaleheight</th>\n",
              "      <th>chestbreadth</th>\n",
              "      <th>chestcircumference</th>\n",
              "      <th>chestdepth</th>\n",
              "      <th>chestheight</th>\n",
              "      <th>crotchheight</th>\n",
              "      <th>crotchlengthomphalion</th>\n",
              "      <th>crotchlengthposterioromphalion</th>\n",
              "      <th>earbreadth</th>\n",
              "      <th>earlength</th>\n",
              "      <th>earprotrusion</th>\n",
              "      <th>elbowrestheight</th>\n",
              "      <th>eyeheightsitting</th>\n",
              "      <th>footbreadthhorizontal</th>\n",
              "      <th>footlength</th>\n",
              "      <th>forearmcenterofgriplength</th>\n",
              "      <th>forearmcircumferenceflexed</th>\n",
              "      <th>forearmforearmbreadth</th>\n",
              "      <th>forearmhandlength</th>\n",
              "      <th>functionalleglength</th>\n",
              "      <th>handbreadth</th>\n",
              "      <th>handcircumference</th>\n",
              "      <th>handlength</th>\n",
              "      <th>headbreadth</th>\n",
              "      <th>headcircumference</th>\n",
              "      <th>headlength</th>\n",
              "      <th>heelanklecircumference</th>\n",
              "      <th>heelbreadth</th>\n",
              "      <th>hipbreadth</th>\n",
              "      <th>hipbreadthsitting</th>\n",
              "      <th>iliocristaleheight</th>\n",
              "      <th>interpupillarybreadth</th>\n",
              "      <th>interscyei</th>\n",
              "      <th>interscyeii</th>\n",
              "      <th>kneeheightmidpatella</th>\n",
              "      <th>kneeheightsitting</th>\n",
              "      <th>lateralfemoralepicondyleheight</th>\n",
              "      <th>lateralmalleolusheight</th>\n",
              "      <th>lowerthighcircumference</th>\n",
              "      <th>mentonsellionlength</th>\n",
              "      <th>neckcircumference</th>\n",
              "      <th>neckcircumferencebase</th>\n",
              "      <th>overheadfingertipreachsitting</th>\n",
              "      <th>palmlength</th>\n",
              "      <th>poplitealheight</th>\n",
              "      <th>radialestylionlength</th>\n",
              "      <th>shouldercircumference</th>\n",
              "      <th>shoulderelbowlength</th>\n",
              "      <th>shoulderlength</th>\n",
              "      <th>sittingheight</th>\n",
              "      <th>sleevelengthspinewrist</th>\n",
              "      <th>sleeveoutseam</th>\n",
              "      <th>span</th>\n",
              "      <th>stature</th>\n",
              "      <th>suprasternaleheight</th>\n",
              "      <th>tenthribheight</th>\n",
              "      <th>thighcircumference</th>\n",
              "      <th>thighclearance</th>\n",
              "      <th>thumbtipreach</th>\n",
              "      <th>tibialheight</th>\n",
              "      <th>tragiontopofhead</th>\n",
              "      <th>trochanterionheight</th>\n",
              "      <th>verticaltrunkcircumferenceusa</th>\n",
              "      <th>waistbacklength</th>\n",
              "      <th>waistbreadth</th>\n",
              "      <th>waistcircumference</th>\n",
              "      <th>waistdepth</th>\n",
              "      <th>waistfrontlengthsitting</th>\n",
              "      <th>waistheightomphalion</th>\n",
              "      <th>weightkg</th>\n",
              "      <th>wristcircumference</th>\n",
              "      <th>wristheight</th>\n",
              "      <th>Age</th>\n",
              "    </tr>\n",
              "  </thead>\n",
              "  <tbody>\n",
              "    <tr>\n",
              "      <th>count</th>\n",
              "      <td>5769.000000</td>\n",
              "      <td>5769.000000</td>\n",
              "      <td>5769.000000</td>\n",
              "      <td>5769.000000</td>\n",
              "      <td>5769.000000</td>\n",
              "      <td>5769.000000</td>\n",
              "      <td>5769.000000</td>\n",
              "      <td>5769.000000</td>\n",
              "      <td>5769.000000</td>\n",
              "      <td>5769.000000</td>\n",
              "      <td>5769.000000</td>\n",
              "      <td>5769.000000</td>\n",
              "      <td>5769.000000</td>\n",
              "      <td>5769.000000</td>\n",
              "      <td>5769.000000</td>\n",
              "      <td>5769.000000</td>\n",
              "      <td>5769.000000</td>\n",
              "      <td>5769.000000</td>\n",
              "      <td>5769.000000</td>\n",
              "      <td>5769.000000</td>\n",
              "      <td>5769.000000</td>\n",
              "      <td>5769.000000</td>\n",
              "      <td>5769.000000</td>\n",
              "      <td>5769.000000</td>\n",
              "      <td>5769.000000</td>\n",
              "      <td>5769.000000</td>\n",
              "      <td>5769.000000</td>\n",
              "      <td>5769.000000</td>\n",
              "      <td>5769.000000</td>\n",
              "      <td>5769.000000</td>\n",
              "      <td>5769.000000</td>\n",
              "      <td>5769.000000</td>\n",
              "      <td>5769.000000</td>\n",
              "      <td>5769.000000</td>\n",
              "      <td>5769.000000</td>\n",
              "      <td>5769.000000</td>\n",
              "      <td>5769.000000</td>\n",
              "      <td>5769.000000</td>\n",
              "      <td>5769.000000</td>\n",
              "      <td>5769.000000</td>\n",
              "      <td>5769.000000</td>\n",
              "      <td>5769.000000</td>\n",
              "      <td>5769.000000</td>\n",
              "      <td>5769.000000</td>\n",
              "      <td>5769.000000</td>\n",
              "      <td>5769.000000</td>\n",
              "      <td>5769.000000</td>\n",
              "      <td>5769.000000</td>\n",
              "      <td>5769.000000</td>\n",
              "      <td>5769.000000</td>\n",
              "      <td>5769.000000</td>\n",
              "      <td>5769.000000</td>\n",
              "      <td>5769.000000</td>\n",
              "      <td>5769.000000</td>\n",
              "      <td>5769.000000</td>\n",
              "      <td>5769.000000</td>\n",
              "      <td>5769.000000</td>\n",
              "      <td>5769.000000</td>\n",
              "      <td>5769.00000</td>\n",
              "      <td>5769.000000</td>\n",
              "      <td>5769.000000</td>\n",
              "      <td>5769.000000</td>\n",
              "      <td>5769.000000</td>\n",
              "      <td>5769.000000</td>\n",
              "      <td>5769.000000</td>\n",
              "      <td>5769.000000</td>\n",
              "      <td>5769.000000</td>\n",
              "      <td>5769.000000</td>\n",
              "      <td>5769.000000</td>\n",
              "      <td>5769.000000</td>\n",
              "      <td>5769.000000</td>\n",
              "      <td>5769.000000</td>\n",
              "      <td>5769.000000</td>\n",
              "      <td>5769.000000</td>\n",
              "      <td>5769.000000</td>\n",
              "      <td>5769.000000</td>\n",
              "      <td>5769.000000</td>\n",
              "      <td>5769.000000</td>\n",
              "      <td>5769.000000</td>\n",
              "      <td>5769.000000</td>\n",
              "      <td>5769.000000</td>\n",
              "      <td>5769.000000</td>\n",
              "      <td>5769.000000</td>\n",
              "      <td>5769.000000</td>\n",
              "      <td>5769.000000</td>\n",
              "      <td>5769.000000</td>\n",
              "      <td>5769.000000</td>\n",
              "      <td>5769.000000</td>\n",
              "      <td>5769.000000</td>\n",
              "      <td>5769.000000</td>\n",
              "      <td>5769.000000</td>\n",
              "      <td>5769.000000</td>\n",
              "      <td>5769.000000</td>\n",
              "      <td>5769.000000</td>\n",
              "    </tr>\n",
              "    <tr>\n",
              "      <th>mean</th>\n",
              "      <td>247.254290</td>\n",
              "      <td>1408.630265</td>\n",
              "      <td>328.071590</td>\n",
              "      <td>225.201768</td>\n",
              "      <td>1301.902583</td>\n",
              "      <td>244.408043</td>\n",
              "      <td>195.118911</td>\n",
              "      <td>399.706015</td>\n",
              "      <td>341.663027</td>\n",
              "      <td>274.903449</td>\n",
              "      <td>491.454845</td>\n",
              "      <td>72.335413</td>\n",
              "      <td>324.962212</td>\n",
              "      <td>306.677760</td>\n",
              "      <td>139.529381</td>\n",
              "      <td>1022.059456</td>\n",
              "      <td>242.234356</td>\n",
              "      <td>872.112845</td>\n",
              "      <td>610.449991</td>\n",
              "      <td>498.331773</td>\n",
              "      <td>386.316519</td>\n",
              "      <td>1479.952158</td>\n",
              "      <td>283.232623</td>\n",
              "      <td>1024.206622</td>\n",
              "      <td>252.322586</td>\n",
              "      <td>1254.290172</td>\n",
              "      <td>827.105738</td>\n",
              "      <td>622.693708</td>\n",
              "      <td>351.880222</td>\n",
              "      <td>35.175420</td>\n",
              "      <td>62.606171</td>\n",
              "      <td>22.227249</td>\n",
              "      <td>240.553302</td>\n",
              "      <td>786.399203</td>\n",
              "      <td>98.915063</td>\n",
              "      <td>263.512394</td>\n",
              "      <td>339.458832</td>\n",
              "      <td>295.661640</td>\n",
              "      <td>553.098284</td>\n",
              "      <td>467.898769</td>\n",
              "      <td>1104.347201</td>\n",
              "      <td>85.098111</td>\n",
              "      <td>204.215635</td>\n",
              "      <td>189.574796</td>\n",
              "      <td>152.043682</td>\n",
              "      <td>570.424337</td>\n",
              "      <td>196.640839</td>\n",
              "      <td>333.274918</td>\n",
              "      <td>70.834113</td>\n",
              "      <td>348.930837</td>\n",
              "      <td>386.417923</td>\n",
              "      <td>1042.152366</td>\n",
              "      <td>632.534928</td>\n",
              "      <td>412.773964</td>\n",
              "      <td>433.017334</td>\n",
              "      <td>476.665280</td>\n",
              "      <td>541.376668</td>\n",
              "      <td>484.316693</td>\n",
              "      <td>69.76183</td>\n",
              "      <td>406.943144</td>\n",
              "      <td>119.601664</td>\n",
              "      <td>376.127578</td>\n",
              "      <td>414.554516</td>\n",
              "      <td>1390.525048</td>\n",
              "      <td>114.106604</td>\n",
              "      <td>417.227076</td>\n",
              "      <td>259.757670</td>\n",
              "      <td>1131.214422</td>\n",
              "      <td>354.805166</td>\n",
              "      <td>145.202288</td>\n",
              "      <td>898.592477</td>\n",
              "      <td>868.361068</td>\n",
              "      <td>578.013001</td>\n",
              "      <td>1766.951118</td>\n",
              "      <td>1716.938984</td>\n",
              "      <td>1405.392442</td>\n",
              "      <td>1101.631479</td>\n",
              "      <td>623.583637</td>\n",
              "      <td>176.696481</td>\n",
              "      <td>791.044548</td>\n",
              "      <td>459.389149</td>\n",
              "      <td>129.580343</td>\n",
              "      <td>884.659386</td>\n",
              "      <td>1632.470966</td>\n",
              "      <td>460.990293</td>\n",
              "      <td>318.409950</td>\n",
              "      <td>916.817126</td>\n",
              "      <td>230.459178</td>\n",
              "      <td>377.352054</td>\n",
              "      <td>1033.591090</td>\n",
              "      <td>800.981106</td>\n",
              "      <td>169.308372</td>\n",
              "      <td>831.334547</td>\n",
              "      <td>29.776391</td>\n",
              "    </tr>\n",
              "    <tr>\n",
              "      <th>std</th>\n",
              "      <td>37.457748</td>\n",
              "      <td>78.303123</td>\n",
              "      <td>20.444554</td>\n",
              "      <td>15.965783</td>\n",
              "      <td>71.260913</td>\n",
              "      <td>16.803556</td>\n",
              "      <td>13.379000</td>\n",
              "      <td>30.124094</td>\n",
              "      <td>41.270615</td>\n",
              "      <td>19.239580</td>\n",
              "      <td>42.011888</td>\n",
              "      <td>5.326965</td>\n",
              "      <td>17.050426</td>\n",
              "      <td>20.818789</td>\n",
              "      <td>7.248670</td>\n",
              "      <td>75.952953</td>\n",
              "      <td>26.409001</td>\n",
              "      <td>54.064846</td>\n",
              "      <td>33.120828</td>\n",
              "      <td>28.512562</td>\n",
              "      <td>30.577787</td>\n",
              "      <td>83.590746</td>\n",
              "      <td>20.612214</td>\n",
              "      <td>100.375776</td>\n",
              "      <td>26.660255</td>\n",
              "      <td>78.882449</td>\n",
              "      <td>54.056267</td>\n",
              "      <td>45.087220</td>\n",
              "      <td>29.807293</td>\n",
              "      <td>3.221118</td>\n",
              "      <td>4.861629</td>\n",
              "      <td>3.149012</td>\n",
              "      <td>28.595503</td>\n",
              "      <td>41.843182</td>\n",
              "      <td>6.658949</td>\n",
              "      <td>17.231642</td>\n",
              "      <td>23.081597</td>\n",
              "      <td>29.857253</td>\n",
              "      <td>62.255490</td>\n",
              "      <td>29.785714</td>\n",
              "      <td>67.719289</td>\n",
              "      <td>6.320915</td>\n",
              "      <td>15.486056</td>\n",
              "      <td>11.422521</td>\n",
              "      <td>6.176650</td>\n",
              "      <td>18.245395</td>\n",
              "      <td>8.322907</td>\n",
              "      <td>22.260663</td>\n",
              "      <td>5.932530</td>\n",
              "      <td>25.191381</td>\n",
              "      <td>32.273943</td>\n",
              "      <td>59.102058</td>\n",
              "      <td>36.644621</td>\n",
              "      <td>42.868488</td>\n",
              "      <td>38.513152</td>\n",
              "      <td>32.643757</td>\n",
              "      <td>33.737243</td>\n",
              "      <td>28.977173</td>\n",
              "      <td>7.24541</td>\n",
              "      <td>33.098625</td>\n",
              "      <td>7.860484</td>\n",
              "      <td>39.724315</td>\n",
              "      <td>38.037263</td>\n",
              "      <td>85.519035</td>\n",
              "      <td>7.105352</td>\n",
              "      <td>30.954287</td>\n",
              "      <td>19.619717</td>\n",
              "      <td>92.350728</td>\n",
              "      <td>22.330743</td>\n",
              "      <td>12.394681</td>\n",
              "      <td>45.257322</td>\n",
              "      <td>56.904175</td>\n",
              "      <td>37.905418</td>\n",
              "      <td>109.925336</td>\n",
              "      <td>89.256478</td>\n",
              "      <td>78.008905</td>\n",
              "      <td>59.786688</td>\n",
              "      <td>57.529947</td>\n",
              "      <td>16.124405</td>\n",
              "      <td>53.486543</td>\n",
              "      <td>29.274797</td>\n",
              "      <td>6.635641</td>\n",
              "      <td>53.766243</td>\n",
              "      <td>98.204399</td>\n",
              "      <td>36.706353</td>\n",
              "      <td>36.395675</td>\n",
              "      <td>114.386464</td>\n",
              "      <td>35.691681</td>\n",
              "      <td>31.714316</td>\n",
              "      <td>61.957938</td>\n",
              "      <td>155.990338</td>\n",
              "      <td>13.060900</td>\n",
              "      <td>47.321580</td>\n",
              "      <td>8.706610</td>\n",
              "    </tr>\n",
              "    <tr>\n",
              "      <th>min</th>\n",
              "      <td>155.000000</td>\n",
              "      <td>1146.000000</td>\n",
              "      <td>249.000000</td>\n",
              "      <td>156.000000</td>\n",
              "      <td>1062.000000</td>\n",
              "      <td>186.000000</td>\n",
              "      <td>151.000000</td>\n",
              "      <td>283.000000</td>\n",
              "      <td>216.000000</td>\n",
              "      <td>197.000000</td>\n",
              "      <td>357.000000</td>\n",
              "      <td>55.000000</td>\n",
              "      <td>267.000000</td>\n",
              "      <td>245.000000</td>\n",
              "      <td>116.000000</td>\n",
              "      <td>737.000000</td>\n",
              "      <td>168.000000</td>\n",
              "      <td>656.000000</td>\n",
              "      <td>479.000000</td>\n",
              "      <td>380.000000</td>\n",
              "      <td>266.000000</td>\n",
              "      <td>1208.000000</td>\n",
              "      <td>213.000000</td>\n",
              "      <td>695.000000</td>\n",
              "      <td>170.000000</td>\n",
              "      <td>1000.000000</td>\n",
              "      <td>610.000000</td>\n",
              "      <td>473.000000</td>\n",
              "      <td>243.000000</td>\n",
              "      <td>25.000000</td>\n",
              "      <td>46.000000</td>\n",
              "      <td>13.000000</td>\n",
              "      <td>138.000000</td>\n",
              "      <td>654.000000</td>\n",
              "      <td>77.000000</td>\n",
              "      <td>210.000000</td>\n",
              "      <td>258.000000</td>\n",
              "      <td>200.000000</td>\n",
              "      <td>376.000000</td>\n",
              "      <td>342.000000</td>\n",
              "      <td>835.000000</td>\n",
              "      <td>67.000000</td>\n",
              "      <td>160.000000</td>\n",
              "      <td>150.000000</td>\n",
              "      <td>131.000000</td>\n",
              "      <td>502.000000</td>\n",
              "      <td>168.000000</td>\n",
              "      <td>258.000000</td>\n",
              "      <td>48.000000</td>\n",
              "      <td>264.000000</td>\n",
              "      <td>280.000000</td>\n",
              "      <td>816.000000</td>\n",
              "      <td>510.000000</td>\n",
              "      <td>270.000000</td>\n",
              "      <td>306.000000</td>\n",
              "      <td>346.000000</td>\n",
              "      <td>407.000000</td>\n",
              "      <td>352.000000</td>\n",
              "      <td>43.00000</td>\n",
              "      <td>290.000000</td>\n",
              "      <td>91.000000</td>\n",
              "      <td>275.000000</td>\n",
              "      <td>302.000000</td>\n",
              "      <td>1111.000000</td>\n",
              "      <td>92.000000</td>\n",
              "      <td>305.000000</td>\n",
              "      <td>169.000000</td>\n",
              "      <td>852.000000</td>\n",
              "      <td>271.000000</td>\n",
              "      <td>107.000000</td>\n",
              "      <td>750.000000</td>\n",
              "      <td>636.000000</td>\n",
              "      <td>410.000000</td>\n",
              "      <td>1323.000000</td>\n",
              "      <td>1442.000000</td>\n",
              "      <td>1150.000000</td>\n",
              "      <td>874.000000</td>\n",
              "      <td>412.000000</td>\n",
              "      <td>121.000000</td>\n",
              "      <td>602.000000</td>\n",
              "      <td>347.000000</td>\n",
              "      <td>105.000000</td>\n",
              "      <td>660.000000</td>\n",
              "      <td>1342.000000</td>\n",
              "      <td>345.000000</td>\n",
              "      <td>211.000000</td>\n",
              "      <td>611.000000</td>\n",
              "      <td>138.000000</td>\n",
              "      <td>289.000000</td>\n",
              "      <td>808.000000</td>\n",
              "      <td>358.000000</td>\n",
              "      <td>124.000000</td>\n",
              "      <td>688.000000</td>\n",
              "      <td>17.000000</td>\n",
              "    </tr>\n",
              "    <tr>\n",
              "      <th>25%</th>\n",
              "      <td>220.000000</td>\n",
              "      <td>1353.000000</td>\n",
              "      <td>314.000000</td>\n",
              "      <td>214.000000</td>\n",
              "      <td>1252.000000</td>\n",
              "      <td>233.000000</td>\n",
              "      <td>186.000000</td>\n",
              "      <td>377.000000</td>\n",
              "      <td>312.000000</td>\n",
              "      <td>262.000000</td>\n",
              "      <td>461.000000</td>\n",
              "      <td>68.000000</td>\n",
              "      <td>314.000000</td>\n",
              "      <td>292.000000</td>\n",
              "      <td>134.000000</td>\n",
              "      <td>970.000000</td>\n",
              "      <td>223.000000</td>\n",
              "      <td>834.000000</td>\n",
              "      <td>587.000000</td>\n",
              "      <td>478.000000</td>\n",
              "      <td>365.000000</td>\n",
              "      <td>1421.000000</td>\n",
              "      <td>269.000000</td>\n",
              "      <td>952.000000</td>\n",
              "      <td>234.000000</td>\n",
              "      <td>1199.000000</td>\n",
              "      <td>789.000000</td>\n",
              "      <td>592.000000</td>\n",
              "      <td>331.000000</td>\n",
              "      <td>33.000000</td>\n",
              "      <td>59.000000</td>\n",
              "      <td>20.000000</td>\n",
              "      <td>222.000000</td>\n",
              "      <td>757.000000</td>\n",
              "      <td>94.000000</td>\n",
              "      <td>252.000000</td>\n",
              "      <td>323.000000</td>\n",
              "      <td>273.000000</td>\n",
              "      <td>507.000000</td>\n",
              "      <td>447.000000</td>\n",
              "      <td>1057.000000</td>\n",
              "      <td>80.000000</td>\n",
              "      <td>192.000000</td>\n",
              "      <td>182.000000</td>\n",
              "      <td>148.000000</td>\n",
              "      <td>558.000000</td>\n",
              "      <td>191.000000</td>\n",
              "      <td>317.000000</td>\n",
              "      <td>67.000000</td>\n",
              "      <td>332.000000</td>\n",
              "      <td>364.000000</td>\n",
              "      <td>1001.000000</td>\n",
              "      <td>610.000000</td>\n",
              "      <td>382.000000</td>\n",
              "      <td>405.000000</td>\n",
              "      <td>453.000000</td>\n",
              "      <td>517.000000</td>\n",
              "      <td>465.000000</td>\n",
              "      <td>65.00000</td>\n",
              "      <td>384.000000</td>\n",
              "      <td>114.000000</td>\n",
              "      <td>342.000000</td>\n",
              "      <td>383.000000</td>\n",
              "      <td>1330.000000</td>\n",
              "      <td>109.000000</td>\n",
              "      <td>395.000000</td>\n",
              "      <td>246.000000</td>\n",
              "      <td>1059.000000</td>\n",
              "      <td>339.000000</td>\n",
              "      <td>137.000000</td>\n",
              "      <td>867.000000</td>\n",
              "      <td>826.000000</td>\n",
              "      <td>551.000000</td>\n",
              "      <td>1690.000000</td>\n",
              "      <td>1655.000000</td>\n",
              "      <td>1350.000000</td>\n",
              "      <td>1059.000000</td>\n",
              "      <td>585.000000</td>\n",
              "      <td>166.000000</td>\n",
              "      <td>754.000000</td>\n",
              "      <td>439.000000</td>\n",
              "      <td>125.000000</td>\n",
              "      <td>847.000000</td>\n",
              "      <td>1561.000000</td>\n",
              "      <td>435.000000</td>\n",
              "      <td>292.000000</td>\n",
              "      <td>831.000000</td>\n",
              "      <td>204.000000</td>\n",
              "      <td>355.000000</td>\n",
              "      <td>990.000000</td>\n",
              "      <td>686.000000</td>\n",
              "      <td>159.000000</td>\n",
              "      <td>798.000000</td>\n",
              "      <td>23.000000</td>\n",
              "    </tr>\n",
              "    <tr>\n",
              "      <th>50%</th>\n",
              "      <td>243.000000</td>\n",
              "      <td>1412.000000</td>\n",
              "      <td>328.000000</td>\n",
              "      <td>225.000000</td>\n",
              "      <td>1304.000000</td>\n",
              "      <td>245.000000</td>\n",
              "      <td>196.000000</td>\n",
              "      <td>404.000000</td>\n",
              "      <td>342.000000</td>\n",
              "      <td>274.000000</td>\n",
              "      <td>493.000000</td>\n",
              "      <td>73.000000</td>\n",
              "      <td>326.000000</td>\n",
              "      <td>307.000000</td>\n",
              "      <td>140.000000</td>\n",
              "      <td>1019.000000</td>\n",
              "      <td>241.000000</td>\n",
              "      <td>870.000000</td>\n",
              "      <td>610.000000</td>\n",
              "      <td>498.000000</td>\n",
              "      <td>385.000000</td>\n",
              "      <td>1487.000000</td>\n",
              "      <td>283.000000</td>\n",
              "      <td>1023.000000</td>\n",
              "      <td>251.000000</td>\n",
              "      <td>1261.000000</td>\n",
              "      <td>827.000000</td>\n",
              "      <td>621.000000</td>\n",
              "      <td>351.000000</td>\n",
              "      <td>35.000000</td>\n",
              "      <td>62.000000</td>\n",
              "      <td>22.000000</td>\n",
              "      <td>241.000000</td>\n",
              "      <td>788.000000</td>\n",
              "      <td>99.000000</td>\n",
              "      <td>265.000000</td>\n",
              "      <td>341.000000</td>\n",
              "      <td>297.000000</td>\n",
              "      <td>554.000000</td>\n",
              "      <td>470.000000</td>\n",
              "      <td>1106.000000</td>\n",
              "      <td>86.000000</td>\n",
              "      <td>206.000000</td>\n",
              "      <td>190.000000</td>\n",
              "      <td>152.000000</td>\n",
              "      <td>570.000000</td>\n",
              "      <td>197.000000</td>\n",
              "      <td>335.000000</td>\n",
              "      <td>71.000000</td>\n",
              "      <td>347.000000</td>\n",
              "      <td>384.000000</td>\n",
              "      <td>1042.000000</td>\n",
              "      <td>635.000000</td>\n",
              "      <td>412.000000</td>\n",
              "      <td>435.000000</td>\n",
              "      <td>477.000000</td>\n",
              "      <td>543.000000</td>\n",
              "      <td>484.000000</td>\n",
              "      <td>70.00000</td>\n",
              "      <td>406.000000</td>\n",
              "      <td>120.000000</td>\n",
              "      <td>381.000000</td>\n",
              "      <td>419.000000</td>\n",
              "      <td>1395.000000</td>\n",
              "      <td>114.000000</td>\n",
              "      <td>418.000000</td>\n",
              "      <td>261.000000</td>\n",
              "      <td>1141.000000</td>\n",
              "      <td>356.000000</td>\n",
              "      <td>145.000000</td>\n",
              "      <td>900.000000</td>\n",
              "      <td>874.000000</td>\n",
              "      <td>580.000000</td>\n",
              "      <td>1774.000000</td>\n",
              "      <td>1722.000000</td>\n",
              "      <td>1409.000000</td>\n",
              "      <td>1102.000000</td>\n",
              "      <td>622.000000</td>\n",
              "      <td>176.000000</td>\n",
              "      <td>793.000000</td>\n",
              "      <td>459.000000</td>\n",
              "      <td>130.000000</td>\n",
              "      <td>883.000000</td>\n",
              "      <td>1631.000000</td>\n",
              "      <td>463.000000</td>\n",
              "      <td>316.000000</td>\n",
              "      <td>910.000000</td>\n",
              "      <td>226.000000</td>\n",
              "      <td>376.000000</td>\n",
              "      <td>1035.000000</td>\n",
              "      <td>790.000000</td>\n",
              "      <td>171.000000</td>\n",
              "      <td>831.000000</td>\n",
              "      <td>28.000000</td>\n",
              "    </tr>\n",
              "    <tr>\n",
              "      <th>75%</th>\n",
              "      <td>272.000000</td>\n",
              "      <td>1464.000000</td>\n",
              "      <td>342.000000</td>\n",
              "      <td>235.000000</td>\n",
              "      <td>1351.000000</td>\n",
              "      <td>256.000000</td>\n",
              "      <td>205.000000</td>\n",
              "      <td>422.000000</td>\n",
              "      <td>370.000000</td>\n",
              "      <td>288.000000</td>\n",
              "      <td>520.000000</td>\n",
              "      <td>76.000000</td>\n",
              "      <td>336.000000</td>\n",
              "      <td>321.000000</td>\n",
              "      <td>145.000000</td>\n",
              "      <td>1071.000000</td>\n",
              "      <td>259.000000</td>\n",
              "      <td>908.000000</td>\n",
              "      <td>633.000000</td>\n",
              "      <td>518.000000</td>\n",
              "      <td>406.000000</td>\n",
              "      <td>1539.000000</td>\n",
              "      <td>297.000000</td>\n",
              "      <td>1093.000000</td>\n",
              "      <td>270.000000</td>\n",
              "      <td>1310.000000</td>\n",
              "      <td>864.000000</td>\n",
              "      <td>652.000000</td>\n",
              "      <td>372.000000</td>\n",
              "      <td>37.000000</td>\n",
              "      <td>66.000000</td>\n",
              "      <td>24.000000</td>\n",
              "      <td>260.000000</td>\n",
              "      <td>816.000000</td>\n",
              "      <td>104.000000</td>\n",
              "      <td>276.000000</td>\n",
              "      <td>356.000000</td>\n",
              "      <td>317.000000</td>\n",
              "      <td>598.000000</td>\n",
              "      <td>488.000000</td>\n",
              "      <td>1150.000000</td>\n",
              "      <td>90.000000</td>\n",
              "      <td>216.000000</td>\n",
              "      <td>197.000000</td>\n",
              "      <td>156.000000</td>\n",
              "      <td>583.000000</td>\n",
              "      <td>202.000000</td>\n",
              "      <td>349.000000</td>\n",
              "      <td>75.000000</td>\n",
              "      <td>364.000000</td>\n",
              "      <td>407.000000</td>\n",
              "      <td>1083.000000</td>\n",
              "      <td>655.000000</td>\n",
              "      <td>443.000000</td>\n",
              "      <td>461.000000</td>\n",
              "      <td>498.000000</td>\n",
              "      <td>565.000000</td>\n",
              "      <td>504.000000</td>\n",
              "      <td>75.00000</td>\n",
              "      <td>427.000000</td>\n",
              "      <td>125.000000</td>\n",
              "      <td>405.000000</td>\n",
              "      <td>443.000000</td>\n",
              "      <td>1451.000000</td>\n",
              "      <td>119.000000</td>\n",
              "      <td>439.000000</td>\n",
              "      <td>273.000000</td>\n",
              "      <td>1199.000000</td>\n",
              "      <td>370.000000</td>\n",
              "      <td>154.000000</td>\n",
              "      <td>931.000000</td>\n",
              "      <td>910.000000</td>\n",
              "      <td>605.000000</td>\n",
              "      <td>1844.000000</td>\n",
              "      <td>1781.000000</td>\n",
              "      <td>1461.000000</td>\n",
              "      <td>1143.000000</td>\n",
              "      <td>661.000000</td>\n",
              "      <td>187.000000</td>\n",
              "      <td>828.000000</td>\n",
              "      <td>479.000000</td>\n",
              "      <td>134.000000</td>\n",
              "      <td>920.000000</td>\n",
              "      <td>1697.000000</td>\n",
              "      <td>486.000000</td>\n",
              "      <td>344.000000</td>\n",
              "      <td>995.000000</td>\n",
              "      <td>253.000000</td>\n",
              "      <td>398.000000</td>\n",
              "      <td>1077.000000</td>\n",
              "      <td>900.000000</td>\n",
              "      <td>179.000000</td>\n",
              "      <td>864.000000</td>\n",
              "      <td>36.000000</td>\n",
              "    </tr>\n",
              "    <tr>\n",
              "      <th>max</th>\n",
              "      <td>451.000000</td>\n",
              "      <td>1683.000000</td>\n",
              "      <td>393.000000</td>\n",
              "      <td>293.000000</td>\n",
              "      <td>1553.000000</td>\n",
              "      <td>306.000000</td>\n",
              "      <td>245.000000</td>\n",
              "      <td>489.000000</td>\n",
              "      <td>490.000000</td>\n",
              "      <td>362.000000</td>\n",
              "      <td>637.000000</td>\n",
              "      <td>91.000000</td>\n",
              "      <td>385.000000</td>\n",
              "      <td>390.000000</td>\n",
              "      <td>166.000000</td>\n",
              "      <td>1341.000000</td>\n",
              "      <td>349.000000</td>\n",
              "      <td>1080.000000</td>\n",
              "      <td>736.000000</td>\n",
              "      <td>605.000000</td>\n",
              "      <td>523.000000</td>\n",
              "      <td>1738.000000</td>\n",
              "      <td>363.000000</td>\n",
              "      <td>1469.000000</td>\n",
              "      <td>383.000000</td>\n",
              "      <td>1506.000000</td>\n",
              "      <td>1031.000000</td>\n",
              "      <td>799.000000</td>\n",
              "      <td>468.000000</td>\n",
              "      <td>46.000000</td>\n",
              "      <td>81.000000</td>\n",
              "      <td>34.000000</td>\n",
              "      <td>345.000000</td>\n",
              "      <td>912.000000</td>\n",
              "      <td>126.000000</td>\n",
              "      <td>323.000000</td>\n",
              "      <td>416.000000</td>\n",
              "      <td>402.000000</td>\n",
              "      <td>778.000000</td>\n",
              "      <td>574.000000</td>\n",
              "      <td>1316.000000</td>\n",
              "      <td>105.000000</td>\n",
              "      <td>248.000000</td>\n",
              "      <td>239.000000</td>\n",
              "      <td>177.000000</td>\n",
              "      <td>635.000000</td>\n",
              "      <td>225.000000</td>\n",
              "      <td>403.000000</td>\n",
              "      <td>93.000000</td>\n",
              "      <td>473.000000</td>\n",
              "      <td>541.000000</td>\n",
              "      <td>1253.000000</td>\n",
              "      <td>770.000000</td>\n",
              "      <td>562.000000</td>\n",
              "      <td>577.000000</td>\n",
              "      <td>612.000000</td>\n",
              "      <td>666.000000</td>\n",
              "      <td>594.000000</td>\n",
              "      <td>93.00000</td>\n",
              "      <td>600.000000</td>\n",
              "      <td>156.000000</td>\n",
              "      <td>514.000000</td>\n",
              "      <td>545.000000</td>\n",
              "      <td>1651.000000</td>\n",
              "      <td>140.000000</td>\n",
              "      <td>525.000000</td>\n",
              "      <td>328.000000</td>\n",
              "      <td>1413.000000</td>\n",
              "      <td>423.000000</td>\n",
              "      <td>185.000000</td>\n",
              "      <td>1039.000000</td>\n",
              "      <td>1058.000000</td>\n",
              "      <td>709.000000</td>\n",
              "      <td>2121.000000</td>\n",
              "      <td>1993.000000</td>\n",
              "      <td>1650.000000</td>\n",
              "      <td>1305.000000</td>\n",
              "      <td>870.000000</td>\n",
              "      <td>259.000000</td>\n",
              "      <td>998.000000</td>\n",
              "      <td>584.000000</td>\n",
              "      <td>150.000000</td>\n",
              "      <td>1095.000000</td>\n",
              "      <td>1991.000000</td>\n",
              "      <td>598.000000</td>\n",
              "      <td>461.000000</td>\n",
              "      <td>1379.000000</td>\n",
              "      <td>406.000000</td>\n",
              "      <td>494.000000</td>\n",
              "      <td>1245.000000</td>\n",
              "      <td>1442.000000</td>\n",
              "      <td>216.000000</td>\n",
              "      <td>1009.000000</td>\n",
              "      <td>58.000000</td>\n",
              "    </tr>\n",
              "  </tbody>\n",
              "</table>\n",
              "</div>\n",
              "      <button class=\"colab-df-convert\" onclick=\"convertToInteractive('df-c3fcac4d-2e29-499c-b42b-68977555826d')\"\n",
              "              title=\"Convert this dataframe to an interactive table.\"\n",
              "              style=\"display:none;\">\n",
              "        \n",
              "  <svg xmlns=\"http://www.w3.org/2000/svg\" height=\"24px\"viewBox=\"0 0 24 24\"\n",
              "       width=\"24px\">\n",
              "    <path d=\"M0 0h24v24H0V0z\" fill=\"none\"/>\n",
              "    <path d=\"M18.56 5.44l.94 2.06.94-2.06 2.06-.94-2.06-.94-.94-2.06-.94 2.06-2.06.94zm-11 1L8.5 8.5l.94-2.06 2.06-.94-2.06-.94L8.5 2.5l-.94 2.06-2.06.94zm10 10l.94 2.06.94-2.06 2.06-.94-2.06-.94-.94-2.06-.94 2.06-2.06.94z\"/><path d=\"M17.41 7.96l-1.37-1.37c-.4-.4-.92-.59-1.43-.59-.52 0-1.04.2-1.43.59L10.3 9.45l-7.72 7.72c-.78.78-.78 2.05 0 2.83L4 21.41c.39.39.9.59 1.41.59.51 0 1.02-.2 1.41-.59l7.78-7.78 2.81-2.81c.8-.78.8-2.07 0-2.86zM5.41 20L4 18.59l7.72-7.72 1.47 1.35L5.41 20z\"/>\n",
              "  </svg>\n",
              "      </button>\n",
              "      \n",
              "  <style>\n",
              "    .colab-df-container {\n",
              "      display:flex;\n",
              "      flex-wrap:wrap;\n",
              "      gap: 12px;\n",
              "    }\n",
              "\n",
              "    .colab-df-convert {\n",
              "      background-color: #E8F0FE;\n",
              "      border: none;\n",
              "      border-radius: 50%;\n",
              "      cursor: pointer;\n",
              "      display: none;\n",
              "      fill: #1967D2;\n",
              "      height: 32px;\n",
              "      padding: 0 0 0 0;\n",
              "      width: 32px;\n",
              "    }\n",
              "\n",
              "    .colab-df-convert:hover {\n",
              "      background-color: #E2EBFA;\n",
              "      box-shadow: 0px 1px 2px rgba(60, 64, 67, 0.3), 0px 1px 3px 1px rgba(60, 64, 67, 0.15);\n",
              "      fill: #174EA6;\n",
              "    }\n",
              "\n",
              "    [theme=dark] .colab-df-convert {\n",
              "      background-color: #3B4455;\n",
              "      fill: #D2E3FC;\n",
              "    }\n",
              "\n",
              "    [theme=dark] .colab-df-convert:hover {\n",
              "      background-color: #434B5C;\n",
              "      box-shadow: 0px 1px 3px 1px rgba(0, 0, 0, 0.15);\n",
              "      filter: drop-shadow(0px 1px 2px rgba(0, 0, 0, 0.3));\n",
              "      fill: #FFFFFF;\n",
              "    }\n",
              "  </style>\n",
              "\n",
              "      <script>\n",
              "        const buttonEl =\n",
              "          document.querySelector('#df-c3fcac4d-2e29-499c-b42b-68977555826d button.colab-df-convert');\n",
              "        buttonEl.style.display =\n",
              "          google.colab.kernel.accessAllowed ? 'block' : 'none';\n",
              "\n",
              "        async function convertToInteractive(key) {\n",
              "          const element = document.querySelector('#df-c3fcac4d-2e29-499c-b42b-68977555826d');\n",
              "          const dataTable =\n",
              "            await google.colab.kernel.invokeFunction('convertToInteractive',\n",
              "                                                     [key], {});\n",
              "          if (!dataTable) return;\n",
              "\n",
              "          const docLinkHtml = 'Like what you see? Visit the ' +\n",
              "            '<a target=\"_blank\" href=https://colab.research.google.com/notebooks/data_table.ipynb>data table notebook</a>'\n",
              "            + ' to learn more about interactive tables.';\n",
              "          element.innerHTML = '';\n",
              "          dataTable['output_type'] = 'display_data';\n",
              "          await google.colab.output.renderOutput(dataTable, element);\n",
              "          const docLink = document.createElement('div');\n",
              "          docLink.innerHTML = docLinkHtml;\n",
              "          element.appendChild(docLink);\n",
              "        }\n",
              "      </script>\n",
              "    </div>\n",
              "  </div>\n",
              "  "
            ]
          },
          "metadata": {},
          "execution_count": 125
        }
      ],
      "source": [
        "X.describe()"
      ]
    },
    {
      "cell_type": "code",
      "execution_count": 126,
      "metadata": {
        "hidden": true,
        "id": "3d6BSDaE-QQc",
        "outputId": "4cf3558b-607c-4e3b-825b-038f359d8eaa",
        "colab": {
          "base_uri": "https://localhost:8080/"
        }
      },
      "outputs": [
        {
          "output_type": "execute_result",
          "data": {
            "text/plain": [
              "abdominalextensiondepthsitting      247.25429\n",
              "acromialheight                    1408.630265\n",
              "acromionradialelength               328.07159\n",
              "anklecircumference                 225.201768\n",
              "axillaheight                      1301.902583\n",
              "balloffootcircumference            244.408043\n",
              "balloffootlength                   195.118911\n",
              "biacromialbreadth                  399.706015\n",
              "bicepscircumferenceflexed          341.663027\n",
              "bicristalbreadth                   274.903449\n",
              "bideltoidbreadth                   491.454845\n",
              "bimalleolarbreadth                  72.335413\n",
              "bitragionchinarc                   324.962212\n",
              "bitragionsubmandibulararc           306.67776\n",
              "bizygomaticbreadth                 139.529381\n",
              "buttockcircumference              1022.059456\n",
              "buttockdepth                       242.234356\n",
              "buttockheight                      872.112845\n",
              "buttockkneelength                  610.449991\n",
              "buttockpopliteallength             498.331773\n",
              "calfcircumference                  386.316519\n",
              "cervicaleheight                   1479.952158\n",
              "chestbreadth                       283.232623\n",
              "chestcircumference                1024.206622\n",
              "chestdepth                         252.322586\n",
              "chestheight                       1254.290172\n",
              "crotchheight                       827.105738\n",
              "crotchlengthomphalion              622.693708\n",
              "crotchlengthposterioromphalion     351.880222\n",
              "earbreadth                           35.17542\n",
              "earlength                           62.606171\n",
              "earprotrusion                       22.227249\n",
              "elbowrestheight                    240.553302\n",
              "eyeheightsitting                   786.399203\n",
              "footbreadthhorizontal               98.915063\n",
              "footlength                         263.512394\n",
              "forearmcenterofgriplength          339.458832\n",
              "forearmcircumferenceflexed          295.66164\n",
              "forearmforearmbreadth              553.098284\n",
              "forearmhandlength                  467.898769\n",
              "functionalleglength               1104.347201\n",
              "handbreadth                         85.098111\n",
              "handcircumference                  204.215635\n",
              "handlength                         189.574796\n",
              "headbreadth                        152.043682\n",
              "headcircumference                  570.424337\n",
              "headlength                         196.640839\n",
              "heelanklecircumference             333.274918\n",
              "heelbreadth                         70.834113\n",
              "hipbreadth                         348.930837\n",
              "hipbreadthsitting                  386.417923\n",
              "iliocristaleheight                1042.152366\n",
              "interpupillarybreadth              632.534928\n",
              "interscyei                         412.773964\n",
              "interscyeii                        433.017334\n",
              "kneeheightmidpatella                476.66528\n",
              "kneeheightsitting                  541.376668\n",
              "lateralfemoralepicondyleheight     484.316693\n",
              "lateralmalleolusheight               69.76183\n",
              "lowerthighcircumference            406.943144\n",
              "mentonsellionlength                119.601664\n",
              "neckcircumference                  376.127578\n",
              "neckcircumferencebase              414.554516\n",
              "overheadfingertipreachsitting     1390.525048\n",
              "palmlength                         114.106604\n",
              "poplitealheight                    417.227076\n",
              "radialestylionlength                259.75767\n",
              "shouldercircumference             1131.214422\n",
              "shoulderelbowlength                354.805166\n",
              "shoulderlength                     145.202288\n",
              "sittingheight                      898.592477\n",
              "sleevelengthspinewrist             868.361068\n",
              "sleeveoutseam                      578.013001\n",
              "span                              1766.951118\n",
              "stature                           1716.938984\n",
              "suprasternaleheight               1405.392442\n",
              "tenthribheight                    1101.631479\n",
              "thighcircumference                 623.583637\n",
              "thighclearance                     176.696481\n",
              "thumbtipreach                      791.044548\n",
              "tibialheight                       459.389149\n",
              "tragiontopofhead                   129.580343\n",
              "trochanterionheight                884.659386\n",
              "verticaltrunkcircumferenceusa     1632.470966\n",
              "waistbacklength                    460.990293\n",
              "waistbreadth                        318.40995\n",
              "waistcircumference                 916.817126\n",
              "waistdepth                         230.459178\n",
              "waistfrontlengthsitting            377.352054\n",
              "waistheightomphalion               1033.59109\n",
              "weightkg                           800.981106\n",
              "wristcircumference                 169.308372\n",
              "wristheight                        831.334547\n",
              "Gender                                    NaN\n",
              "SubjectsBirthLocation                     NaN\n",
              "Age                                 29.776391\n",
              "WritingPreference                         NaN\n",
              "Name: mean, dtype: object"
            ]
          },
          "metadata": {},
          "execution_count": 126
        }
      ],
      "source": [
        "mean_human = X.describe(include=\"all\").loc[\"mean\"]\n",
        "mean_human"
      ]
    },
    {
      "cell_type": "code",
      "execution_count": 127,
      "metadata": {
        "id": "jzaYAwjH-QQc"
      },
      "outputs": [],
      "source": [
        "mean_human[\"Gender\"] = \"Male\"\n",
        "mean_human[\"SubjectsBirthLocation\"] = \"California\"\n",
        "mean_human[\"WritingPreference\"] = \"Right hand\""
      ]
    },
    {
      "cell_type": "code",
      "execution_count": 128,
      "metadata": {
        "id": "RtoUKlcr-QQd",
        "outputId": "b434e8a8-8592-4d42-a183-0fea1120bf54",
        "colab": {
          "base_uri": "https://localhost:8080/",
          "height": 145
        }
      },
      "outputs": [
        {
          "output_type": "execute_result",
          "data": {
            "text/plain": [
              "     abdominalextensiondepthsitting acromialheight acromionradialelength anklecircumference axillaheight balloffootcircumference balloffootlength biacromialbreadth bicepscircumferenceflexed bicristalbreadth bideltoidbreadth bimalleolarbreadth bitragionchinarc bitragionsubmandibulararc bizygomaticbreadth buttockcircumference buttockdepth buttockheight buttockkneelength buttockpopliteallength calfcircumference cervicaleheight chestbreadth chestcircumference  chestdepth  chestheight crotchheight crotchlengthomphalion crotchlengthposterioromphalion earbreadth  earlength earprotrusion elbowrestheight eyeheightsitting footbreadthhorizontal  footlength forearmcenterofgriplength forearmcircumferenceflexed forearmforearmbreadth forearmhandlength functionalleglength handbreadth handcircumference  handlength headbreadth headcircumference  headlength heelanklecircumference heelbreadth  hipbreadth hipbreadthsitting iliocristaleheight interpupillarybreadth  interscyei interscyeii  \\\n",
              "mean                      247.25429    1408.630265             328.07159         225.201768  1301.902583              244.408043       195.118911        399.706015                341.663027       274.903449       491.454845          72.335413       324.962212                 306.67776         139.529381          1022.059456   242.234356    872.112845        610.449991             498.331773        386.316519     1479.952158   283.232623        1024.206622  252.322586  1254.290172   827.105738            622.693708                     351.880222   35.17542  62.606171     22.227249      240.553302       786.399203             98.915063  263.512394                339.458832                  295.66164            553.098284        467.898769         1104.347201   85.098111        204.215635  189.574796  152.043682        570.424337  196.640839             333.274918   70.834113  348.930837        386.417923        1042.152366            632.534928  412.773964  433.017334   \n",
              "\n",
              "     kneeheightmidpatella kneeheightsitting lateralfemoralepicondyleheight lateralmalleolusheight lowerthighcircumference mentonsellionlength neckcircumference neckcircumferencebase overheadfingertipreachsitting  palmlength poplitealheight radialestylionlength shouldercircumference shoulderelbowlength shoulderlength sittingheight sleevelengthspinewrist sleeveoutseam         span      stature suprasternaleheight tenthribheight thighcircumference thighclearance thumbtipreach tibialheight tragiontopofhead trochanterionheight verticaltrunkcircumferenceusa waistbacklength waistbreadth waistcircumference  waistdepth waistfrontlengthsitting waistheightomphalion    weightkg wristcircumference wristheight Gender SubjectsBirthLocation        Age WritingPreference  \n",
              "mean            476.66528        541.376668                     484.316693               69.76183              406.943144          119.601664        376.127578            414.554516                   1390.525048  114.106604      417.227076            259.75767           1131.214422          354.805166     145.202288    898.592477             868.361068    578.013001  1766.951118  1716.938984         1405.392442    1101.631479         623.583637     176.696481    791.044548   459.389149       129.580343          884.659386                   1632.470966      460.990293    318.40995         916.817126  230.459178              377.352054           1033.59109  800.981106         169.308372  831.334547   Male            California  29.776391        Right hand  "
            ],
            "text/html": [
              "\n",
              "  <div id=\"df-73cb8ea8-210f-437b-98de-87f7a1214ca9\">\n",
              "    <div class=\"colab-df-container\">\n",
              "      <div>\n",
              "<style scoped>\n",
              "    .dataframe tbody tr th:only-of-type {\n",
              "        vertical-align: middle;\n",
              "    }\n",
              "\n",
              "    .dataframe tbody tr th {\n",
              "        vertical-align: top;\n",
              "    }\n",
              "\n",
              "    .dataframe thead th {\n",
              "        text-align: right;\n",
              "    }\n",
              "</style>\n",
              "<table border=\"1\" class=\"dataframe\">\n",
              "  <thead>\n",
              "    <tr style=\"text-align: right;\">\n",
              "      <th></th>\n",
              "      <th>abdominalextensiondepthsitting</th>\n",
              "      <th>acromialheight</th>\n",
              "      <th>acromionradialelength</th>\n",
              "      <th>anklecircumference</th>\n",
              "      <th>axillaheight</th>\n",
              "      <th>balloffootcircumference</th>\n",
              "      <th>balloffootlength</th>\n",
              "      <th>biacromialbreadth</th>\n",
              "      <th>bicepscircumferenceflexed</th>\n",
              "      <th>bicristalbreadth</th>\n",
              "      <th>bideltoidbreadth</th>\n",
              "      <th>bimalleolarbreadth</th>\n",
              "      <th>bitragionchinarc</th>\n",
              "      <th>bitragionsubmandibulararc</th>\n",
              "      <th>bizygomaticbreadth</th>\n",
              "      <th>buttockcircumference</th>\n",
              "      <th>buttockdepth</th>\n",
              "      <th>buttockheight</th>\n",
              "      <th>buttockkneelength</th>\n",
              "      <th>buttockpopliteallength</th>\n",
              "      <th>calfcircumference</th>\n",
              "      <th>cervicaleheight</th>\n",
              "      <th>chestbreadth</th>\n",
              "      <th>chestcircumference</th>\n",
              "      <th>chestdepth</th>\n",
              "      <th>chestheight</th>\n",
              "      <th>crotchheight</th>\n",
              "      <th>crotchlengthomphalion</th>\n",
              "      <th>crotchlengthposterioromphalion</th>\n",
              "      <th>earbreadth</th>\n",
              "      <th>earlength</th>\n",
              "      <th>earprotrusion</th>\n",
              "      <th>elbowrestheight</th>\n",
              "      <th>eyeheightsitting</th>\n",
              "      <th>footbreadthhorizontal</th>\n",
              "      <th>footlength</th>\n",
              "      <th>forearmcenterofgriplength</th>\n",
              "      <th>forearmcircumferenceflexed</th>\n",
              "      <th>forearmforearmbreadth</th>\n",
              "      <th>forearmhandlength</th>\n",
              "      <th>functionalleglength</th>\n",
              "      <th>handbreadth</th>\n",
              "      <th>handcircumference</th>\n",
              "      <th>handlength</th>\n",
              "      <th>headbreadth</th>\n",
              "      <th>headcircumference</th>\n",
              "      <th>headlength</th>\n",
              "      <th>heelanklecircumference</th>\n",
              "      <th>heelbreadth</th>\n",
              "      <th>hipbreadth</th>\n",
              "      <th>hipbreadthsitting</th>\n",
              "      <th>iliocristaleheight</th>\n",
              "      <th>interpupillarybreadth</th>\n",
              "      <th>interscyei</th>\n",
              "      <th>interscyeii</th>\n",
              "      <th>kneeheightmidpatella</th>\n",
              "      <th>kneeheightsitting</th>\n",
              "      <th>lateralfemoralepicondyleheight</th>\n",
              "      <th>lateralmalleolusheight</th>\n",
              "      <th>lowerthighcircumference</th>\n",
              "      <th>mentonsellionlength</th>\n",
              "      <th>neckcircumference</th>\n",
              "      <th>neckcircumferencebase</th>\n",
              "      <th>overheadfingertipreachsitting</th>\n",
              "      <th>palmlength</th>\n",
              "      <th>poplitealheight</th>\n",
              "      <th>radialestylionlength</th>\n",
              "      <th>shouldercircumference</th>\n",
              "      <th>shoulderelbowlength</th>\n",
              "      <th>shoulderlength</th>\n",
              "      <th>sittingheight</th>\n",
              "      <th>sleevelengthspinewrist</th>\n",
              "      <th>sleeveoutseam</th>\n",
              "      <th>span</th>\n",
              "      <th>stature</th>\n",
              "      <th>suprasternaleheight</th>\n",
              "      <th>tenthribheight</th>\n",
              "      <th>thighcircumference</th>\n",
              "      <th>thighclearance</th>\n",
              "      <th>thumbtipreach</th>\n",
              "      <th>tibialheight</th>\n",
              "      <th>tragiontopofhead</th>\n",
              "      <th>trochanterionheight</th>\n",
              "      <th>verticaltrunkcircumferenceusa</th>\n",
              "      <th>waistbacklength</th>\n",
              "      <th>waistbreadth</th>\n",
              "      <th>waistcircumference</th>\n",
              "      <th>waistdepth</th>\n",
              "      <th>waistfrontlengthsitting</th>\n",
              "      <th>waistheightomphalion</th>\n",
              "      <th>weightkg</th>\n",
              "      <th>wristcircumference</th>\n",
              "      <th>wristheight</th>\n",
              "      <th>Gender</th>\n",
              "      <th>SubjectsBirthLocation</th>\n",
              "      <th>Age</th>\n",
              "      <th>WritingPreference</th>\n",
              "    </tr>\n",
              "  </thead>\n",
              "  <tbody>\n",
              "    <tr>\n",
              "      <th>mean</th>\n",
              "      <td>247.25429</td>\n",
              "      <td>1408.630265</td>\n",
              "      <td>328.07159</td>\n",
              "      <td>225.201768</td>\n",
              "      <td>1301.902583</td>\n",
              "      <td>244.408043</td>\n",
              "      <td>195.118911</td>\n",
              "      <td>399.706015</td>\n",
              "      <td>341.663027</td>\n",
              "      <td>274.903449</td>\n",
              "      <td>491.454845</td>\n",
              "      <td>72.335413</td>\n",
              "      <td>324.962212</td>\n",
              "      <td>306.67776</td>\n",
              "      <td>139.529381</td>\n",
              "      <td>1022.059456</td>\n",
              "      <td>242.234356</td>\n",
              "      <td>872.112845</td>\n",
              "      <td>610.449991</td>\n",
              "      <td>498.331773</td>\n",
              "      <td>386.316519</td>\n",
              "      <td>1479.952158</td>\n",
              "      <td>283.232623</td>\n",
              "      <td>1024.206622</td>\n",
              "      <td>252.322586</td>\n",
              "      <td>1254.290172</td>\n",
              "      <td>827.105738</td>\n",
              "      <td>622.693708</td>\n",
              "      <td>351.880222</td>\n",
              "      <td>35.17542</td>\n",
              "      <td>62.606171</td>\n",
              "      <td>22.227249</td>\n",
              "      <td>240.553302</td>\n",
              "      <td>786.399203</td>\n",
              "      <td>98.915063</td>\n",
              "      <td>263.512394</td>\n",
              "      <td>339.458832</td>\n",
              "      <td>295.66164</td>\n",
              "      <td>553.098284</td>\n",
              "      <td>467.898769</td>\n",
              "      <td>1104.347201</td>\n",
              "      <td>85.098111</td>\n",
              "      <td>204.215635</td>\n",
              "      <td>189.574796</td>\n",
              "      <td>152.043682</td>\n",
              "      <td>570.424337</td>\n",
              "      <td>196.640839</td>\n",
              "      <td>333.274918</td>\n",
              "      <td>70.834113</td>\n",
              "      <td>348.930837</td>\n",
              "      <td>386.417923</td>\n",
              "      <td>1042.152366</td>\n",
              "      <td>632.534928</td>\n",
              "      <td>412.773964</td>\n",
              "      <td>433.017334</td>\n",
              "      <td>476.66528</td>\n",
              "      <td>541.376668</td>\n",
              "      <td>484.316693</td>\n",
              "      <td>69.76183</td>\n",
              "      <td>406.943144</td>\n",
              "      <td>119.601664</td>\n",
              "      <td>376.127578</td>\n",
              "      <td>414.554516</td>\n",
              "      <td>1390.525048</td>\n",
              "      <td>114.106604</td>\n",
              "      <td>417.227076</td>\n",
              "      <td>259.75767</td>\n",
              "      <td>1131.214422</td>\n",
              "      <td>354.805166</td>\n",
              "      <td>145.202288</td>\n",
              "      <td>898.592477</td>\n",
              "      <td>868.361068</td>\n",
              "      <td>578.013001</td>\n",
              "      <td>1766.951118</td>\n",
              "      <td>1716.938984</td>\n",
              "      <td>1405.392442</td>\n",
              "      <td>1101.631479</td>\n",
              "      <td>623.583637</td>\n",
              "      <td>176.696481</td>\n",
              "      <td>791.044548</td>\n",
              "      <td>459.389149</td>\n",
              "      <td>129.580343</td>\n",
              "      <td>884.659386</td>\n",
              "      <td>1632.470966</td>\n",
              "      <td>460.990293</td>\n",
              "      <td>318.40995</td>\n",
              "      <td>916.817126</td>\n",
              "      <td>230.459178</td>\n",
              "      <td>377.352054</td>\n",
              "      <td>1033.59109</td>\n",
              "      <td>800.981106</td>\n",
              "      <td>169.308372</td>\n",
              "      <td>831.334547</td>\n",
              "      <td>Male</td>\n",
              "      <td>California</td>\n",
              "      <td>29.776391</td>\n",
              "      <td>Right hand</td>\n",
              "    </tr>\n",
              "  </tbody>\n",
              "</table>\n",
              "</div>\n",
              "      <button class=\"colab-df-convert\" onclick=\"convertToInteractive('df-73cb8ea8-210f-437b-98de-87f7a1214ca9')\"\n",
              "              title=\"Convert this dataframe to an interactive table.\"\n",
              "              style=\"display:none;\">\n",
              "        \n",
              "  <svg xmlns=\"http://www.w3.org/2000/svg\" height=\"24px\"viewBox=\"0 0 24 24\"\n",
              "       width=\"24px\">\n",
              "    <path d=\"M0 0h24v24H0V0z\" fill=\"none\"/>\n",
              "    <path d=\"M18.56 5.44l.94 2.06.94-2.06 2.06-.94-2.06-.94-.94-2.06-.94 2.06-2.06.94zm-11 1L8.5 8.5l.94-2.06 2.06-.94-2.06-.94L8.5 2.5l-.94 2.06-2.06.94zm10 10l.94 2.06.94-2.06 2.06-.94-2.06-.94-.94-2.06-.94 2.06-2.06.94z\"/><path d=\"M17.41 7.96l-1.37-1.37c-.4-.4-.92-.59-1.43-.59-.52 0-1.04.2-1.43.59L10.3 9.45l-7.72 7.72c-.78.78-.78 2.05 0 2.83L4 21.41c.39.39.9.59 1.41.59.51 0 1.02-.2 1.41-.59l7.78-7.78 2.81-2.81c.8-.78.8-2.07 0-2.86zM5.41 20L4 18.59l7.72-7.72 1.47 1.35L5.41 20z\"/>\n",
              "  </svg>\n",
              "      </button>\n",
              "      \n",
              "  <style>\n",
              "    .colab-df-container {\n",
              "      display:flex;\n",
              "      flex-wrap:wrap;\n",
              "      gap: 12px;\n",
              "    }\n",
              "\n",
              "    .colab-df-convert {\n",
              "      background-color: #E8F0FE;\n",
              "      border: none;\n",
              "      border-radius: 50%;\n",
              "      cursor: pointer;\n",
              "      display: none;\n",
              "      fill: #1967D2;\n",
              "      height: 32px;\n",
              "      padding: 0 0 0 0;\n",
              "      width: 32px;\n",
              "    }\n",
              "\n",
              "    .colab-df-convert:hover {\n",
              "      background-color: #E2EBFA;\n",
              "      box-shadow: 0px 1px 2px rgba(60, 64, 67, 0.3), 0px 1px 3px 1px rgba(60, 64, 67, 0.15);\n",
              "      fill: #174EA6;\n",
              "    }\n",
              "\n",
              "    [theme=dark] .colab-df-convert {\n",
              "      background-color: #3B4455;\n",
              "      fill: #D2E3FC;\n",
              "    }\n",
              "\n",
              "    [theme=dark] .colab-df-convert:hover {\n",
              "      background-color: #434B5C;\n",
              "      box-shadow: 0px 1px 3px 1px rgba(0, 0, 0, 0.15);\n",
              "      filter: drop-shadow(0px 1px 2px rgba(0, 0, 0, 0.3));\n",
              "      fill: #FFFFFF;\n",
              "    }\n",
              "  </style>\n",
              "\n",
              "      <script>\n",
              "        const buttonEl =\n",
              "          document.querySelector('#df-73cb8ea8-210f-437b-98de-87f7a1214ca9 button.colab-df-convert');\n",
              "        buttonEl.style.display =\n",
              "          google.colab.kernel.accessAllowed ? 'block' : 'none';\n",
              "\n",
              "        async function convertToInteractive(key) {\n",
              "          const element = document.querySelector('#df-73cb8ea8-210f-437b-98de-87f7a1214ca9');\n",
              "          const dataTable =\n",
              "            await google.colab.kernel.invokeFunction('convertToInteractive',\n",
              "                                                     [key], {});\n",
              "          if (!dataTable) return;\n",
              "\n",
              "          const docLinkHtml = 'Like what you see? Visit the ' +\n",
              "            '<a target=\"_blank\" href=https://colab.research.google.com/notebooks/data_table.ipynb>data table notebook</a>'\n",
              "            + ' to learn more about interactive tables.';\n",
              "          element.innerHTML = '';\n",
              "          dataTable['output_type'] = 'display_data';\n",
              "          await google.colab.output.renderOutput(dataTable, element);\n",
              "          const docLink = document.createElement('div');\n",
              "          docLink.innerHTML = docLinkHtml;\n",
              "          element.appendChild(docLink);\n",
              "        }\n",
              "      </script>\n",
              "    </div>\n",
              "  </div>\n",
              "  "
            ]
          },
          "metadata": {},
          "execution_count": 128
        }
      ],
      "source": [
        "pd.DataFrame(mean_human).T"
      ]
    },
    {
      "cell_type": "code",
      "execution_count": 129,
      "metadata": {
        "id": "WXJGRVte-QQd",
        "outputId": "7d1156ba-c9de-41bf-f681-ffaa9587594f",
        "colab": {
          "base_uri": "https://localhost:8080/"
        }
      },
      "outputs": [
        {
          "output_type": "execute_result",
          "data": {
            "text/plain": [
              "array(['Hispanic'], dtype=object)"
            ]
          },
          "metadata": {},
          "execution_count": 129
        }
      ],
      "source": [
        "final_model.predict(pd.DataFrame(mean_human).T)"
      ]
    },
    {
      "cell_type": "code",
      "execution_count": 130,
      "metadata": {
        "id": "3zAub2g6-QQd",
        "outputId": "1f6f7197-f477-48d8-caf5-e9e3089403b7",
        "colab": {
          "base_uri": "https://localhost:8080/",
          "height": 35
        }
      },
      "outputs": [
        {
          "output_type": "execute_result",
          "data": {
            "text/plain": [
              "'Hispanic'"
            ],
            "application/vnd.google.colaboratory.intrinsic+json": {
              "type": "string"
            }
          },
          "metadata": {},
          "execution_count": 130
        }
      ],
      "source": [
        "y[201]"
      ]
    },
    {
      "cell_type": "code",
      "execution_count": 131,
      "metadata": {
        "hidden": true,
        "id": "qgsUpDsd-QQd",
        "outputId": "db8373d1-3704-4ef8-91b9-d0a4a65fb4b0",
        "colab": {
          "base_uri": "https://localhost:8080/"
        }
      },
      "outputs": [
        {
          "output_type": "execute_result",
          "data": {
            "text/plain": [
              "array(['Hispanic'], dtype=object)"
            ]
          },
          "metadata": {},
          "execution_count": 131
        }
      ],
      "source": [
        "final_model.predict(X.loc[[201]])"
      ]
    },
    {
      "cell_type": "markdown",
      "metadata": {
        "heading_collapsed": true,
        "id": "RJX9UqXk-QQd"
      },
      "source": [
        "# <p style=\"background-color:#1874CD; font-family:newtimeroman; color:#FFF9ED; font-size:130%; text-align:center; border-radius:10px 10px;\">SMOTE</p>\n",
        "\n",
        "<a id=\"5\"></a>\n",
        "<a href=\"#74\" class=\"btn btn-primary btn-sm\" role=\"button\" aria-pressed=\"true\" \n",
        "style=\"color:blue; background-color:#dfa8e4\" data-toggle=\"popover\">Table of Contents</a>"
      ]
    },
    {
      "cell_type": "markdown",
      "metadata": {
        "heading_collapsed": true,
        "hidden": true,
        "id": "z5V2HQUu-QQe"
      },
      "source": [
        "##  Smote implement (Synthetic Minority Oversampling Technique)"
      ]
    },
    {
      "cell_type": "code",
      "execution_count": 141,
      "metadata": {
        "hidden": true,
        "id": "IVJExE3v-QQe"
      },
      "outputs": [],
      "source": [
        "#!pip install imblearn"
      ]
    },
    {
      "cell_type": "code",
      "execution_count": 142,
      "metadata": {
        "hidden": true,
        "id": "0BBPXJEH-QQe"
      },
      "outputs": [],
      "source": [
        "from imblearn.over_sampling import SMOTE\n",
        "from imblearn.under_sampling import RandomUnderSampler\n",
        "from imblearn.pipeline import Pipeline as imbpipeline"
      ]
    },
    {
      "cell_type": "markdown",
      "metadata": {
        "heading_collapsed": true,
        "hidden": true,
        "id": "teikw5ZB-QQe"
      },
      "source": [
        "## Logistic Regression Over/Under Sampling"
      ]
    },
    {
      "cell_type": "code",
      "execution_count": 143,
      "metadata": {
        "id": "TgU_FkKk-QQe"
      },
      "outputs": [],
      "source": [
        "column_trans = make_column_transformer((OneHotEncoder(handle_unknown=\"ignore\", sparse=False), cat), \n",
        "                                       remainder=MinMaxScaler())"
      ]
    },
    {
      "cell_type": "code",
      "execution_count": 144,
      "metadata": {
        "id": "f5ODk_ho-QQf"
      },
      "outputs": [],
      "source": [
        "over = SMOTE(sampling_strategy={\"Hispanic\": 1038})\n",
        "under = RandomUnderSampler(sampling_strategy={\"White\": 1038})"
      ]
    },
    {
      "cell_type": "code",
      "execution_count": 145,
      "metadata": {
        "id": "ReBrUbOz-QQf"
      },
      "outputs": [],
      "source": [
        "operations = [(\"OneHotEncoder\",column_trans), ('o', over), ('u', under), \n",
        "              (\"log\", LogisticRegression(max_iter=10000,random_state=101))] #(\"scaler\", MinMaxScaler())"
      ]
    },
    {
      "cell_type": "code",
      "execution_count": 146,
      "metadata": {
        "id": "e7PHVqPw-QQf"
      },
      "outputs": [],
      "source": [
        "smote_pipeline = imbpipeline(steps=operations)"
      ]
    },
    {
      "cell_type": "code",
      "execution_count": 147,
      "metadata": {
        "id": "pUhVGL5k-QQf",
        "outputId": "af4329be-957c-495f-c202-2a8d13a87997",
        "colab": {
          "base_uri": "https://localhost:8080/"
        }
      },
      "outputs": [
        {
          "output_type": "execute_result",
          "data": {
            "text/plain": [
              "Pipeline(steps=[('OneHotEncoder',\n",
              "                 ColumnTransformer(remainder=MinMaxScaler(),\n",
              "                                   transformers=[('onehotencoder',\n",
              "                                                  OneHotEncoder(handle_unknown='ignore',\n",
              "                                                                sparse=False),\n",
              "                                                  Index(['Gender', 'SubjectsBirthLocation', 'WritingPreference'], dtype='object'))])),\n",
              "                ('o', SMOTE(sampling_strategy={'Hispanic': 1038})),\n",
              "                ('u', RandomUnderSampler(sampling_strategy={'White': 1038})),\n",
              "                ('log', LogisticRegression(max_iter=10000, random_state=101))])"
            ]
          },
          "metadata": {},
          "execution_count": 147
        }
      ],
      "source": [
        "smote_pipeline.fit(X_train, y_train)"
      ]
    },
    {
      "cell_type": "code",
      "execution_count": 148,
      "metadata": {
        "id": "We7sWrcc-QQf",
        "outputId": "5028fe0b-3dfc-4b71-d9f6-20cdd9e0f55b",
        "colab": {
          "base_uri": "https://localhost:8080/"
        }
      },
      "outputs": [
        {
          "output_type": "stream",
          "name": "stdout",
          "text": [
            "Test_Set\n",
            "[[244   9   7]\n",
            " [  5 112  19]\n",
            " [ 29  86 643]]\n",
            "              precision    recall  f1-score   support\n",
            "\n",
            "       Black       0.88      0.94      0.91       260\n",
            "    Hispanic       0.54      0.82      0.65       136\n",
            "       White       0.96      0.85      0.90       758\n",
            "\n",
            "    accuracy                           0.87      1154\n",
            "   macro avg       0.79      0.87      0.82      1154\n",
            "weighted avg       0.89      0.87      0.87      1154\n",
            "\n",
            "\n",
            "Train_Set\n",
            "[[ 971   34   33]\n",
            " [  27  442   74]\n",
            " [  67  347 2620]]\n",
            "              precision    recall  f1-score   support\n",
            "\n",
            "       Black       0.91      0.94      0.92      1038\n",
            "    Hispanic       0.54      0.81      0.65       543\n",
            "       White       0.96      0.86      0.91      3034\n",
            "\n",
            "    accuracy                           0.87      4615\n",
            "   macro avg       0.80      0.87      0.83      4615\n",
            "weighted avg       0.90      0.87      0.88      4615\n",
            "\n"
          ]
        }
      ],
      "source": [
        "eval_metric(smote_pipeline, X_train, y_train, X_test, y_test)"
      ]
    },
    {
      "cell_type": "code",
      "execution_count": 149,
      "metadata": {
        "id": "63mfK0VH-QQg",
        "outputId": "d8786ef0-5655-4ae4-e727-655c8f808ff5",
        "colab": {
          "base_uri": "https://localhost:8080/"
        }
      },
      "outputs": [
        {
          "output_type": "execute_result",
          "data": {
            "text/plain": [
              "test_f1_Hispanic           0.592678\n",
              "test_precision_Hispanic    0.484169\n",
              "test_recall_Hispanic       0.765926\n",
              "dtype: float64"
            ]
          },
          "metadata": {},
          "execution_count": 149
        }
      ],
      "source": [
        "model = imbpipeline(steps=operations)\n",
        "\n",
        "scores = cross_validate(model, X_train, y_train, scoring = scoring, cv = 10)\n",
        "df_scores = pd.DataFrame(scores, index = range(1, 11))\n",
        "df_scores.mean()[2:]"
      ]
    },
    {
      "cell_type": "markdown",
      "metadata": {
        "id": "oOMCxWbe-QQg"
      },
      "source": [
        "**THE END**"
      ]
    }
  ],
  "metadata": {
    "colab": {
      "name": "soldier_assignment.ipynb",
      "provenance": []
    },
    "hide_input": false,
    "interpreter": {
      "hash": "aee8b7b246df8f9039afb4144a1f6fd8d2ca17a180786b69acc140d282b71a49"
    },
    "kernelspec": {
      "display_name": "Python 3 (ipykernel)",
      "language": "python",
      "name": "python3"
    },
    "language_info": {
      "codemirror_mode": {
        "name": "ipython",
        "version": 3
      },
      "file_extension": ".py",
      "mimetype": "text/x-python",
      "name": "python",
      "nbconvert_exporter": "python",
      "pygments_lexer": "ipython3",
      "version": "3.9.13"
    },
    "toc": {
      "base_numbering": 1,
      "nav_menu": {},
      "number_sections": false,
      "sideBar": false,
      "skip_h1_title": false,
      "title_cell": "Table of Contents",
      "title_sidebar": "Contents",
      "toc_cell": false,
      "toc_position": {
        "height": "739px",
        "left": "32px",
        "top": "111.133px",
        "width": "338.8px"
      },
      "toc_section_display": true,
      "toc_window_display": true
    },
    "varInspector": {
      "cols": {
        "lenName": 16,
        "lenType": 16,
        "lenVar": 40
      },
      "kernels_config": {
        "python": {
          "delete_cmd_postfix": "",
          "delete_cmd_prefix": "del ",
          "library": "var_list.py",
          "varRefreshCmd": "print(var_dic_list())"
        },
        "r": {
          "delete_cmd_postfix": ") ",
          "delete_cmd_prefix": "rm(",
          "library": "var_list.r",
          "varRefreshCmd": "cat(var_dic_list()) "
        }
      },
      "oldHeight": 527,
      "position": {
        "height": "40px",
        "left": "1034px",
        "right": "20px",
        "top": "185px",
        "width": "661px"
      },
      "types_to_exclude": [
        "module",
        "function",
        "builtin_function_or_method",
        "instance",
        "_Feature"
      ],
      "varInspector_section_display": "none",
      "window_display": false
    }
  },
  "nbformat": 4,
  "nbformat_minor": 0
}